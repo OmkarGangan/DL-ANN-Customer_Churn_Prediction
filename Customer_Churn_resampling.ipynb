{
  "nbformat": 4,
  "nbformat_minor": 0,
  "metadata": {
    "colab": {
      "name": "Customer Churn resampling.ipynb",
      "provenance": []
    },
    "kernelspec": {
      "name": "python3",
      "display_name": "Python 3"
    },
    "language_info": {
      "name": "python"
    }
  },
  "cells": [
    {
      "cell_type": "markdown",
      "metadata": {
        "id": "eVxjo9GnFTVS"
      },
      "source": [
        "# Import Libraries"
      ]
    },
    {
      "cell_type": "code",
      "metadata": {
        "id": "p3Hy1S35EKym"
      },
      "source": [
        "import pandas as pd\n",
        "import numpy as np\n",
        "import matplotlib.pyplot as plt\n",
        "import tensorflow as tf\n",
        "\n",
        "from sklearn.model_selection import train_test_split\n",
        "from sklearn.preprocessing import StandardScaler\n",
        "import warnings\n",
        "warnings.filterwarnings('ignore')\n",
        "import seaborn as sns"
      ],
      "execution_count": 99,
      "outputs": []
    },
    {
      "cell_type": "markdown",
      "metadata": {
        "id": "FdYCFexVFeqK"
      },
      "source": [
        "# Read Data"
      ]
    },
    {
      "cell_type": "code",
      "metadata": {
        "id": "_xeOX50HE-US"
      },
      "source": [
        "df = pd.read_csv('/content/drive/MyDrive/Itvedant class/Itvedant Home work/telecom_churn.csv')"
      ],
      "execution_count": 101,
      "outputs": []
    },
    {
      "cell_type": "markdown",
      "metadata": {
        "id": "sjSltnTbFgp0"
      },
      "source": [
        "# Data Inspection"
      ]
    },
    {
      "cell_type": "code",
      "metadata": {
        "colab": {
          "base_uri": "https://localhost:8080/",
          "height": 306
        },
        "id": "I10wZK-RFN3J",
        "outputId": "aa512984-ef5b-4ac4-cb50-8a66009fd592"
      },
      "source": [
        "df.head()"
      ],
      "execution_count": 102,
      "outputs": [
        {
          "output_type": "execute_result",
          "data": {
            "text/html": [
              "<div>\n",
              "<style scoped>\n",
              "    .dataframe tbody tr th:only-of-type {\n",
              "        vertical-align: middle;\n",
              "    }\n",
              "\n",
              "    .dataframe tbody tr th {\n",
              "        vertical-align: top;\n",
              "    }\n",
              "\n",
              "    .dataframe thead th {\n",
              "        text-align: right;\n",
              "    }\n",
              "</style>\n",
              "<table border=\"1\" class=\"dataframe\">\n",
              "  <thead>\n",
              "    <tr style=\"text-align: right;\">\n",
              "      <th></th>\n",
              "      <th>customerID</th>\n",
              "      <th>gender</th>\n",
              "      <th>SeniorCitizen</th>\n",
              "      <th>Partner</th>\n",
              "      <th>Dependents</th>\n",
              "      <th>tenure</th>\n",
              "      <th>PhoneService</th>\n",
              "      <th>MultipleLines</th>\n",
              "      <th>InternetService</th>\n",
              "      <th>OnlineSecurity</th>\n",
              "      <th>OnlineBackup</th>\n",
              "      <th>DeviceProtection</th>\n",
              "      <th>TechSupport</th>\n",
              "      <th>StreamingTV</th>\n",
              "      <th>StreamingMovies</th>\n",
              "      <th>Contract</th>\n",
              "      <th>PaperlessBilling</th>\n",
              "      <th>PaymentMethod</th>\n",
              "      <th>MonthlyCharges</th>\n",
              "      <th>TotalCharges</th>\n",
              "      <th>Churn</th>\n",
              "    </tr>\n",
              "  </thead>\n",
              "  <tbody>\n",
              "    <tr>\n",
              "      <th>0</th>\n",
              "      <td>7590-VHVEG</td>\n",
              "      <td>Female</td>\n",
              "      <td>0</td>\n",
              "      <td>Yes</td>\n",
              "      <td>No</td>\n",
              "      <td>1</td>\n",
              "      <td>No</td>\n",
              "      <td>No phone service</td>\n",
              "      <td>DSL</td>\n",
              "      <td>No</td>\n",
              "      <td>Yes</td>\n",
              "      <td>No</td>\n",
              "      <td>No</td>\n",
              "      <td>No</td>\n",
              "      <td>No</td>\n",
              "      <td>Month-to-month</td>\n",
              "      <td>Yes</td>\n",
              "      <td>Electronic check</td>\n",
              "      <td>29.85</td>\n",
              "      <td>29.85</td>\n",
              "      <td>No</td>\n",
              "    </tr>\n",
              "    <tr>\n",
              "      <th>1</th>\n",
              "      <td>5575-GNVDE</td>\n",
              "      <td>Male</td>\n",
              "      <td>0</td>\n",
              "      <td>No</td>\n",
              "      <td>No</td>\n",
              "      <td>34</td>\n",
              "      <td>Yes</td>\n",
              "      <td>No</td>\n",
              "      <td>DSL</td>\n",
              "      <td>Yes</td>\n",
              "      <td>No</td>\n",
              "      <td>Yes</td>\n",
              "      <td>No</td>\n",
              "      <td>No</td>\n",
              "      <td>No</td>\n",
              "      <td>One year</td>\n",
              "      <td>No</td>\n",
              "      <td>Mailed check</td>\n",
              "      <td>56.95</td>\n",
              "      <td>1889.5</td>\n",
              "      <td>No</td>\n",
              "    </tr>\n",
              "    <tr>\n",
              "      <th>2</th>\n",
              "      <td>3668-QPYBK</td>\n",
              "      <td>Male</td>\n",
              "      <td>0</td>\n",
              "      <td>No</td>\n",
              "      <td>No</td>\n",
              "      <td>2</td>\n",
              "      <td>Yes</td>\n",
              "      <td>No</td>\n",
              "      <td>DSL</td>\n",
              "      <td>Yes</td>\n",
              "      <td>Yes</td>\n",
              "      <td>No</td>\n",
              "      <td>No</td>\n",
              "      <td>No</td>\n",
              "      <td>No</td>\n",
              "      <td>Month-to-month</td>\n",
              "      <td>Yes</td>\n",
              "      <td>Mailed check</td>\n",
              "      <td>53.85</td>\n",
              "      <td>108.15</td>\n",
              "      <td>Yes</td>\n",
              "    </tr>\n",
              "    <tr>\n",
              "      <th>3</th>\n",
              "      <td>7795-CFOCW</td>\n",
              "      <td>Male</td>\n",
              "      <td>0</td>\n",
              "      <td>No</td>\n",
              "      <td>No</td>\n",
              "      <td>45</td>\n",
              "      <td>No</td>\n",
              "      <td>No phone service</td>\n",
              "      <td>DSL</td>\n",
              "      <td>Yes</td>\n",
              "      <td>No</td>\n",
              "      <td>Yes</td>\n",
              "      <td>Yes</td>\n",
              "      <td>No</td>\n",
              "      <td>No</td>\n",
              "      <td>One year</td>\n",
              "      <td>No</td>\n",
              "      <td>Bank transfer (automatic)</td>\n",
              "      <td>42.30</td>\n",
              "      <td>1840.75</td>\n",
              "      <td>No</td>\n",
              "    </tr>\n",
              "    <tr>\n",
              "      <th>4</th>\n",
              "      <td>9237-HQITU</td>\n",
              "      <td>Female</td>\n",
              "      <td>0</td>\n",
              "      <td>No</td>\n",
              "      <td>No</td>\n",
              "      <td>2</td>\n",
              "      <td>Yes</td>\n",
              "      <td>No</td>\n",
              "      <td>Fiber optic</td>\n",
              "      <td>No</td>\n",
              "      <td>No</td>\n",
              "      <td>No</td>\n",
              "      <td>No</td>\n",
              "      <td>No</td>\n",
              "      <td>No</td>\n",
              "      <td>Month-to-month</td>\n",
              "      <td>Yes</td>\n",
              "      <td>Electronic check</td>\n",
              "      <td>70.70</td>\n",
              "      <td>151.65</td>\n",
              "      <td>Yes</td>\n",
              "    </tr>\n",
              "  </tbody>\n",
              "</table>\n",
              "</div>"
            ],
            "text/plain": [
              "   customerID  gender  SeniorCitizen  ... MonthlyCharges TotalCharges  Churn\n",
              "0  7590-VHVEG  Female              0  ...          29.85        29.85     No\n",
              "1  5575-GNVDE    Male              0  ...          56.95       1889.5     No\n",
              "2  3668-QPYBK    Male              0  ...          53.85       108.15    Yes\n",
              "3  7795-CFOCW    Male              0  ...          42.30      1840.75     No\n",
              "4  9237-HQITU  Female              0  ...          70.70       151.65    Yes\n",
              "\n",
              "[5 rows x 21 columns]"
            ]
          },
          "metadata": {
            "tags": []
          },
          "execution_count": 102
        }
      ]
    },
    {
      "cell_type": "code",
      "metadata": {
        "colab": {
          "base_uri": "https://localhost:8080/",
          "height": 0
        },
        "id": "3LA-JW1rFO6e",
        "outputId": "09d10907-171e-4ac3-bfcc-ecb396d314af"
      },
      "source": [
        "df.shape"
      ],
      "execution_count": 103,
      "outputs": [
        {
          "output_type": "execute_result",
          "data": {
            "text/plain": [
              "(7043, 21)"
            ]
          },
          "metadata": {
            "tags": []
          },
          "execution_count": 103
        }
      ]
    },
    {
      "cell_type": "code",
      "metadata": {
        "colab": {
          "base_uri": "https://localhost:8080/",
          "height": 0
        },
        "id": "_qTYuVwVFpj7",
        "outputId": "d235f8d9-deed-49d0-bb8b-5cb4cbf6d4f2"
      },
      "source": [
        "df.info()"
      ],
      "execution_count": 104,
      "outputs": [
        {
          "output_type": "stream",
          "text": [
            "<class 'pandas.core.frame.DataFrame'>\n",
            "RangeIndex: 7043 entries, 0 to 7042\n",
            "Data columns (total 21 columns):\n",
            " #   Column            Non-Null Count  Dtype  \n",
            "---  ------            --------------  -----  \n",
            " 0   customerID        7043 non-null   object \n",
            " 1   gender            7043 non-null   object \n",
            " 2   SeniorCitizen     7043 non-null   int64  \n",
            " 3   Partner           7043 non-null   object \n",
            " 4   Dependents        7043 non-null   object \n",
            " 5   tenure            7043 non-null   int64  \n",
            " 6   PhoneService      7043 non-null   object \n",
            " 7   MultipleLines     7043 non-null   object \n",
            " 8   InternetService   7043 non-null   object \n",
            " 9   OnlineSecurity    7043 non-null   object \n",
            " 10  OnlineBackup      7043 non-null   object \n",
            " 11  DeviceProtection  7043 non-null   object \n",
            " 12  TechSupport       7043 non-null   object \n",
            " 13  StreamingTV       7043 non-null   object \n",
            " 14  StreamingMovies   7043 non-null   object \n",
            " 15  Contract          7043 non-null   object \n",
            " 16  PaperlessBilling  7043 non-null   object \n",
            " 17  PaymentMethod     7043 non-null   object \n",
            " 18  MonthlyCharges    7043 non-null   float64\n",
            " 19  TotalCharges      7043 non-null   object \n",
            " 20  Churn             7043 non-null   object \n",
            "dtypes: float64(1), int64(2), object(18)\n",
            "memory usage: 1.1+ MB\n"
          ],
          "name": "stdout"
        }
      ]
    },
    {
      "cell_type": "markdown",
      "metadata": {
        "id": "En_66MDCSL2n"
      },
      "source": [
        "There is some string in TotalCharges column, converting that string to missing values and other string to float."
      ]
    },
    {
      "cell_type": "code",
      "metadata": {
        "id": "7_CgCS-yPyY4"
      },
      "source": [
        "def tofloat(x):\n",
        "  try:\n",
        "    a = float(x)\n",
        "    return a\n",
        "  except:\n",
        "    return np.nan"
      ],
      "execution_count": 105,
      "outputs": []
    },
    {
      "cell_type": "code",
      "metadata": {
        "id": "_rAG_lwYPUr0"
      },
      "source": [
        "df.TotalCharges = df.TotalCharges.apply(tofloat)"
      ],
      "execution_count": 106,
      "outputs": []
    },
    {
      "cell_type": "markdown",
      "metadata": {
        "id": "v2IcJemWqMxh"
      },
      "source": [
        "Looking unique values"
      ]
    },
    {
      "cell_type": "code",
      "metadata": {
        "colab": {
          "base_uri": "https://localhost:8080/",
          "height": 0
        },
        "id": "Trl171pNqRpW",
        "outputId": "c8f00329-64a2-4557-c7d1-9a76fa022f5b"
      },
      "source": [
        "category_cols = []\n",
        "for x in df.columns:\n",
        "  if df[x].dtypes=='O':\n",
        "    print(x,df[x].unique())\n",
        "    print()"
      ],
      "execution_count": 107,
      "outputs": [
        {
          "output_type": "stream",
          "text": [
            "customerID ['7590-VHVEG' '5575-GNVDE' '3668-QPYBK' ... '4801-JZAZL' '8361-LTMKD'\n",
            " '3186-AJIEK']\n",
            "\n",
            "gender ['Female' 'Male']\n",
            "\n",
            "Partner ['Yes' 'No']\n",
            "\n",
            "Dependents ['No' 'Yes']\n",
            "\n",
            "PhoneService ['No' 'Yes']\n",
            "\n",
            "MultipleLines ['No phone service' 'No' 'Yes']\n",
            "\n",
            "InternetService ['DSL' 'Fiber optic' 'No']\n",
            "\n",
            "OnlineSecurity ['No' 'Yes' 'No internet service']\n",
            "\n",
            "OnlineBackup ['Yes' 'No' 'No internet service']\n",
            "\n",
            "DeviceProtection ['No' 'Yes' 'No internet service']\n",
            "\n",
            "TechSupport ['No' 'Yes' 'No internet service']\n",
            "\n",
            "StreamingTV ['No' 'Yes' 'No internet service']\n",
            "\n",
            "StreamingMovies ['No' 'Yes' 'No internet service']\n",
            "\n",
            "Contract ['Month-to-month' 'One year' 'Two year']\n",
            "\n",
            "PaperlessBilling ['Yes' 'No']\n",
            "\n",
            "PaymentMethod ['Electronic check' 'Mailed check' 'Bank transfer (automatic)'\n",
            " 'Credit card (automatic)']\n",
            "\n",
            "Churn ['No' 'Yes']\n",
            "\n"
          ],
          "name": "stdout"
        }
      ]
    },
    {
      "cell_type": "markdown",
      "metadata": {
        "id": "YzH1_5AMqywU"
      },
      "source": [
        "Replacing No internet service and No phone service with No\n"
      ]
    },
    {
      "cell_type": "code",
      "metadata": {
        "id": "6WAZ2WboqyLW"
      },
      "source": [
        "df.replace('No internet service','No',inplace=True)\n",
        "df.replace('No phone service','No',inplace=True)"
      ],
      "execution_count": 108,
      "outputs": []
    },
    {
      "cell_type": "code",
      "metadata": {
        "colab": {
          "base_uri": "https://localhost:8080/",
          "height": 0
        },
        "id": "V5wUBx0_rLTl",
        "outputId": "c722125f-d04b-41e2-fcdc-463e2e32a1e0"
      },
      "source": [
        "category_cols = []\n",
        "for x in df.columns:\n",
        "  if df[x].dtypes=='O':\n",
        "    print(x,df[x].unique())\n",
        "    print()"
      ],
      "execution_count": 109,
      "outputs": [
        {
          "output_type": "stream",
          "text": [
            "customerID ['7590-VHVEG' '5575-GNVDE' '3668-QPYBK' ... '4801-JZAZL' '8361-LTMKD'\n",
            " '3186-AJIEK']\n",
            "\n",
            "gender ['Female' 'Male']\n",
            "\n",
            "Partner ['Yes' 'No']\n",
            "\n",
            "Dependents ['No' 'Yes']\n",
            "\n",
            "PhoneService ['No' 'Yes']\n",
            "\n",
            "MultipleLines ['No' 'Yes']\n",
            "\n",
            "InternetService ['DSL' 'Fiber optic' 'No']\n",
            "\n",
            "OnlineSecurity ['No' 'Yes']\n",
            "\n",
            "OnlineBackup ['Yes' 'No']\n",
            "\n",
            "DeviceProtection ['No' 'Yes']\n",
            "\n",
            "TechSupport ['No' 'Yes']\n",
            "\n",
            "StreamingTV ['No' 'Yes']\n",
            "\n",
            "StreamingMovies ['No' 'Yes']\n",
            "\n",
            "Contract ['Month-to-month' 'One year' 'Two year']\n",
            "\n",
            "PaperlessBilling ['Yes' 'No']\n",
            "\n",
            "PaymentMethod ['Electronic check' 'Mailed check' 'Bank transfer (automatic)'\n",
            " 'Credit card (automatic)']\n",
            "\n",
            "Churn ['No' 'Yes']\n",
            "\n"
          ],
          "name": "stdout"
        }
      ]
    },
    {
      "cell_type": "markdown",
      "metadata": {
        "id": "9IbUgVRqHXsL"
      },
      "source": [
        "# Checking Null Values"
      ]
    },
    {
      "cell_type": "code",
      "metadata": {
        "colab": {
          "base_uri": "https://localhost:8080/",
          "height": 0
        },
        "id": "bLim22c5GJb5",
        "outputId": "9acf0ced-6aa1-4bac-ccf7-5ccd4fbf691a"
      },
      "source": [
        "df.isna().sum()"
      ],
      "execution_count": 110,
      "outputs": [
        {
          "output_type": "execute_result",
          "data": {
            "text/plain": [
              "customerID           0\n",
              "gender               0\n",
              "SeniorCitizen        0\n",
              "Partner              0\n",
              "Dependents           0\n",
              "tenure               0\n",
              "PhoneService         0\n",
              "MultipleLines        0\n",
              "InternetService      0\n",
              "OnlineSecurity       0\n",
              "OnlineBackup         0\n",
              "DeviceProtection     0\n",
              "TechSupport          0\n",
              "StreamingTV          0\n",
              "StreamingMovies      0\n",
              "Contract             0\n",
              "PaperlessBilling     0\n",
              "PaymentMethod        0\n",
              "MonthlyCharges       0\n",
              "TotalCharges        11\n",
              "Churn                0\n",
              "dtype: int64"
            ]
          },
          "metadata": {
            "tags": []
          },
          "execution_count": 110
        }
      ]
    },
    {
      "cell_type": "markdown",
      "metadata": {
        "id": "CoacKtmirVqH"
      },
      "source": [
        "Handling Missing Values"
      ]
    },
    {
      "cell_type": "code",
      "metadata": {
        "colab": {
          "base_uri": "https://localhost:8080/",
          "height": 0
        },
        "id": "C8DJZu4cdxof",
        "outputId": "30898bd2-e601-4920-da98-f609a6ce7036"
      },
      "source": [
        "round(df.TotalCharges.median(),2)"
      ],
      "execution_count": 111,
      "outputs": [
        {
          "output_type": "execute_result",
          "data": {
            "text/plain": [
              "1397.47"
            ]
          },
          "metadata": {
            "tags": []
          },
          "execution_count": 111
        }
      ]
    },
    {
      "cell_type": "code",
      "metadata": {
        "id": "bqOYv6Q0dtVL"
      },
      "source": [
        "df.TotalCharges.fillna(round(df.TotalCharges.median(),2),inplace=True)"
      ],
      "execution_count": 112,
      "outputs": []
    },
    {
      "cell_type": "markdown",
      "metadata": {
        "id": "-6ym4xUBHcfu"
      },
      "source": [
        "No Null Values now. Data is clean."
      ]
    },
    {
      "cell_type": "markdown",
      "metadata": {
        "id": "pl2bJkejHfnD"
      },
      "source": [
        "# Checking Outliers"
      ]
    },
    {
      "cell_type": "code",
      "metadata": {
        "colab": {
          "base_uri": "https://localhost:8080/",
          "height": 281
        },
        "id": "lvv0YGhBO_ZK",
        "outputId": "73ec9450-ed31-4bec-f44d-bfb82687e5f9"
      },
      "source": [
        "df.plot(kind='box')"
      ],
      "execution_count": 113,
      "outputs": [
        {
          "output_type": "execute_result",
          "data": {
            "text/plain": [
              "<matplotlib.axes._subplots.AxesSubplot at 0x7f7e76f2db10>"
            ]
          },
          "metadata": {
            "tags": []
          },
          "execution_count": 113
        },
        {
          "output_type": "display_data",
          "data": {
            "image/png": "[encoded data removed]",
            "text/plain": [
              "<Figure size 432x288 with 1 Axes>"
            ]
          },
          "metadata": {
            "tags": [],
            "needs_background": "light"
          }
        }
      ]
    },
    {
      "cell_type": "markdown",
      "metadata": {
        "id": "iau2JJK9eUD9"
      },
      "source": [
        "No Outliers in the dataset."
      ]
    },
    {
      "cell_type": "markdown",
      "metadata": {
        "id": "VLGkxev8hqhB"
      },
      "source": [
        "# Target Variable"
      ]
    },
    {
      "cell_type": "code",
      "metadata": {
        "id": "bGQt6ZvVPHMH",
        "colab": {
          "base_uri": "https://localhost:8080/",
          "height": 306
        },
        "outputId": "e9154e81-6488-4e7a-b166-a21d6e8e56e2"
      },
      "source": [
        "df.head()"
      ],
      "execution_count": 114,
      "outputs": [
        {
          "output_type": "execute_result",
          "data": {
            "text/html": [
              "<div>\n",
              "<style scoped>\n",
              "    .dataframe tbody tr th:only-of-type {\n",
              "        vertical-align: middle;\n",
              "    }\n",
              "\n",
              "    .dataframe tbody tr th {\n",
              "        vertical-align: top;\n",
              "    }\n",
              "\n",
              "    .dataframe thead th {\n",
              "        text-align: right;\n",
              "    }\n",
              "</style>\n",
              "<table border=\"1\" class=\"dataframe\">\n",
              "  <thead>\n",
              "    <tr style=\"text-align: right;\">\n",
              "      <th></th>\n",
              "      <th>customerID</th>\n",
              "      <th>gender</th>\n",
              "      <th>SeniorCitizen</th>\n",
              "      <th>Partner</th>\n",
              "      <th>Dependents</th>\n",
              "      <th>tenure</th>\n",
              "      <th>PhoneService</th>\n",
              "      <th>MultipleLines</th>\n",
              "      <th>InternetService</th>\n",
              "      <th>OnlineSecurity</th>\n",
              "      <th>OnlineBackup</th>\n",
              "      <th>DeviceProtection</th>\n",
              "      <th>TechSupport</th>\n",
              "      <th>StreamingTV</th>\n",
              "      <th>StreamingMovies</th>\n",
              "      <th>Contract</th>\n",
              "      <th>PaperlessBilling</th>\n",
              "      <th>PaymentMethod</th>\n",
              "      <th>MonthlyCharges</th>\n",
              "      <th>TotalCharges</th>\n",
              "      <th>Churn</th>\n",
              "    </tr>\n",
              "  </thead>\n",
              "  <tbody>\n",
              "    <tr>\n",
              "      <th>0</th>\n",
              "      <td>7590-VHVEG</td>\n",
              "      <td>Female</td>\n",
              "      <td>0</td>\n",
              "      <td>Yes</td>\n",
              "      <td>No</td>\n",
              "      <td>1</td>\n",
              "      <td>No</td>\n",
              "      <td>No</td>\n",
              "      <td>DSL</td>\n",
              "      <td>No</td>\n",
              "      <td>Yes</td>\n",
              "      <td>No</td>\n",
              "      <td>No</td>\n",
              "      <td>No</td>\n",
              "      <td>No</td>\n",
              "      <td>Month-to-month</td>\n",
              "      <td>Yes</td>\n",
              "      <td>Electronic check</td>\n",
              "      <td>29.85</td>\n",
              "      <td>29.85</td>\n",
              "      <td>No</td>\n",
              "    </tr>\n",
              "    <tr>\n",
              "      <th>1</th>\n",
              "      <td>5575-GNVDE</td>\n",
              "      <td>Male</td>\n",
              "      <td>0</td>\n",
              "      <td>No</td>\n",
              "      <td>No</td>\n",
              "      <td>34</td>\n",
              "      <td>Yes</td>\n",
              "      <td>No</td>\n",
              "      <td>DSL</td>\n",
              "      <td>Yes</td>\n",
              "      <td>No</td>\n",
              "      <td>Yes</td>\n",
              "      <td>No</td>\n",
              "      <td>No</td>\n",
              "      <td>No</td>\n",
              "      <td>One year</td>\n",
              "      <td>No</td>\n",
              "      <td>Mailed check</td>\n",
              "      <td>56.95</td>\n",
              "      <td>1889.50</td>\n",
              "      <td>No</td>\n",
              "    </tr>\n",
              "    <tr>\n",
              "      <th>2</th>\n",
              "      <td>3668-QPYBK</td>\n",
              "      <td>Male</td>\n",
              "      <td>0</td>\n",
              "      <td>No</td>\n",
              "      <td>No</td>\n",
              "      <td>2</td>\n",
              "      <td>Yes</td>\n",
              "      <td>No</td>\n",
              "      <td>DSL</td>\n",
              "      <td>Yes</td>\n",
              "      <td>Yes</td>\n",
              "      <td>No</td>\n",
              "      <td>No</td>\n",
              "      <td>No</td>\n",
              "      <td>No</td>\n",
              "      <td>Month-to-month</td>\n",
              "      <td>Yes</td>\n",
              "      <td>Mailed check</td>\n",
              "      <td>53.85</td>\n",
              "      <td>108.15</td>\n",
              "      <td>Yes</td>\n",
              "    </tr>\n",
              "    <tr>\n",
              "      <th>3</th>\n",
              "      <td>7795-CFOCW</td>\n",
              "      <td>Male</td>\n",
              "      <td>0</td>\n",
              "      <td>No</td>\n",
              "      <td>No</td>\n",
              "      <td>45</td>\n",
              "      <td>No</td>\n",
              "      <td>No</td>\n",
              "      <td>DSL</td>\n",
              "      <td>Yes</td>\n",
              "      <td>No</td>\n",
              "      <td>Yes</td>\n",
              "      <td>Yes</td>\n",
              "      <td>No</td>\n",
              "      <td>No</td>\n",
              "      <td>One year</td>\n",
              "      <td>No</td>\n",
              "      <td>Bank transfer (automatic)</td>\n",
              "      <td>42.30</td>\n",
              "      <td>1840.75</td>\n",
              "      <td>No</td>\n",
              "    </tr>\n",
              "    <tr>\n",
              "      <th>4</th>\n",
              "      <td>9237-HQITU</td>\n",
              "      <td>Female</td>\n",
              "      <td>0</td>\n",
              "      <td>No</td>\n",
              "      <td>No</td>\n",
              "      <td>2</td>\n",
              "      <td>Yes</td>\n",
              "      <td>No</td>\n",
              "      <td>Fiber optic</td>\n",
              "      <td>No</td>\n",
              "      <td>No</td>\n",
              "      <td>No</td>\n",
              "      <td>No</td>\n",
              "      <td>No</td>\n",
              "      <td>No</td>\n",
              "      <td>Month-to-month</td>\n",
              "      <td>Yes</td>\n",
              "      <td>Electronic check</td>\n",
              "      <td>70.70</td>\n",
              "      <td>151.65</td>\n",
              "      <td>Yes</td>\n",
              "    </tr>\n",
              "  </tbody>\n",
              "</table>\n",
              "</div>"
            ],
            "text/plain": [
              "   customerID  gender  SeniorCitizen  ... MonthlyCharges TotalCharges  Churn\n",
              "0  7590-VHVEG  Female              0  ...          29.85        29.85     No\n",
              "1  5575-GNVDE    Male              0  ...          56.95      1889.50     No\n",
              "2  3668-QPYBK    Male              0  ...          53.85       108.15    Yes\n",
              "3  7795-CFOCW    Male              0  ...          42.30      1840.75     No\n",
              "4  9237-HQITU  Female              0  ...          70.70       151.65    Yes\n",
              "\n",
              "[5 rows x 21 columns]"
            ]
          },
          "metadata": {
            "tags": []
          },
          "execution_count": 114
        }
      ]
    },
    {
      "cell_type": "code",
      "metadata": {
        "colab": {
          "base_uri": "https://localhost:8080/",
          "height": 0
        },
        "id": "k9URTkpReaXL",
        "outputId": "edad48fa-4285-4ea8-aeb9-5f73506e63c7"
      },
      "source": [
        "df.Churn.value_counts()"
      ],
      "execution_count": 115,
      "outputs": [
        {
          "output_type": "execute_result",
          "data": {
            "text/plain": [
              "No     5174\n",
              "Yes    1869\n",
              "Name: Churn, dtype: int64"
            ]
          },
          "metadata": {
            "tags": []
          },
          "execution_count": 115
        }
      ]
    },
    {
      "cell_type": "code",
      "metadata": {
        "id": "2qwiWQnAed9H"
      },
      "source": [
        "Y = df.Churn"
      ],
      "execution_count": 116,
      "outputs": []
    },
    {
      "cell_type": "code",
      "metadata": {
        "colab": {
          "base_uri": "https://localhost:8080/",
          "height": 0
        },
        "id": "ptkbTSjAeoVs",
        "outputId": "dfc69f83-a4b4-49b4-e592-d465cc961561"
      },
      "source": [
        "Y"
      ],
      "execution_count": 117,
      "outputs": [
        {
          "output_type": "execute_result",
          "data": {
            "text/plain": [
              "0        No\n",
              "1        No\n",
              "2       Yes\n",
              "3        No\n",
              "4       Yes\n",
              "       ... \n",
              "7038     No\n",
              "7039     No\n",
              "7040     No\n",
              "7041    Yes\n",
              "7042     No\n",
              "Name: Churn, Length: 7043, dtype: object"
            ]
          },
          "metadata": {
            "tags": []
          },
          "execution_count": 117
        }
      ]
    },
    {
      "cell_type": "code",
      "metadata": {
        "id": "CdMgHIcanldQ"
      },
      "source": [
        "Y = Y.map({'Yes':1,'No':0})"
      ],
      "execution_count": 118,
      "outputs": []
    },
    {
      "cell_type": "markdown",
      "metadata": {
        "id": "KDAxWdXfh1aI"
      },
      "source": [
        "Yes = 1 = Customer will stop the service \\\n",
        "No  = 0 = Customer will continue the service \\\n",
        "\n",
        "FALSE NEGATIVE IS CRITICAL IN THIS CASE.\n",
        "RECALL VALUE SHOULD BE CLOSE TO 1"
      ]
    },
    {
      "cell_type": "code",
      "metadata": {
        "id": "-mxFClXQyJb2"
      },
      "source": [
        ""
      ],
      "execution_count": 118,
      "outputs": []
    },
    {
      "cell_type": "markdown",
      "metadata": {
        "id": "kl-XM-izx0ok"
      },
      "source": [
        "Building Neural Network Models with following re-sampling techniques and observing the recall value:\n",
        "\n",
        "1.   Without Re-sampling Techniques (Actual)\n",
        "2.   Under Sampling\n",
        "3.   Over Sampling\n",
        "4.   SMOTE\n",
        "5.   ADASYN\n",
        "6.   SMOTE+TOMEK\n",
        "7.   SMOTE+ENN\n",
        "\n"
      ]
    },
    {
      "cell_type": "code",
      "metadata": {
        "id": "M3vIEQ8ghxL4"
      },
      "source": [
        "# Input Variables\n",
        "X = df.drop('Churn',axis=1)"
      ],
      "execution_count": 119,
      "outputs": []
    },
    {
      "cell_type": "markdown",
      "metadata": {
        "id": "yYPz1zV0oxG8"
      },
      "source": [
        "# Label Encoding of X"
      ]
    },
    {
      "cell_type": "code",
      "metadata": {
        "colab": {
          "base_uri": "https://localhost:8080/",
          "height": 0
        },
        "id": "6YGmt8eaou1p",
        "outputId": "3c2eabc7-ff69-4fcf-9024-8092dacbdd64"
      },
      "source": [
        "cols = []\n",
        "for x in X.columns:\n",
        "  if X[x].dtypes == 'O':\n",
        "    cols.append(x)\n",
        "cols"
      ],
      "execution_count": 120,
      "outputs": [
        {
          "output_type": "execute_result",
          "data": {
            "text/plain": [
              "['customerID',\n",
              " 'gender',\n",
              " 'Partner',\n",
              " 'Dependents',\n",
              " 'PhoneService',\n",
              " 'MultipleLines',\n",
              " 'InternetService',\n",
              " 'OnlineSecurity',\n",
              " 'OnlineBackup',\n",
              " 'DeviceProtection',\n",
              " 'TechSupport',\n",
              " 'StreamingTV',\n",
              " 'StreamingMovies',\n",
              " 'Contract',\n",
              " 'PaperlessBilling',\n",
              " 'PaymentMethod']"
            ]
          },
          "metadata": {
            "tags": []
          },
          "execution_count": 120
        }
      ]
    },
    {
      "cell_type": "code",
      "metadata": {
        "id": "kGs5OmdYo7sw"
      },
      "source": [
        "from sklearn.preprocessing import LabelEncoder\n",
        "le = LabelEncoder()\n",
        "for x in cols:\n",
        "  X[x] = le.fit_transform(X[x])"
      ],
      "execution_count": 121,
      "outputs": []
    },
    {
      "cell_type": "code",
      "metadata": {
        "id": "piSGMCg4pHGA"
      },
      "source": [
        ""
      ],
      "execution_count": 121,
      "outputs": []
    },
    {
      "cell_type": "markdown",
      "metadata": {
        "id": "LBcCh3stpoux"
      },
      "source": [
        "# Split the Data"
      ]
    },
    {
      "cell_type": "code",
      "metadata": {
        "id": "opqneIU_pInv"
      },
      "source": [
        "X_train,X_test,Y_train,Y_test = train_test_split(X,Y,test_size=0.3,random_state=1)"
      ],
      "execution_count": 122,
      "outputs": []
    },
    {
      "cell_type": "markdown",
      "metadata": {
        "id": "kW53-byPpudk"
      },
      "source": [
        "# Scaling of X"
      ]
    },
    {
      "cell_type": "code",
      "metadata": {
        "id": "ifQJ8oTgKA0V"
      },
      "source": [
        "ind = X_train.index"
      ],
      "execution_count": 123,
      "outputs": []
    },
    {
      "cell_type": "code",
      "metadata": {
        "id": "4UKMOS5jpbDR"
      },
      "source": [
        "from sklearn.preprocessing import StandardScaler\n",
        "ss = StandardScaler()\n",
        "X_train = ss.fit_transform(X_train)\n",
        "X_test = ss.transform(X_test)"
      ],
      "execution_count": 124,
      "outputs": []
    },
    {
      "cell_type": "code",
      "metadata": {
        "id": "rsYzK8LuwW8R"
      },
      "source": [
        "X_train = pd.DataFrame(X_train,columns=X.columns,index=ind)"
      ],
      "execution_count": 125,
      "outputs": []
    },
    {
      "cell_type": "code",
      "metadata": {
        "id": "p15rPJ_swncu"
      },
      "source": [
        "Y_train = pd.DataFrame(Y_train)"
      ],
      "execution_count": 126,
      "outputs": []
    },
    {
      "cell_type": "code",
      "metadata": {
        "colab": {
          "base_uri": "https://localhost:8080/",
          "height": 435
        },
        "id": "EAernbD_ySdI",
        "outputId": "405a24f5-de49-4920-c179-5b7412ea8b91"
      },
      "source": [
        "X_train"
      ],
      "execution_count": 127,
      "outputs": [
        {
          "output_type": "execute_result",
          "data": {
            "text/html": [
              "<div>\n",
              "<style scoped>\n",
              "    .dataframe tbody tr th:only-of-type {\n",
              "        vertical-align: middle;\n",
              "    }\n",
              "\n",
              "    .dataframe tbody tr th {\n",
              "        vertical-align: top;\n",
              "    }\n",
              "\n",
              "    .dataframe thead th {\n",
              "        text-align: right;\n",
              "    }\n",
              "</style>\n",
              "<table border=\"1\" class=\"dataframe\">\n",
              "  <thead>\n",
              "    <tr style=\"text-align: right;\">\n",
              "      <th></th>\n",
              "      <th>customerID</th>\n",
              "      <th>gender</th>\n",
              "      <th>SeniorCitizen</th>\n",
              "      <th>Partner</th>\n",
              "      <th>Dependents</th>\n",
              "      <th>tenure</th>\n",
              "      <th>PhoneService</th>\n",
              "      <th>MultipleLines</th>\n",
              "      <th>InternetService</th>\n",
              "      <th>OnlineSecurity</th>\n",
              "      <th>OnlineBackup</th>\n",
              "      <th>DeviceProtection</th>\n",
              "      <th>TechSupport</th>\n",
              "      <th>StreamingTV</th>\n",
              "      <th>StreamingMovies</th>\n",
              "      <th>Contract</th>\n",
              "      <th>PaperlessBilling</th>\n",
              "      <th>PaymentMethod</th>\n",
              "      <th>MonthlyCharges</th>\n",
              "      <th>TotalCharges</th>\n",
              "    </tr>\n",
              "  </thead>\n",
              "  <tbody>\n",
              "    <tr>\n",
              "      <th>5925</th>\n",
              "      <td>-1.121642</td>\n",
              "      <td>0.994337</td>\n",
              "      <td>-0.43979</td>\n",
              "      <td>-0.952835</td>\n",
              "      <td>-0.644551</td>\n",
              "      <td>-0.497482</td>\n",
              "      <td>0.326149</td>\n",
              "      <td>1.167151</td>\n",
              "      <td>-1.189694</td>\n",
              "      <td>-0.629762</td>\n",
              "      <td>1.390244</td>\n",
              "      <td>-0.722547</td>\n",
              "      <td>1.578449</td>\n",
              "      <td>1.266622</td>\n",
              "      <td>-0.804131</td>\n",
              "      <td>0.384266</td>\n",
              "      <td>0.827583</td>\n",
              "      <td>0.393711</td>\n",
              "      <td>0.129755</td>\n",
              "      <td>-0.379352</td>\n",
              "    </tr>\n",
              "    <tr>\n",
              "      <th>4395</th>\n",
              "      <td>0.196581</td>\n",
              "      <td>-1.005696</td>\n",
              "      <td>-0.43979</td>\n",
              "      <td>1.049500</td>\n",
              "      <td>1.551467</td>\n",
              "      <td>1.498180</td>\n",
              "      <td>0.326149</td>\n",
              "      <td>1.167151</td>\n",
              "      <td>0.167047</td>\n",
              "      <td>-0.629762</td>\n",
              "      <td>1.390244</td>\n",
              "      <td>1.383992</td>\n",
              "      <td>-0.633533</td>\n",
              "      <td>1.266622</td>\n",
              "      <td>1.243579</td>\n",
              "      <td>-0.822377</td>\n",
              "      <td>0.827583</td>\n",
              "      <td>0.393711</td>\n",
              "      <td>1.299897</td>\n",
              "      <td>2.278741</td>\n",
              "    </tr>\n",
              "    <tr>\n",
              "      <th>1579</th>\n",
              "      <td>1.528140</td>\n",
              "      <td>0.994337</td>\n",
              "      <td>2.27381</td>\n",
              "      <td>1.049500</td>\n",
              "      <td>-0.644551</td>\n",
              "      <td>-0.823305</td>\n",
              "      <td>0.326149</td>\n",
              "      <td>-0.856787</td>\n",
              "      <td>0.167047</td>\n",
              "      <td>-0.629762</td>\n",
              "      <td>-0.719298</td>\n",
              "      <td>-0.722547</td>\n",
              "      <td>-0.633533</td>\n",
              "      <td>-0.789501</td>\n",
              "      <td>1.243579</td>\n",
              "      <td>-0.822377</td>\n",
              "      <td>0.827583</td>\n",
              "      <td>0.393711</td>\n",
              "      <td>0.519802</td>\n",
              "      <td>-0.584746</td>\n",
              "    </tr>\n",
              "    <tr>\n",
              "      <th>1040</th>\n",
              "      <td>-1.314264</td>\n",
              "      <td>0.994337</td>\n",
              "      <td>2.27381</td>\n",
              "      <td>-0.952835</td>\n",
              "      <td>-0.644551</td>\n",
              "      <td>-0.741849</td>\n",
              "      <td>0.326149</td>\n",
              "      <td>-0.856787</td>\n",
              "      <td>0.167047</td>\n",
              "      <td>-0.629762</td>\n",
              "      <td>-0.719298</td>\n",
              "      <td>-0.722547</td>\n",
              "      <td>-0.633533</td>\n",
              "      <td>1.266622</td>\n",
              "      <td>1.243579</td>\n",
              "      <td>-0.822377</td>\n",
              "      <td>-1.208338</td>\n",
              "      <td>-0.546238</td>\n",
              "      <td>0.851757</td>\n",
              "      <td>-0.445510</td>\n",
              "    </tr>\n",
              "    <tr>\n",
              "      <th>1074</th>\n",
              "      <td>-1.027307</td>\n",
              "      <td>0.994337</td>\n",
              "      <td>-0.43979</td>\n",
              "      <td>-0.952835</td>\n",
              "      <td>-0.644551</td>\n",
              "      <td>-1.271311</td>\n",
              "      <td>0.326149</td>\n",
              "      <td>-0.856787</td>\n",
              "      <td>1.523787</td>\n",
              "      <td>-0.629762</td>\n",
              "      <td>-0.719298</td>\n",
              "      <td>-0.722547</td>\n",
              "      <td>-0.633533</td>\n",
              "      <td>-0.789501</td>\n",
              "      <td>-0.804131</td>\n",
              "      <td>-0.822377</td>\n",
              "      <td>-1.208338</td>\n",
              "      <td>1.333661</td>\n",
              "      <td>-1.450350</td>\n",
              "      <td>-0.994256</td>\n",
              "    </tr>\n",
              "    <tr>\n",
              "      <th>...</th>\n",
              "      <td>...</td>\n",
              "      <td>...</td>\n",
              "      <td>...</td>\n",
              "      <td>...</td>\n",
              "      <td>...</td>\n",
              "      <td>...</td>\n",
              "      <td>...</td>\n",
              "      <td>...</td>\n",
              "      <td>...</td>\n",
              "      <td>...</td>\n",
              "      <td>...</td>\n",
              "      <td>...</td>\n",
              "      <td>...</td>\n",
              "      <td>...</td>\n",
              "      <td>...</td>\n",
              "      <td>...</td>\n",
              "      <td>...</td>\n",
              "      <td>...</td>\n",
              "      <td>...</td>\n",
              "      <td>...</td>\n",
              "    </tr>\n",
              "    <tr>\n",
              "      <th>905</th>\n",
              "      <td>-1.472806</td>\n",
              "      <td>0.994337</td>\n",
              "      <td>2.27381</td>\n",
              "      <td>-0.952835</td>\n",
              "      <td>-0.644551</td>\n",
              "      <td>-0.945488</td>\n",
              "      <td>0.326149</td>\n",
              "      <td>1.167151</td>\n",
              "      <td>0.167047</td>\n",
              "      <td>-0.629762</td>\n",
              "      <td>-0.719298</td>\n",
              "      <td>1.383992</td>\n",
              "      <td>-0.633533</td>\n",
              "      <td>1.266622</td>\n",
              "      <td>1.243579</td>\n",
              "      <td>-0.822377</td>\n",
              "      <td>0.827583</td>\n",
              "      <td>0.393711</td>\n",
              "      <td>1.185372</td>\n",
              "      <td>-0.598674</td>\n",
              "    </tr>\n",
              "    <tr>\n",
              "      <th>5192</th>\n",
              "      <td>-0.526491</td>\n",
              "      <td>0.994337</td>\n",
              "      <td>-0.43979</td>\n",
              "      <td>-0.952835</td>\n",
              "      <td>1.551467</td>\n",
              "      <td>1.131630</td>\n",
              "      <td>0.326149</td>\n",
              "      <td>-0.856787</td>\n",
              "      <td>1.523787</td>\n",
              "      <td>-0.629762</td>\n",
              "      <td>-0.719298</td>\n",
              "      <td>-0.722547</td>\n",
              "      <td>-0.633533</td>\n",
              "      <td>-0.789501</td>\n",
              "      <td>-0.804131</td>\n",
              "      <td>1.590908</td>\n",
              "      <td>-1.208338</td>\n",
              "      <td>1.333661</td>\n",
              "      <td>-1.488525</td>\n",
              "      <td>-0.479096</td>\n",
              "    </tr>\n",
              "    <tr>\n",
              "      <th>3980</th>\n",
              "      <td>1.359226</td>\n",
              "      <td>0.994337</td>\n",
              "      <td>-0.43979</td>\n",
              "      <td>-0.952835</td>\n",
              "      <td>-0.644551</td>\n",
              "      <td>-0.171660</td>\n",
              "      <td>0.326149</td>\n",
              "      <td>1.167151</td>\n",
              "      <td>0.167047</td>\n",
              "      <td>-0.629762</td>\n",
              "      <td>1.390244</td>\n",
              "      <td>1.383992</td>\n",
              "      <td>-0.633533</td>\n",
              "      <td>1.266622</td>\n",
              "      <td>1.243579</td>\n",
              "      <td>-0.822377</td>\n",
              "      <td>0.827583</td>\n",
              "      <td>0.393711</td>\n",
              "      <td>1.357989</td>\n",
              "      <td>0.309689</td>\n",
              "    </tr>\n",
              "    <tr>\n",
              "      <th>235</th>\n",
              "      <td>-1.309819</td>\n",
              "      <td>0.994337</td>\n",
              "      <td>-0.43979</td>\n",
              "      <td>-0.952835</td>\n",
              "      <td>-0.644551</td>\n",
              "      <td>-1.230583</td>\n",
              "      <td>0.326149</td>\n",
              "      <td>1.167151</td>\n",
              "      <td>-1.189694</td>\n",
              "      <td>-0.629762</td>\n",
              "      <td>1.390244</td>\n",
              "      <td>-0.722547</td>\n",
              "      <td>-0.633533</td>\n",
              "      <td>-0.789501</td>\n",
              "      <td>-0.804131</td>\n",
              "      <td>-0.822377</td>\n",
              "      <td>0.827583</td>\n",
              "      <td>1.333661</td>\n",
              "      <td>-0.344940</td>\n",
              "      <td>-0.953266</td>\n",
              "    </tr>\n",
              "    <tr>\n",
              "      <th>5157</th>\n",
              "      <td>0.304252</td>\n",
              "      <td>-1.005696</td>\n",
              "      <td>-0.43979</td>\n",
              "      <td>1.049500</td>\n",
              "      <td>1.551467</td>\n",
              "      <td>-0.660394</td>\n",
              "      <td>0.326149</td>\n",
              "      <td>-0.856787</td>\n",
              "      <td>-1.189694</td>\n",
              "      <td>1.587901</td>\n",
              "      <td>1.390244</td>\n",
              "      <td>-0.722547</td>\n",
              "      <td>1.578449</td>\n",
              "      <td>-0.789501</td>\n",
              "      <td>1.243579</td>\n",
              "      <td>1.590908</td>\n",
              "      <td>-1.208338</td>\n",
              "      <td>-1.486188</td>\n",
              "      <td>0.114817</td>\n",
              "      <td>-0.512175</td>\n",
              "    </tr>\n",
              "  </tbody>\n",
              "</table>\n",
              "<p>4930 rows × 20 columns</p>\n",
              "</div>"
            ],
            "text/plain": [
              "      customerID    gender  ...  MonthlyCharges  TotalCharges\n",
              "5925   -1.121642  0.994337  ...        0.129755     -0.379352\n",
              "4395    0.196581 -1.005696  ...        1.299897      2.278741\n",
              "1579    1.528140  0.994337  ...        0.519802     -0.584746\n",
              "1040   -1.314264  0.994337  ...        0.851757     -0.445510\n",
              "1074   -1.027307  0.994337  ...       -1.450350     -0.994256\n",
              "...          ...       ...  ...             ...           ...\n",
              "905    -1.472806  0.994337  ...        1.185372     -0.598674\n",
              "5192   -0.526491  0.994337  ...       -1.488525     -0.479096\n",
              "3980    1.359226  0.994337  ...        1.357989      0.309689\n",
              "235    -1.309819  0.994337  ...       -0.344940     -0.953266\n",
              "5157    0.304252 -1.005696  ...        0.114817     -0.512175\n",
              "\n",
              "[4930 rows x 20 columns]"
            ]
          },
          "metadata": {
            "tags": []
          },
          "execution_count": 127
        }
      ]
    },
    {
      "cell_type": "code",
      "metadata": {
        "colab": {
          "base_uri": "https://localhost:8080/",
          "height": 415
        },
        "id": "THrT0KRqyU2r",
        "outputId": "95dd6963-518c-452e-a428-892aeac26dce"
      },
      "source": [
        "Y_train"
      ],
      "execution_count": 128,
      "outputs": [
        {
          "output_type": "execute_result",
          "data": {
            "text/html": [
              "<div>\n",
              "<style scoped>\n",
              "    .dataframe tbody tr th:only-of-type {\n",
              "        vertical-align: middle;\n",
              "    }\n",
              "\n",
              "    .dataframe tbody tr th {\n",
              "        vertical-align: top;\n",
              "    }\n",
              "\n",
              "    .dataframe thead th {\n",
              "        text-align: right;\n",
              "    }\n",
              "</style>\n",
              "<table border=\"1\" class=\"dataframe\">\n",
              "  <thead>\n",
              "    <tr style=\"text-align: right;\">\n",
              "      <th></th>\n",
              "      <th>Churn</th>\n",
              "    </tr>\n",
              "  </thead>\n",
              "  <tbody>\n",
              "    <tr>\n",
              "      <th>5925</th>\n",
              "      <td>0</td>\n",
              "    </tr>\n",
              "    <tr>\n",
              "      <th>4395</th>\n",
              "      <td>1</td>\n",
              "    </tr>\n",
              "    <tr>\n",
              "      <th>1579</th>\n",
              "      <td>1</td>\n",
              "    </tr>\n",
              "    <tr>\n",
              "      <th>1040</th>\n",
              "      <td>1</td>\n",
              "    </tr>\n",
              "    <tr>\n",
              "      <th>1074</th>\n",
              "      <td>0</td>\n",
              "    </tr>\n",
              "    <tr>\n",
              "      <th>...</th>\n",
              "      <td>...</td>\n",
              "    </tr>\n",
              "    <tr>\n",
              "      <th>905</th>\n",
              "      <td>1</td>\n",
              "    </tr>\n",
              "    <tr>\n",
              "      <th>5192</th>\n",
              "      <td>0</td>\n",
              "    </tr>\n",
              "    <tr>\n",
              "      <th>3980</th>\n",
              "      <td>1</td>\n",
              "    </tr>\n",
              "    <tr>\n",
              "      <th>235</th>\n",
              "      <td>1</td>\n",
              "    </tr>\n",
              "    <tr>\n",
              "      <th>5157</th>\n",
              "      <td>0</td>\n",
              "    </tr>\n",
              "  </tbody>\n",
              "</table>\n",
              "<p>4930 rows × 1 columns</p>\n",
              "</div>"
            ],
            "text/plain": [
              "      Churn\n",
              "5925      0\n",
              "4395      1\n",
              "1579      1\n",
              "1040      1\n",
              "1074      0\n",
              "...     ...\n",
              "905       1\n",
              "5192      0\n",
              "3980      1\n",
              "235       1\n",
              "5157      0\n",
              "\n",
              "[4930 rows x 1 columns]"
            ]
          },
          "metadata": {
            "tags": []
          },
          "execution_count": 128
        }
      ]
    },
    {
      "cell_type": "markdown",
      "metadata": {
        "id": "hXQTkswdp7Xg"
      },
      "source": [
        "# Neural Network"
      ]
    },
    {
      "cell_type": "markdown",
      "metadata": {
        "id": "fq_kiP2zyk4j"
      },
      "source": [
        "1. Without Re-sampling Techniques\n"
      ]
    },
    {
      "cell_type": "code",
      "metadata": {
        "id": "Y_W_zLhGp4_6"
      },
      "source": [
        "from tensorflow.keras.models import Sequential\n",
        "from tensorflow.keras.layers import Dense"
      ],
      "execution_count": 129,
      "outputs": []
    },
    {
      "cell_type": "code",
      "metadata": {
        "colab": {
          "base_uri": "https://localhost:8080/",
          "height": 0
        },
        "id": "OmtBEuF5qA3j",
        "outputId": "5d5d090d-f91d-48f4-ce95-979a1c620251"
      },
      "source": [
        "X.shape[1]"
      ],
      "execution_count": 130,
      "outputs": [
        {
          "output_type": "execute_result",
          "data": {
            "text/plain": [
              "20"
            ]
          },
          "metadata": {
            "tags": []
          },
          "execution_count": 130
        }
      ]
    },
    {
      "cell_type": "code",
      "metadata": {
        "id": "NH-nqK9op9Eu"
      },
      "source": [
        "model = Sequential()\n",
        "model.add(Dense(8, activation=\"relu\", input_dim=X.shape[1]))\n",
        "model.add(Dense(8, activation=\"relu\"))\n",
        "model.add(Dense(8, activation=\"relu\"))\n",
        "model.add(Dense(1, activation=\"sigmoid\"))"
      ],
      "execution_count": 131,
      "outputs": []
    },
    {
      "cell_type": "code",
      "metadata": {
        "id": "y77P-_1eqE0v"
      },
      "source": [
        "model.compile(optimizer=\"adam\", loss=\"binary_crossentropy\")"
      ],
      "execution_count": 132,
      "outputs": []
    },
    {
      "cell_type": "code",
      "metadata": {
        "colab": {
          "base_uri": "https://localhost:8080/",
          "height": 0
        },
        "id": "D-N5bwJjqGT6",
        "outputId": "ed15a2b5-b2ce-496c-9f78-8a932f58ef0c"
      },
      "source": [
        "trained_model = model.fit(X_train, Y_train, epochs=150,batch_size=20)"
      ],
      "execution_count": 133,
      "outputs": [
        {
          "output_type": "stream",
          "text": [
            "Epoch 1/150\n",
            "247/247 [==============================] - 1s 1ms/step - loss: 0.5283\n",
            "Epoch 2/150\n",
            "247/247 [==============================] - 0s 1ms/step - loss: 0.4588\n",
            "Epoch 3/150\n",
            "247/247 [==============================] - 0s 1ms/step - loss: 0.4464\n",
            "Epoch 4/150\n",
            "247/247 [==============================] - 0s 1ms/step - loss: 0.4403\n",
            "Epoch 5/150\n",
            "247/247 [==============================] - 0s 1ms/step - loss: 0.4362\n",
            "Epoch 6/150\n",
            "247/247 [==============================] - 0s 1ms/step - loss: 0.4330\n",
            "Epoch 7/150\n",
            "247/247 [==============================] - 0s 1ms/step - loss: 0.4314\n",
            "Epoch 8/150\n",
            "247/247 [==============================] - 0s 1ms/step - loss: 0.4287\n",
            "Epoch 9/150\n",
            "247/247 [==============================] - 0s 1ms/step - loss: 0.4268\n",
            "Epoch 10/150\n",
            "247/247 [==============================] - 0s 1ms/step - loss: 0.4256\n",
            "Epoch 11/150\n",
            "247/247 [==============================] - 0s 1ms/step - loss: 0.4248\n",
            "Epoch 12/150\n",
            "247/247 [==============================] - 0s 1ms/step - loss: 0.4233\n",
            "Epoch 13/150\n",
            "247/247 [==============================] - 0s 1ms/step - loss: 0.4221\n",
            "Epoch 14/150\n",
            "247/247 [==============================] - 0s 1ms/step - loss: 0.4213\n",
            "Epoch 15/150\n",
            "247/247 [==============================] - 0s 1ms/step - loss: 0.4191\n",
            "Epoch 16/150\n",
            "247/247 [==============================] - 0s 1ms/step - loss: 0.4188\n",
            "Epoch 17/150\n",
            "247/247 [==============================] - 0s 1ms/step - loss: 0.4181\n",
            "Epoch 18/150\n",
            "247/247 [==============================] - 0s 1ms/step - loss: 0.4169\n",
            "Epoch 19/150\n",
            "247/247 [==============================] - 0s 1ms/step - loss: 0.4161\n",
            "Epoch 20/150\n",
            "247/247 [==============================] - 0s 1ms/step - loss: 0.4153\n",
            "Epoch 21/150\n",
            "247/247 [==============================] - 0s 1ms/step - loss: 0.4145\n",
            "Epoch 22/150\n",
            "247/247 [==============================] - 0s 1ms/step - loss: 0.4137\n",
            "Epoch 23/150\n",
            "247/247 [==============================] - 0s 1ms/step - loss: 0.4138\n",
            "Epoch 24/150\n",
            "247/247 [==============================] - 0s 1ms/step - loss: 0.4125\n",
            "Epoch 25/150\n",
            "247/247 [==============================] - 0s 1ms/step - loss: 0.4125\n",
            "Epoch 26/150\n",
            "247/247 [==============================] - 0s 1ms/step - loss: 0.4115\n",
            "Epoch 27/150\n",
            "247/247 [==============================] - 0s 1ms/step - loss: 0.4105\n",
            "Epoch 28/150\n",
            "247/247 [==============================] - 0s 1ms/step - loss: 0.4103\n",
            "Epoch 29/150\n",
            "247/247 [==============================] - 0s 1ms/step - loss: 0.4100\n",
            "Epoch 30/150\n",
            "247/247 [==============================] - 0s 1ms/step - loss: 0.4093\n",
            "Epoch 31/150\n",
            "247/247 [==============================] - 0s 1ms/step - loss: 0.4091\n",
            "Epoch 32/150\n",
            "247/247 [==============================] - 0s 1ms/step - loss: 0.4078\n",
            "Epoch 33/150\n",
            "247/247 [==============================] - 0s 1ms/step - loss: 0.4074\n",
            "Epoch 34/150\n",
            "247/247 [==============================] - 0s 1ms/step - loss: 0.4069\n",
            "Epoch 35/150\n",
            "247/247 [==============================] - 0s 1ms/step - loss: 0.4065\n",
            "Epoch 36/150\n",
            "247/247 [==============================] - 0s 1ms/step - loss: 0.4064\n",
            "Epoch 37/150\n",
            "247/247 [==============================] - 0s 1ms/step - loss: 0.4063\n",
            "Epoch 38/150\n",
            "247/247 [==============================] - 0s 1ms/step - loss: 0.4050\n",
            "Epoch 39/150\n",
            "247/247 [==============================] - 0s 1ms/step - loss: 0.4049\n",
            "Epoch 40/150\n",
            "247/247 [==============================] - 0s 1ms/step - loss: 0.4048\n",
            "Epoch 41/150\n",
            "247/247 [==============================] - 0s 1ms/step - loss: 0.4043\n",
            "Epoch 42/150\n",
            "247/247 [==============================] - 0s 1ms/step - loss: 0.4034\n",
            "Epoch 43/150\n",
            "247/247 [==============================] - 0s 1ms/step - loss: 0.4041\n",
            "Epoch 44/150\n",
            "247/247 [==============================] - 0s 1ms/step - loss: 0.4031\n",
            "Epoch 45/150\n",
            "247/247 [==============================] - 0s 1ms/step - loss: 0.4028\n",
            "Epoch 46/150\n",
            "247/247 [==============================] - 0s 1ms/step - loss: 0.4014\n",
            "Epoch 47/150\n",
            "247/247 [==============================] - 0s 1ms/step - loss: 0.4022\n",
            "Epoch 48/150\n",
            "247/247 [==============================] - 0s 1ms/step - loss: 0.4018\n",
            "Epoch 49/150\n",
            "247/247 [==============================] - 0s 1ms/step - loss: 0.4014\n",
            "Epoch 50/150\n",
            "247/247 [==============================] - 0s 1ms/step - loss: 0.4011\n",
            "Epoch 51/150\n",
            "247/247 [==============================] - 0s 1ms/step - loss: 0.4004\n",
            "Epoch 52/150\n",
            "247/247 [==============================] - 0s 1ms/step - loss: 0.4009\n",
            "Epoch 53/150\n",
            "247/247 [==============================] - 0s 1ms/step - loss: 0.3998\n",
            "Epoch 54/150\n",
            "247/247 [==============================] - 0s 1ms/step - loss: 0.4010\n",
            "Epoch 55/150\n",
            "247/247 [==============================] - 0s 1ms/step - loss: 0.4001\n",
            "Epoch 56/150\n",
            "247/247 [==============================] - 0s 1ms/step - loss: 0.3993\n",
            "Epoch 57/150\n",
            "247/247 [==============================] - 0s 1ms/step - loss: 0.3984\n",
            "Epoch 58/150\n",
            "247/247 [==============================] - 0s 1ms/step - loss: 0.3991\n",
            "Epoch 59/150\n",
            "247/247 [==============================] - 0s 1ms/step - loss: 0.3985\n",
            "Epoch 60/150\n",
            "247/247 [==============================] - 0s 1ms/step - loss: 0.3977\n",
            "Epoch 61/150\n",
            "247/247 [==============================] - 0s 1ms/step - loss: 0.3977\n",
            "Epoch 62/150\n",
            "247/247 [==============================] - 0s 1ms/step - loss: 0.3971\n",
            "Epoch 63/150\n",
            "247/247 [==============================] - 0s 1ms/step - loss: 0.3972\n",
            "Epoch 64/150\n",
            "247/247 [==============================] - 0s 1ms/step - loss: 0.3967\n",
            "Epoch 65/150\n",
            "247/247 [==============================] - 0s 1ms/step - loss: 0.3958\n",
            "Epoch 66/150\n",
            "247/247 [==============================] - 0s 1ms/step - loss: 0.3956\n",
            "Epoch 67/150\n",
            "247/247 [==============================] - 0s 1ms/step - loss: 0.3964\n",
            "Epoch 68/150\n",
            "247/247 [==============================] - 0s 1ms/step - loss: 0.3957\n",
            "Epoch 69/150\n",
            "247/247 [==============================] - 0s 1ms/step - loss: 0.3957\n",
            "Epoch 70/150\n",
            "247/247 [==============================] - 0s 1ms/step - loss: 0.3947\n",
            "Epoch 71/150\n",
            "247/247 [==============================] - 0s 1ms/step - loss: 0.3941\n",
            "Epoch 72/150\n",
            "247/247 [==============================] - 0s 1ms/step - loss: 0.3952\n",
            "Epoch 73/150\n",
            "247/247 [==============================] - 0s 1ms/step - loss: 0.3942\n",
            "Epoch 74/150\n",
            "247/247 [==============================] - 0s 1ms/step - loss: 0.3943\n",
            "Epoch 75/150\n",
            "247/247 [==============================] - 0s 1ms/step - loss: 0.3933\n",
            "Epoch 76/150\n",
            "247/247 [==============================] - 0s 1ms/step - loss: 0.3931\n",
            "Epoch 77/150\n",
            "247/247 [==============================] - 0s 1ms/step - loss: 0.3931\n",
            "Epoch 78/150\n",
            "247/247 [==============================] - 0s 1ms/step - loss: 0.3927\n",
            "Epoch 79/150\n",
            "247/247 [==============================] - 0s 1ms/step - loss: 0.3925\n",
            "Epoch 80/150\n",
            "247/247 [==============================] - 0s 1ms/step - loss: 0.3925\n",
            "Epoch 81/150\n",
            "247/247 [==============================] - 0s 1ms/step - loss: 0.3918\n",
            "Epoch 82/150\n",
            "247/247 [==============================] - 0s 1ms/step - loss: 0.3925\n",
            "Epoch 83/150\n",
            "247/247 [==============================] - 0s 1ms/step - loss: 0.3923\n",
            "Epoch 84/150\n",
            "247/247 [==============================] - 0s 1ms/step - loss: 0.3920\n",
            "Epoch 85/150\n",
            "247/247 [==============================] - 0s 1ms/step - loss: 0.3916\n",
            "Epoch 86/150\n",
            "247/247 [==============================] - 0s 1ms/step - loss: 0.3920\n",
            "Epoch 87/150\n",
            "247/247 [==============================] - 0s 1ms/step - loss: 0.3904\n",
            "Epoch 88/150\n",
            "247/247 [==============================] - 0s 1ms/step - loss: 0.3907\n",
            "Epoch 89/150\n",
            "247/247 [==============================] - 0s 1ms/step - loss: 0.3899\n",
            "Epoch 90/150\n",
            "247/247 [==============================] - 0s 1ms/step - loss: 0.3896\n",
            "Epoch 91/150\n",
            "247/247 [==============================] - 0s 1ms/step - loss: 0.3895\n",
            "Epoch 92/150\n",
            "247/247 [==============================] - 0s 1ms/step - loss: 0.3905\n",
            "Epoch 93/150\n",
            "247/247 [==============================] - 0s 1ms/step - loss: 0.3901\n",
            "Epoch 94/150\n",
            "247/247 [==============================] - 0s 1ms/step - loss: 0.3896\n",
            "Epoch 95/150\n",
            "247/247 [==============================] - 0s 1ms/step - loss: 0.3894\n",
            "Epoch 96/150\n",
            "247/247 [==============================] - 0s 1ms/step - loss: 0.3899\n",
            "Epoch 97/150\n",
            "247/247 [==============================] - 0s 1ms/step - loss: 0.3891\n",
            "Epoch 98/150\n",
            "247/247 [==============================] - 0s 1ms/step - loss: 0.3882\n",
            "Epoch 99/150\n",
            "247/247 [==============================] - 0s 1ms/step - loss: 0.3883\n",
            "Epoch 100/150\n",
            "247/247 [==============================] - 0s 1ms/step - loss: 0.3878\n",
            "Epoch 101/150\n",
            "247/247 [==============================] - 0s 1ms/step - loss: 0.3890\n",
            "Epoch 102/150\n",
            "247/247 [==============================] - 0s 1ms/step - loss: 0.3879\n",
            "Epoch 103/150\n",
            "247/247 [==============================] - 0s 1ms/step - loss: 0.3880\n",
            "Epoch 104/150\n",
            "247/247 [==============================] - 0s 1ms/step - loss: 0.3882\n",
            "Epoch 105/150\n",
            "247/247 [==============================] - 0s 1ms/step - loss: 0.3879\n",
            "Epoch 106/150\n",
            "247/247 [==============================] - 0s 1ms/step - loss: 0.3873\n",
            "Epoch 107/150\n",
            "247/247 [==============================] - 0s 1ms/step - loss: 0.3876\n",
            "Epoch 108/150\n",
            "247/247 [==============================] - 0s 1ms/step - loss: 0.3876\n",
            "Epoch 109/150\n",
            "247/247 [==============================] - 0s 1ms/step - loss: 0.3883\n",
            "Epoch 110/150\n",
            "247/247 [==============================] - 0s 1ms/step - loss: 0.3867\n",
            "Epoch 111/150\n",
            "247/247 [==============================] - 0s 1ms/step - loss: 0.3871\n",
            "Epoch 112/150\n",
            "247/247 [==============================] - 0s 1ms/step - loss: 0.3867\n",
            "Epoch 113/150\n",
            "247/247 [==============================] - 0s 1ms/step - loss: 0.3856\n",
            "Epoch 114/150\n",
            "247/247 [==============================] - 0s 1ms/step - loss: 0.3861\n",
            "Epoch 115/150\n",
            "247/247 [==============================] - 0s 1ms/step - loss: 0.3858\n",
            "Epoch 116/150\n",
            "247/247 [==============================] - 0s 1ms/step - loss: 0.3855\n",
            "Epoch 117/150\n",
            "247/247 [==============================] - 0s 1ms/step - loss: 0.3860\n",
            "Epoch 118/150\n",
            "247/247 [==============================] - 0s 1ms/step - loss: 0.3854\n",
            "Epoch 119/150\n",
            "247/247 [==============================] - 0s 1ms/step - loss: 0.3853\n",
            "Epoch 120/150\n",
            "247/247 [==============================] - 0s 1ms/step - loss: 0.3849\n",
            "Epoch 121/150\n",
            "247/247 [==============================] - 0s 1ms/step - loss: 0.3856\n",
            "Epoch 122/150\n",
            "247/247 [==============================] - 0s 1ms/step - loss: 0.3848\n",
            "Epoch 123/150\n",
            "247/247 [==============================] - 0s 1ms/step - loss: 0.3844\n",
            "Epoch 124/150\n",
            "247/247 [==============================] - 0s 1ms/step - loss: 0.3842\n",
            "Epoch 125/150\n",
            "247/247 [==============================] - 0s 1ms/step - loss: 0.3834\n",
            "Epoch 126/150\n",
            "247/247 [==============================] - 0s 1ms/step - loss: 0.3842\n",
            "Epoch 127/150\n",
            "247/247 [==============================] - 0s 1ms/step - loss: 0.3832\n",
            "Epoch 128/150\n",
            "247/247 [==============================] - 0s 1ms/step - loss: 0.3836\n",
            "Epoch 129/150\n",
            "247/247 [==============================] - 0s 1ms/step - loss: 0.3832\n",
            "Epoch 130/150\n",
            "247/247 [==============================] - 0s 1ms/step - loss: 0.3830\n",
            "Epoch 131/150\n",
            "247/247 [==============================] - 0s 1ms/step - loss: 0.3837\n",
            "Epoch 132/150\n",
            "247/247 [==============================] - 0s 1ms/step - loss: 0.3832\n",
            "Epoch 133/150\n",
            "247/247 [==============================] - 0s 1ms/step - loss: 0.3827\n",
            "Epoch 134/150\n",
            "247/247 [==============================] - 0s 1ms/step - loss: 0.3824\n",
            "Epoch 135/150\n",
            "247/247 [==============================] - 0s 1ms/step - loss: 0.3819\n",
            "Epoch 136/150\n",
            "247/247 [==============================] - 0s 1ms/step - loss: 0.3837\n",
            "Epoch 137/150\n",
            "247/247 [==============================] - 0s 1ms/step - loss: 0.3833\n",
            "Epoch 138/150\n",
            "247/247 [==============================] - 0s 1ms/step - loss: 0.3821\n",
            "Epoch 139/150\n",
            "247/247 [==============================] - 0s 1ms/step - loss: 0.3815\n",
            "Epoch 140/150\n",
            "247/247 [==============================] - 0s 1ms/step - loss: 0.3815\n",
            "Epoch 141/150\n",
            "247/247 [==============================] - 0s 1ms/step - loss: 0.3823\n",
            "Epoch 142/150\n",
            "247/247 [==============================] - 0s 1ms/step - loss: 0.3818\n",
            "Epoch 143/150\n",
            "247/247 [==============================] - 0s 1ms/step - loss: 0.3811\n",
            "Epoch 144/150\n",
            "247/247 [==============================] - 0s 1ms/step - loss: 0.3821\n",
            "Epoch 145/150\n",
            "247/247 [==============================] - 0s 1ms/step - loss: 0.3802\n",
            "Epoch 146/150\n",
            "247/247 [==============================] - 0s 1ms/step - loss: 0.3806\n",
            "Epoch 147/150\n",
            "247/247 [==============================] - 0s 1ms/step - loss: 0.3804\n",
            "Epoch 148/150\n",
            "247/247 [==============================] - 0s 1ms/step - loss: 0.3806\n",
            "Epoch 149/150\n",
            "247/247 [==============================] - 0s 1ms/step - loss: 0.3804\n",
            "Epoch 150/150\n",
            "247/247 [==============================] - 0s 1ms/step - loss: 0.3798\n"
          ],
          "name": "stdout"
        }
      ]
    },
    {
      "cell_type": "code",
      "metadata": {
        "colab": {
          "base_uri": "https://localhost:8080/",
          "height": 281
        },
        "id": "UMul_PipqKs_",
        "outputId": "99331b3c-ed80-49ac-bc47-5f4bf3c9aec9"
      },
      "source": [
        "plt.plot(trained_model.history[\"loss\"])"
      ],
      "execution_count": 134,
      "outputs": [
        {
          "output_type": "execute_result",
          "data": {
            "text/plain": [
              "[<matplotlib.lines.Line2D at 0x7f7e7331f6d0>]"
            ]
          },
          "metadata": {
            "tags": []
          },
          "execution_count": 134
        },
        {
          "output_type": "display_data",
          "data": {
            "image/png": "[encoded data removed]",
            "text/plain": [
              "<Figure size 432x288 with 1 Axes>"
            ]
          },
          "metadata": {
            "tags": [],
            "needs_background": "light"
          }
        }
      ]
    },
    {
      "cell_type": "markdown",
      "metadata": {
        "id": "MOvEaHigqSwl"
      },
      "source": [
        "# Prediction"
      ]
    },
    {
      "cell_type": "code",
      "metadata": {
        "id": "xK60jFuuqP5r"
      },
      "source": [
        "Y_pred = model.predict(X_test)"
      ],
      "execution_count": 135,
      "outputs": []
    },
    {
      "cell_type": "code",
      "metadata": {
        "id": "NX8oCMAKqT2y"
      },
      "source": [
        "Y_pred = np.where(Y_pred >= 0.5,1,0)"
      ],
      "execution_count": 136,
      "outputs": []
    },
    {
      "cell_type": "markdown",
      "metadata": {
        "id": "8wzHT2NPqXpB"
      },
      "source": [
        "# Evaluation"
      ]
    },
    {
      "cell_type": "code",
      "metadata": {
        "colab": {
          "base_uri": "https://localhost:8080/",
          "height": 0
        },
        "id": "KsR8ySxCqWLF",
        "outputId": "426c7b14-fd2e-401f-8b41-1d40bb946b1e"
      },
      "source": [
        "from sklearn.metrics import classification_report,recall_score,f1_score,precision_score,accuracy_score\n",
        "print(classification_report(Y_test,Y_pred))\n",
        "actual_acc = accuracy_score(Y_test,Y_pred)\n",
        "actual_rec = recall_score(Y_test,Y_pred)\n",
        "actual_p = precision_score(Y_test,Y_pred)\n",
        "actual_f1 = f1_score(Y_test,Y_pred)\n",
        "print('Recall ->',actual_rec)\n",
        "print('Precision ->',actual_rec)\n",
        "print('F1 Score ->',actual_f1)\n",
        "print('Accuracy ->',actual_acc)"
      ],
      "execution_count": 137,
      "outputs": [
        {
          "output_type": "stream",
          "text": [
            "              precision    recall  f1-score   support\n",
            "\n",
            "           0       0.87      0.86      0.86      1585\n",
            "           1       0.59      0.61      0.60       528\n",
            "\n",
            "    accuracy                           0.80      2113\n",
            "   macro avg       0.73      0.73      0.73      2113\n",
            "weighted avg       0.80      0.80      0.80      2113\n",
            "\n",
            "Recall -> 0.6079545454545454\n",
            "Precision -> 0.6079545454545454\n",
            "F1 Score -> 0.5977653631284916\n",
            "Accuracy -> 0.795551348793185\n"
          ],
          "name": "stdout"
        }
      ]
    },
    {
      "cell_type": "markdown",
      "metadata": {
        "id": "vKf-v5DEysYD"
      },
      "source": [
        "2. Under Sampling"
      ]
    },
    {
      "cell_type": "code",
      "metadata": {
        "id": "o6sEJS3LqY8J"
      },
      "source": [
        "# Import the resampling package\n",
        "from sklearn.utils import resample"
      ],
      "execution_count": 138,
      "outputs": []
    },
    {
      "cell_type": "code",
      "metadata": {
        "id": "BD6HXC1LzdtA"
      },
      "source": [
        "# Split into training and test sets\n",
        "#X_train, X_test, Y_train, Y_test = train_test_split(X, Y, test_size = 0.25)"
      ],
      "execution_count": 139,
      "outputs": []
    },
    {
      "cell_type": "code",
      "metadata": {
        "id": "uYHsbEzazMuB"
      },
      "source": [
        "# Returning to one dataframe\n",
        "training_set = pd.concat([X_train, Y_train], axis=1)"
      ],
      "execution_count": 140,
      "outputs": []
    },
    {
      "cell_type": "code",
      "metadata": {
        "colab": {
          "base_uri": "https://localhost:8080/",
          "height": 435
        },
        "id": "ySYyFoQcxiWA",
        "outputId": "4c0832ea-1072-49e2-c52c-c479b1752c81"
      },
      "source": [
        "training_set"
      ],
      "execution_count": 141,
      "outputs": [
        {
          "output_type": "execute_result",
          "data": {
            "text/html": [
              "<div>\n",
              "<style scoped>\n",
              "    .dataframe tbody tr th:only-of-type {\n",
              "        vertical-align: middle;\n",
              "    }\n",
              "\n",
              "    .dataframe tbody tr th {\n",
              "        vertical-align: top;\n",
              "    }\n",
              "\n",
              "    .dataframe thead th {\n",
              "        text-align: right;\n",
              "    }\n",
              "</style>\n",
              "<table border=\"1\" class=\"dataframe\">\n",
              "  <thead>\n",
              "    <tr style=\"text-align: right;\">\n",
              "      <th></th>\n",
              "      <th>customerID</th>\n",
              "      <th>gender</th>\n",
              "      <th>SeniorCitizen</th>\n",
              "      <th>Partner</th>\n",
              "      <th>Dependents</th>\n",
              "      <th>tenure</th>\n",
              "      <th>PhoneService</th>\n",
              "      <th>MultipleLines</th>\n",
              "      <th>InternetService</th>\n",
              "      <th>OnlineSecurity</th>\n",
              "      <th>OnlineBackup</th>\n",
              "      <th>DeviceProtection</th>\n",
              "      <th>TechSupport</th>\n",
              "      <th>StreamingTV</th>\n",
              "      <th>StreamingMovies</th>\n",
              "      <th>Contract</th>\n",
              "      <th>PaperlessBilling</th>\n",
              "      <th>PaymentMethod</th>\n",
              "      <th>MonthlyCharges</th>\n",
              "      <th>TotalCharges</th>\n",
              "      <th>Churn</th>\n",
              "    </tr>\n",
              "  </thead>\n",
              "  <tbody>\n",
              "    <tr>\n",
              "      <th>5925</th>\n",
              "      <td>-1.121642</td>\n",
              "      <td>0.994337</td>\n",
              "      <td>-0.43979</td>\n",
              "      <td>-0.952835</td>\n",
              "      <td>-0.644551</td>\n",
              "      <td>-0.497482</td>\n",
              "      <td>0.326149</td>\n",
              "      <td>1.167151</td>\n",
              "      <td>-1.189694</td>\n",
              "      <td>-0.629762</td>\n",
              "      <td>1.390244</td>\n",
              "      <td>-0.722547</td>\n",
              "      <td>1.578449</td>\n",
              "      <td>1.266622</td>\n",
              "      <td>-0.804131</td>\n",
              "      <td>0.384266</td>\n",
              "      <td>0.827583</td>\n",
              "      <td>0.393711</td>\n",
              "      <td>0.129755</td>\n",
              "      <td>-0.379352</td>\n",
              "      <td>0</td>\n",
              "    </tr>\n",
              "    <tr>\n",
              "      <th>4395</th>\n",
              "      <td>0.196581</td>\n",
              "      <td>-1.005696</td>\n",
              "      <td>-0.43979</td>\n",
              "      <td>1.049500</td>\n",
              "      <td>1.551467</td>\n",
              "      <td>1.498180</td>\n",
              "      <td>0.326149</td>\n",
              "      <td>1.167151</td>\n",
              "      <td>0.167047</td>\n",
              "      <td>-0.629762</td>\n",
              "      <td>1.390244</td>\n",
              "      <td>1.383992</td>\n",
              "      <td>-0.633533</td>\n",
              "      <td>1.266622</td>\n",
              "      <td>1.243579</td>\n",
              "      <td>-0.822377</td>\n",
              "      <td>0.827583</td>\n",
              "      <td>0.393711</td>\n",
              "      <td>1.299897</td>\n",
              "      <td>2.278741</td>\n",
              "      <td>1</td>\n",
              "    </tr>\n",
              "    <tr>\n",
              "      <th>1579</th>\n",
              "      <td>1.528140</td>\n",
              "      <td>0.994337</td>\n",
              "      <td>2.27381</td>\n",
              "      <td>1.049500</td>\n",
              "      <td>-0.644551</td>\n",
              "      <td>-0.823305</td>\n",
              "      <td>0.326149</td>\n",
              "      <td>-0.856787</td>\n",
              "      <td>0.167047</td>\n",
              "      <td>-0.629762</td>\n",
              "      <td>-0.719298</td>\n",
              "      <td>-0.722547</td>\n",
              "      <td>-0.633533</td>\n",
              "      <td>-0.789501</td>\n",
              "      <td>1.243579</td>\n",
              "      <td>-0.822377</td>\n",
              "      <td>0.827583</td>\n",
              "      <td>0.393711</td>\n",
              "      <td>0.519802</td>\n",
              "      <td>-0.584746</td>\n",
              "      <td>1</td>\n",
              "    </tr>\n",
              "    <tr>\n",
              "      <th>1040</th>\n",
              "      <td>-1.314264</td>\n",
              "      <td>0.994337</td>\n",
              "      <td>2.27381</td>\n",
              "      <td>-0.952835</td>\n",
              "      <td>-0.644551</td>\n",
              "      <td>-0.741849</td>\n",
              "      <td>0.326149</td>\n",
              "      <td>-0.856787</td>\n",
              "      <td>0.167047</td>\n",
              "      <td>-0.629762</td>\n",
              "      <td>-0.719298</td>\n",
              "      <td>-0.722547</td>\n",
              "      <td>-0.633533</td>\n",
              "      <td>1.266622</td>\n",
              "      <td>1.243579</td>\n",
              "      <td>-0.822377</td>\n",
              "      <td>-1.208338</td>\n",
              "      <td>-0.546238</td>\n",
              "      <td>0.851757</td>\n",
              "      <td>-0.445510</td>\n",
              "      <td>1</td>\n",
              "    </tr>\n",
              "    <tr>\n",
              "      <th>1074</th>\n",
              "      <td>-1.027307</td>\n",
              "      <td>0.994337</td>\n",
              "      <td>-0.43979</td>\n",
              "      <td>-0.952835</td>\n",
              "      <td>-0.644551</td>\n",
              "      <td>-1.271311</td>\n",
              "      <td>0.326149</td>\n",
              "      <td>-0.856787</td>\n",
              "      <td>1.523787</td>\n",
              "      <td>-0.629762</td>\n",
              "      <td>-0.719298</td>\n",
              "      <td>-0.722547</td>\n",
              "      <td>-0.633533</td>\n",
              "      <td>-0.789501</td>\n",
              "      <td>-0.804131</td>\n",
              "      <td>-0.822377</td>\n",
              "      <td>-1.208338</td>\n",
              "      <td>1.333661</td>\n",
              "      <td>-1.450350</td>\n",
              "      <td>-0.994256</td>\n",
              "      <td>0</td>\n",
              "    </tr>\n",
              "    <tr>\n",
              "      <th>...</th>\n",
              "      <td>...</td>\n",
              "      <td>...</td>\n",
              "      <td>...</td>\n",
              "      <td>...</td>\n",
              "      <td>...</td>\n",
              "      <td>...</td>\n",
              "      <td>...</td>\n",
              "      <td>...</td>\n",
              "      <td>...</td>\n",
              "      <td>...</td>\n",
              "      <td>...</td>\n",
              "      <td>...</td>\n",
              "      <td>...</td>\n",
              "      <td>...</td>\n",
              "      <td>...</td>\n",
              "      <td>...</td>\n",
              "      <td>...</td>\n",
              "      <td>...</td>\n",
              "      <td>...</td>\n",
              "      <td>...</td>\n",
              "      <td>...</td>\n",
              "    </tr>\n",
              "    <tr>\n",
              "      <th>905</th>\n",
              "      <td>-1.472806</td>\n",
              "      <td>0.994337</td>\n",
              "      <td>2.27381</td>\n",
              "      <td>-0.952835</td>\n",
              "      <td>-0.644551</td>\n",
              "      <td>-0.945488</td>\n",
              "      <td>0.326149</td>\n",
              "      <td>1.167151</td>\n",
              "      <td>0.167047</td>\n",
              "      <td>-0.629762</td>\n",
              "      <td>-0.719298</td>\n",
              "      <td>1.383992</td>\n",
              "      <td>-0.633533</td>\n",
              "      <td>1.266622</td>\n",
              "      <td>1.243579</td>\n",
              "      <td>-0.822377</td>\n",
              "      <td>0.827583</td>\n",
              "      <td>0.393711</td>\n",
              "      <td>1.185372</td>\n",
              "      <td>-0.598674</td>\n",
              "      <td>1</td>\n",
              "    </tr>\n",
              "    <tr>\n",
              "      <th>5192</th>\n",
              "      <td>-0.526491</td>\n",
              "      <td>0.994337</td>\n",
              "      <td>-0.43979</td>\n",
              "      <td>-0.952835</td>\n",
              "      <td>1.551467</td>\n",
              "      <td>1.131630</td>\n",
              "      <td>0.326149</td>\n",
              "      <td>-0.856787</td>\n",
              "      <td>1.523787</td>\n",
              "      <td>-0.629762</td>\n",
              "      <td>-0.719298</td>\n",
              "      <td>-0.722547</td>\n",
              "      <td>-0.633533</td>\n",
              "      <td>-0.789501</td>\n",
              "      <td>-0.804131</td>\n",
              "      <td>1.590908</td>\n",
              "      <td>-1.208338</td>\n",
              "      <td>1.333661</td>\n",
              "      <td>-1.488525</td>\n",
              "      <td>-0.479096</td>\n",
              "      <td>0</td>\n",
              "    </tr>\n",
              "    <tr>\n",
              "      <th>3980</th>\n",
              "      <td>1.359226</td>\n",
              "      <td>0.994337</td>\n",
              "      <td>-0.43979</td>\n",
              "      <td>-0.952835</td>\n",
              "      <td>-0.644551</td>\n",
              "      <td>-0.171660</td>\n",
              "      <td>0.326149</td>\n",
              "      <td>1.167151</td>\n",
              "      <td>0.167047</td>\n",
              "      <td>-0.629762</td>\n",
              "      <td>1.390244</td>\n",
              "      <td>1.383992</td>\n",
              "      <td>-0.633533</td>\n",
              "      <td>1.266622</td>\n",
              "      <td>1.243579</td>\n",
              "      <td>-0.822377</td>\n",
              "      <td>0.827583</td>\n",
              "      <td>0.393711</td>\n",
              "      <td>1.357989</td>\n",
              "      <td>0.309689</td>\n",
              "      <td>1</td>\n",
              "    </tr>\n",
              "    <tr>\n",
              "      <th>235</th>\n",
              "      <td>-1.309819</td>\n",
              "      <td>0.994337</td>\n",
              "      <td>-0.43979</td>\n",
              "      <td>-0.952835</td>\n",
              "      <td>-0.644551</td>\n",
              "      <td>-1.230583</td>\n",
              "      <td>0.326149</td>\n",
              "      <td>1.167151</td>\n",
              "      <td>-1.189694</td>\n",
              "      <td>-0.629762</td>\n",
              "      <td>1.390244</td>\n",
              "      <td>-0.722547</td>\n",
              "      <td>-0.633533</td>\n",
              "      <td>-0.789501</td>\n",
              "      <td>-0.804131</td>\n",
              "      <td>-0.822377</td>\n",
              "      <td>0.827583</td>\n",
              "      <td>1.333661</td>\n",
              "      <td>-0.344940</td>\n",
              "      <td>-0.953266</td>\n",
              "      <td>1</td>\n",
              "    </tr>\n",
              "    <tr>\n",
              "      <th>5157</th>\n",
              "      <td>0.304252</td>\n",
              "      <td>-1.005696</td>\n",
              "      <td>-0.43979</td>\n",
              "      <td>1.049500</td>\n",
              "      <td>1.551467</td>\n",
              "      <td>-0.660394</td>\n",
              "      <td>0.326149</td>\n",
              "      <td>-0.856787</td>\n",
              "      <td>-1.189694</td>\n",
              "      <td>1.587901</td>\n",
              "      <td>1.390244</td>\n",
              "      <td>-0.722547</td>\n",
              "      <td>1.578449</td>\n",
              "      <td>-0.789501</td>\n",
              "      <td>1.243579</td>\n",
              "      <td>1.590908</td>\n",
              "      <td>-1.208338</td>\n",
              "      <td>-1.486188</td>\n",
              "      <td>0.114817</td>\n",
              "      <td>-0.512175</td>\n",
              "      <td>0</td>\n",
              "    </tr>\n",
              "  </tbody>\n",
              "</table>\n",
              "<p>4930 rows × 21 columns</p>\n",
              "</div>"
            ],
            "text/plain": [
              "      customerID    gender  SeniorCitizen  ...  MonthlyCharges  TotalCharges  Churn\n",
              "5925   -1.121642  0.994337       -0.43979  ...        0.129755     -0.379352      0\n",
              "4395    0.196581 -1.005696       -0.43979  ...        1.299897      2.278741      1\n",
              "1579    1.528140  0.994337        2.27381  ...        0.519802     -0.584746      1\n",
              "1040   -1.314264  0.994337        2.27381  ...        0.851757     -0.445510      1\n",
              "1074   -1.027307  0.994337       -0.43979  ...       -1.450350     -0.994256      0\n",
              "...          ...       ...            ...  ...             ...           ...    ...\n",
              "905    -1.472806  0.994337        2.27381  ...        1.185372     -0.598674      1\n",
              "5192   -0.526491  0.994337       -0.43979  ...       -1.488525     -0.479096      0\n",
              "3980    1.359226  0.994337       -0.43979  ...        1.357989      0.309689      1\n",
              "235    -1.309819  0.994337       -0.43979  ...       -0.344940     -0.953266      1\n",
              "5157    0.304252 -1.005696       -0.43979  ...        0.114817     -0.512175      0\n",
              "\n",
              "[4930 rows x 21 columns]"
            ]
          },
          "metadata": {
            "tags": []
          },
          "execution_count": 141
        }
      ]
    },
    {
      "cell_type": "code",
      "metadata": {
        "id": "XZsWtgkizP8Q"
      },
      "source": [
        "# Separating classes\n",
        "churn = training_set[training_set.Churn == 1]\n",
        "no_churn = training_set[training_set.Churn == 0]"
      ],
      "execution_count": 142,
      "outputs": []
    },
    {
      "cell_type": "code",
      "metadata": {
        "colab": {
          "base_uri": "https://localhost:8080/",
          "height": 0
        },
        "id": "EamnWcoqzZ9n",
        "outputId": "27ab7e0d-c6dc-4747-bee8-0158dc5368b5"
      },
      "source": [
        "len(churn)"
      ],
      "execution_count": 143,
      "outputs": [
        {
          "output_type": "execute_result",
          "data": {
            "text/plain": [
              "1341"
            ]
          },
          "metadata": {
            "tags": []
          },
          "execution_count": 143
        }
      ]
    },
    {
      "cell_type": "code",
      "metadata": {
        "colab": {
          "base_uri": "https://localhost:8080/",
          "height": 0
        },
        "id": "rVmGzMoMz3_Z",
        "outputId": "f08ffbf2-9346-4959-ba26-5dab223d5e56"
      },
      "source": [
        "len(no_churn)"
      ],
      "execution_count": 144,
      "outputs": [
        {
          "output_type": "execute_result",
          "data": {
            "text/plain": [
              "3589"
            ]
          },
          "metadata": {
            "tags": []
          },
          "execution_count": 144
        }
      ]
    },
    {
      "cell_type": "markdown",
      "metadata": {
        "id": "poDycFCf0AGV"
      },
      "source": [
        "Under sampling the majority"
      ]
    },
    {
      "cell_type": "code",
      "metadata": {
        "id": "KinACMlUz9MQ"
      },
      "source": [
        "undersample = resample(no_churn,replace=True,n_samples=len(churn),random_state=10)"
      ],
      "execution_count": 145,
      "outputs": []
    },
    {
      "cell_type": "code",
      "metadata": {
        "colab": {
          "base_uri": "https://localhost:8080/",
          "height": 0
        },
        "id": "R2lfz0ue0esp",
        "outputId": "4321ebf7-f058-44aa-ca7c-e61654da2ca8"
      },
      "source": [
        "len(undersample) # len of no_churn is reduced to len of churn\n",
        "# both are equal now"
      ],
      "execution_count": 146,
      "outputs": [
        {
          "output_type": "execute_result",
          "data": {
            "text/plain": [
              "1341"
            ]
          },
          "metadata": {
            "tags": []
          },
          "execution_count": 146
        }
      ]
    },
    {
      "cell_type": "code",
      "metadata": {
        "id": "zMCdOfbk0psU"
      },
      "source": [
        "# Returning to new training set\n",
        "undersample_train = pd.concat([churn, undersample])"
      ],
      "execution_count": 147,
      "outputs": []
    },
    {
      "cell_type": "code",
      "metadata": {
        "colab": {
          "base_uri": "https://localhost:8080/",
          "height": 0
        },
        "id": "uBLUaHg52uLJ",
        "outputId": "08305d70-88f8-431b-cb82-d97b0c3fff04"
      },
      "source": [
        "undersample_train.Churn.value_counts()"
      ],
      "execution_count": 148,
      "outputs": [
        {
          "output_type": "execute_result",
          "data": {
            "text/plain": [
              "1    1341\n",
              "0    1341\n",
              "Name: Churn, dtype: int64"
            ]
          },
          "metadata": {
            "tags": []
          },
          "execution_count": 148
        }
      ]
    },
    {
      "cell_type": "code",
      "metadata": {
        "id": "5olqrcWx2xCA"
      },
      "source": [
        "# Separate undersampled data into X and y sets\n",
        "undersample_x_train = undersample_train.drop('Churn', axis=1)\n",
        "undersample_y_train = undersample_train.Churn"
      ],
      "execution_count": 149,
      "outputs": []
    },
    {
      "cell_type": "code",
      "metadata": {
        "colab": {
          "base_uri": "https://localhost:8080/",
          "height": 0
        },
        "id": "38qlSFH64CeS",
        "outputId": "26b62656-81d0-486d-e234-f2262598b8dc"
      },
      "source": [
        "undersample_x_train.shape"
      ],
      "execution_count": 150,
      "outputs": [
        {
          "output_type": "execute_result",
          "data": {
            "text/plain": [
              "(2682, 20)"
            ]
          },
          "metadata": {
            "tags": []
          },
          "execution_count": 150
        }
      ]
    },
    {
      "cell_type": "code",
      "metadata": {
        "id": "WWV5ckYo37bO"
      },
      "source": [
        "model = Sequential()\n",
        "model.add(Dense(8, activation=\"relu\", input_dim=20))\n",
        "model.add(Dense(8, activation=\"relu\"))\n",
        "model.add(Dense(8, activation=\"relu\"))\n",
        "model.add(Dense(1, activation=\"sigmoid\"))"
      ],
      "execution_count": 151,
      "outputs": []
    },
    {
      "cell_type": "code",
      "metadata": {
        "id": "h8FrILaj4GLL"
      },
      "source": [
        "model.compile(optimizer=\"adam\", loss=\"binary_crossentropy\")"
      ],
      "execution_count": 152,
      "outputs": []
    },
    {
      "cell_type": "code",
      "metadata": {
        "colab": {
          "base_uri": "https://localhost:8080/",
          "height": 0
        },
        "id": "XTaO8Ptg4J_P",
        "outputId": "3f2de1ea-9955-4d10-ba84-297f09c4f1a1"
      },
      "source": [
        "trained_model = model.fit(undersample_x_train, undersample_y_train, epochs=150,batch_size=20)"
      ],
      "execution_count": 153,
      "outputs": [
        {
          "output_type": "stream",
          "text": [
            "Epoch 1/150\n",
            "135/135 [==============================] - 1s 1ms/step - loss: 0.6269\n",
            "Epoch 2/150\n",
            "135/135 [==============================] - 0s 1ms/step - loss: 0.5403\n",
            "Epoch 3/150\n",
            "135/135 [==============================] - 0s 1ms/step - loss: 0.5165\n",
            "Epoch 4/150\n",
            "135/135 [==============================] - 0s 1ms/step - loss: 0.5074\n",
            "Epoch 5/150\n",
            "135/135 [==============================] - 0s 1ms/step - loss: 0.5011\n",
            "Epoch 6/150\n",
            "135/135 [==============================] - 0s 1ms/step - loss: 0.4976\n",
            "Epoch 7/150\n",
            "135/135 [==============================] - 0s 1ms/step - loss: 0.4930\n",
            "Epoch 8/150\n",
            "135/135 [==============================] - 0s 1ms/step - loss: 0.4903\n",
            "Epoch 9/150\n",
            "135/135 [==============================] - 0s 1ms/step - loss: 0.4870\n",
            "Epoch 10/150\n",
            "135/135 [==============================] - 0s 1ms/step - loss: 0.4849\n",
            "Epoch 11/150\n",
            "135/135 [==============================] - 0s 1ms/step - loss: 0.4836\n",
            "Epoch 12/150\n",
            "135/135 [==============================] - 0s 1ms/step - loss: 0.4817\n",
            "Epoch 13/150\n",
            "135/135 [==============================] - 0s 1ms/step - loss: 0.4805\n",
            "Epoch 14/150\n",
            "135/135 [==============================] - 0s 1ms/step - loss: 0.4797\n",
            "Epoch 15/150\n",
            "135/135 [==============================] - 0s 1ms/step - loss: 0.4780\n",
            "Epoch 16/150\n",
            "135/135 [==============================] - 0s 1ms/step - loss: 0.4760\n",
            "Epoch 17/150\n",
            "135/135 [==============================] - 0s 1ms/step - loss: 0.4757\n",
            "Epoch 18/150\n",
            "135/135 [==============================] - 0s 1ms/step - loss: 0.4738\n",
            "Epoch 19/150\n",
            "135/135 [==============================] - 0s 1ms/step - loss: 0.4730\n",
            "Epoch 20/150\n",
            "135/135 [==============================] - 0s 1ms/step - loss: 0.4713\n",
            "Epoch 21/150\n",
            "135/135 [==============================] - 0s 1ms/step - loss: 0.4703\n",
            "Epoch 22/150\n",
            "135/135 [==============================] - 0s 1ms/step - loss: 0.4688\n",
            "Epoch 23/150\n",
            "135/135 [==============================] - 0s 1ms/step - loss: 0.4673\n",
            "Epoch 24/150\n",
            "135/135 [==============================] - 0s 1ms/step - loss: 0.4666\n",
            "Epoch 25/150\n",
            "135/135 [==============================] - 0s 1ms/step - loss: 0.4654\n",
            "Epoch 26/150\n",
            "135/135 [==============================] - 0s 1ms/step - loss: 0.4659\n",
            "Epoch 27/150\n",
            "135/135 [==============================] - 0s 1ms/step - loss: 0.4641\n",
            "Epoch 28/150\n",
            "135/135 [==============================] - 0s 1ms/step - loss: 0.4624\n",
            "Epoch 29/150\n",
            "135/135 [==============================] - 0s 1ms/step - loss: 0.4623\n",
            "Epoch 30/150\n",
            "135/135 [==============================] - 0s 1ms/step - loss: 0.4610\n",
            "Epoch 31/150\n",
            "135/135 [==============================] - 0s 1ms/step - loss: 0.4600\n",
            "Epoch 32/150\n",
            "135/135 [==============================] - 0s 1ms/step - loss: 0.4594\n",
            "Epoch 33/150\n",
            "135/135 [==============================] - 0s 1ms/step - loss: 0.4597\n",
            "Epoch 34/150\n",
            "135/135 [==============================] - 0s 1ms/step - loss: 0.4582\n",
            "Epoch 35/150\n",
            "135/135 [==============================] - 0s 1ms/step - loss: 0.4574\n",
            "Epoch 36/150\n",
            "135/135 [==============================] - 0s 1ms/step - loss: 0.4566\n",
            "Epoch 37/150\n",
            "135/135 [==============================] - 0s 1ms/step - loss: 0.4549\n",
            "Epoch 38/150\n",
            "135/135 [==============================] - 0s 1ms/step - loss: 0.4543\n",
            "Epoch 39/150\n",
            "135/135 [==============================] - 0s 1ms/step - loss: 0.4541\n",
            "Epoch 40/150\n",
            "135/135 [==============================] - 0s 1ms/step - loss: 0.4531\n",
            "Epoch 41/150\n",
            "135/135 [==============================] - 0s 1ms/step - loss: 0.4533\n",
            "Epoch 42/150\n",
            "135/135 [==============================] - 0s 1ms/step - loss: 0.4515\n",
            "Epoch 43/150\n",
            "135/135 [==============================] - 0s 1ms/step - loss: 0.4510\n",
            "Epoch 44/150\n",
            "135/135 [==============================] - 0s 1ms/step - loss: 0.4509\n",
            "Epoch 45/150\n",
            "135/135 [==============================] - 0s 1ms/step - loss: 0.4496\n",
            "Epoch 46/150\n",
            "135/135 [==============================] - 0s 1ms/step - loss: 0.4495\n",
            "Epoch 47/150\n",
            "135/135 [==============================] - 0s 1ms/step - loss: 0.4494\n",
            "Epoch 48/150\n",
            "135/135 [==============================] - 0s 1ms/step - loss: 0.4483\n",
            "Epoch 49/150\n",
            "135/135 [==============================] - 0s 1ms/step - loss: 0.4476\n",
            "Epoch 50/150\n",
            "135/135 [==============================] - 0s 1ms/step - loss: 0.4474\n",
            "Epoch 51/150\n",
            "135/135 [==============================] - 0s 1ms/step - loss: 0.4467\n",
            "Epoch 52/150\n",
            "135/135 [==============================] - 0s 1ms/step - loss: 0.4461\n",
            "Epoch 53/150\n",
            "135/135 [==============================] - 0s 1ms/step - loss: 0.4453\n",
            "Epoch 54/150\n",
            "135/135 [==============================] - 0s 1ms/step - loss: 0.4456\n",
            "Epoch 55/150\n",
            "135/135 [==============================] - 0s 1ms/step - loss: 0.4441\n",
            "Epoch 56/150\n",
            "135/135 [==============================] - 0s 1ms/step - loss: 0.4435\n",
            "Epoch 57/150\n",
            "135/135 [==============================] - 0s 1ms/step - loss: 0.4429\n",
            "Epoch 58/150\n",
            "135/135 [==============================] - 0s 1ms/step - loss: 0.4438\n",
            "Epoch 59/150\n",
            "135/135 [==============================] - 0s 1ms/step - loss: 0.4428\n",
            "Epoch 60/150\n",
            "135/135 [==============================] - 0s 1ms/step - loss: 0.4414\n",
            "Epoch 61/150\n",
            "135/135 [==============================] - 0s 1ms/step - loss: 0.4410\n",
            "Epoch 62/150\n",
            "135/135 [==============================] - 0s 1ms/step - loss: 0.4405\n",
            "Epoch 63/150\n",
            "135/135 [==============================] - 0s 1ms/step - loss: 0.4405\n",
            "Epoch 64/150\n",
            "135/135 [==============================] - 0s 1ms/step - loss: 0.4400\n",
            "Epoch 65/150\n",
            "135/135 [==============================] - 0s 1ms/step - loss: 0.4396\n",
            "Epoch 66/150\n",
            "135/135 [==============================] - 0s 1ms/step - loss: 0.4387\n",
            "Epoch 67/150\n",
            "135/135 [==============================] - 0s 1ms/step - loss: 0.4384\n",
            "Epoch 68/150\n",
            "135/135 [==============================] - 0s 1ms/step - loss: 0.4391\n",
            "Epoch 69/150\n",
            "135/135 [==============================] - 0s 1ms/step - loss: 0.4380\n",
            "Epoch 70/150\n",
            "135/135 [==============================] - 0s 1ms/step - loss: 0.4383\n",
            "Epoch 71/150\n",
            "135/135 [==============================] - 0s 1ms/step - loss: 0.4373\n",
            "Epoch 72/150\n",
            "135/135 [==============================] - 0s 1ms/step - loss: 0.4371\n",
            "Epoch 73/150\n",
            "135/135 [==============================] - 0s 1ms/step - loss: 0.4362\n",
            "Epoch 74/150\n",
            "135/135 [==============================] - 0s 1ms/step - loss: 0.4350\n",
            "Epoch 75/150\n",
            "135/135 [==============================] - 0s 1ms/step - loss: 0.4351\n",
            "Epoch 76/150\n",
            "135/135 [==============================] - 0s 1ms/step - loss: 0.4350\n",
            "Epoch 77/150\n",
            "135/135 [==============================] - 0s 1ms/step - loss: 0.4353\n",
            "Epoch 78/150\n",
            "135/135 [==============================] - 0s 1ms/step - loss: 0.4340\n",
            "Epoch 79/150\n",
            "135/135 [==============================] - 0s 1ms/step - loss: 0.4345\n",
            "Epoch 80/150\n",
            "135/135 [==============================] - 0s 1ms/step - loss: 0.4337\n",
            "Epoch 81/150\n",
            "135/135 [==============================] - 0s 1ms/step - loss: 0.4332\n",
            "Epoch 82/150\n",
            "135/135 [==============================] - 0s 1ms/step - loss: 0.4325\n",
            "Epoch 83/150\n",
            "135/135 [==============================] - 0s 1ms/step - loss: 0.4340\n",
            "Epoch 84/150\n",
            "135/135 [==============================] - 0s 1ms/step - loss: 0.4318\n",
            "Epoch 85/150\n",
            "135/135 [==============================] - 0s 1ms/step - loss: 0.4318\n",
            "Epoch 86/150\n",
            "135/135 [==============================] - 0s 1ms/step - loss: 0.4315\n",
            "Epoch 87/150\n",
            "135/135 [==============================] - 0s 1ms/step - loss: 0.4310\n",
            "Epoch 88/150\n",
            "135/135 [==============================] - 0s 1ms/step - loss: 0.4304\n",
            "Epoch 89/150\n",
            "135/135 [==============================] - 0s 1ms/step - loss: 0.4299\n",
            "Epoch 90/150\n",
            "135/135 [==============================] - 0s 1ms/step - loss: 0.4304\n",
            "Epoch 91/150\n",
            "135/135 [==============================] - 0s 1ms/step - loss: 0.4279\n",
            "Epoch 92/150\n",
            "135/135 [==============================] - 0s 1ms/step - loss: 0.4299\n",
            "Epoch 93/150\n",
            "135/135 [==============================] - 0s 1ms/step - loss: 0.4290\n",
            "Epoch 94/150\n",
            "135/135 [==============================] - 0s 1ms/step - loss: 0.4288\n",
            "Epoch 95/150\n",
            "135/135 [==============================] - 0s 1ms/step - loss: 0.4280\n",
            "Epoch 96/150\n",
            "135/135 [==============================] - 0s 1ms/step - loss: 0.4279\n",
            "Epoch 97/150\n",
            "135/135 [==============================] - 0s 1ms/step - loss: 0.4279\n",
            "Epoch 98/150\n",
            "135/135 [==============================] - 0s 1ms/step - loss: 0.4278\n",
            "Epoch 99/150\n",
            "135/135 [==============================] - 0s 1ms/step - loss: 0.4274\n",
            "Epoch 100/150\n",
            "135/135 [==============================] - 0s 1ms/step - loss: 0.4270\n",
            "Epoch 101/150\n",
            "135/135 [==============================] - 0s 1ms/step - loss: 0.4256\n",
            "Epoch 102/150\n",
            "135/135 [==============================] - 0s 1ms/step - loss: 0.4263\n",
            "Epoch 103/150\n",
            "135/135 [==============================] - 0s 1ms/step - loss: 0.4263\n",
            "Epoch 104/150\n",
            "135/135 [==============================] - 0s 1ms/step - loss: 0.4258\n",
            "Epoch 105/150\n",
            "135/135 [==============================] - 0s 1ms/step - loss: 0.4249\n",
            "Epoch 106/150\n",
            "135/135 [==============================] - 0s 1ms/step - loss: 0.4245\n",
            "Epoch 107/150\n",
            "135/135 [==============================] - 0s 1ms/step - loss: 0.4259\n",
            "Epoch 108/150\n",
            "135/135 [==============================] - 0s 1ms/step - loss: 0.4243\n",
            "Epoch 109/150\n",
            "135/135 [==============================] - 0s 1ms/step - loss: 0.4231\n",
            "Epoch 110/150\n",
            "135/135 [==============================] - 0s 1ms/step - loss: 0.4249\n",
            "Epoch 111/150\n",
            "135/135 [==============================] - 0s 1ms/step - loss: 0.4237\n",
            "Epoch 112/150\n",
            "135/135 [==============================] - 0s 1ms/step - loss: 0.4234\n",
            "Epoch 113/150\n",
            "135/135 [==============================] - 0s 1ms/step - loss: 0.4229\n",
            "Epoch 114/150\n",
            "135/135 [==============================] - 0s 1ms/step - loss: 0.4224\n",
            "Epoch 115/150\n",
            "135/135 [==============================] - 0s 1ms/step - loss: 0.4241\n",
            "Epoch 116/150\n",
            "135/135 [==============================] - 0s 1ms/step - loss: 0.4226\n",
            "Epoch 117/150\n",
            "135/135 [==============================] - 0s 1ms/step - loss: 0.4218\n",
            "Epoch 118/150\n",
            "135/135 [==============================] - 0s 1ms/step - loss: 0.4241\n",
            "Epoch 119/150\n",
            "135/135 [==============================] - 0s 1ms/step - loss: 0.4220\n",
            "Epoch 120/150\n",
            "135/135 [==============================] - 0s 1ms/step - loss: 0.4233\n",
            "Epoch 121/150\n",
            "135/135 [==============================] - 0s 1ms/step - loss: 0.4226\n",
            "Epoch 122/150\n",
            "135/135 [==============================] - 0s 1ms/step - loss: 0.4209\n",
            "Epoch 123/150\n",
            "135/135 [==============================] - 0s 1ms/step - loss: 0.4215\n",
            "Epoch 124/150\n",
            "135/135 [==============================] - 0s 1ms/step - loss: 0.4212\n",
            "Epoch 125/150\n",
            "135/135 [==============================] - 0s 1ms/step - loss: 0.4210\n",
            "Epoch 126/150\n",
            "135/135 [==============================] - 0s 1ms/step - loss: 0.4209\n",
            "Epoch 127/150\n",
            "135/135 [==============================] - 0s 1ms/step - loss: 0.4201\n",
            "Epoch 128/150\n",
            "135/135 [==============================] - 0s 1ms/step - loss: 0.4201\n",
            "Epoch 129/150\n",
            "135/135 [==============================] - 0s 1ms/step - loss: 0.4201\n",
            "Epoch 130/150\n",
            "135/135 [==============================] - 0s 1ms/step - loss: 0.4198\n",
            "Epoch 131/150\n",
            "135/135 [==============================] - 0s 1ms/step - loss: 0.4185\n",
            "Epoch 132/150\n",
            "135/135 [==============================] - 0s 1ms/step - loss: 0.4191\n",
            "Epoch 133/150\n",
            "135/135 [==============================] - 0s 1ms/step - loss: 0.4180\n",
            "Epoch 134/150\n",
            "135/135 [==============================] - 0s 1ms/step - loss: 0.4190\n",
            "Epoch 135/150\n",
            "135/135 [==============================] - 0s 1ms/step - loss: 0.4180\n",
            "Epoch 136/150\n",
            "135/135 [==============================] - 0s 1ms/step - loss: 0.4190\n",
            "Epoch 137/150\n",
            "135/135 [==============================] - 0s 1ms/step - loss: 0.4176\n",
            "Epoch 138/150\n",
            "135/135 [==============================] - 0s 1ms/step - loss: 0.4174\n",
            "Epoch 139/150\n",
            "135/135 [==============================] - 0s 1ms/step - loss: 0.4174\n",
            "Epoch 140/150\n",
            "135/135 [==============================] - 0s 1ms/step - loss: 0.4170\n",
            "Epoch 141/150\n",
            "135/135 [==============================] - 0s 1ms/step - loss: 0.4169\n",
            "Epoch 142/150\n",
            "135/135 [==============================] - 0s 1ms/step - loss: 0.4165\n",
            "Epoch 143/150\n",
            "135/135 [==============================] - 0s 1ms/step - loss: 0.4177\n",
            "Epoch 144/150\n",
            "135/135 [==============================] - 0s 1ms/step - loss: 0.4164\n",
            "Epoch 145/150\n",
            "135/135 [==============================] - 0s 1ms/step - loss: 0.4160\n",
            "Epoch 146/150\n",
            "135/135 [==============================] - 0s 1ms/step - loss: 0.4160\n",
            "Epoch 147/150\n",
            "135/135 [==============================] - 0s 1ms/step - loss: 0.4154\n",
            "Epoch 148/150\n",
            "135/135 [==============================] - 0s 1ms/step - loss: 0.4146\n",
            "Epoch 149/150\n",
            "135/135 [==============================] - 0s 1ms/step - loss: 0.4148\n",
            "Epoch 150/150\n",
            "135/135 [==============================] - 0s 1ms/step - loss: 0.4151\n"
          ],
          "name": "stdout"
        }
      ]
    },
    {
      "cell_type": "code",
      "metadata": {
        "colab": {
          "base_uri": "https://localhost:8080/",
          "height": 281
        },
        "id": "PlYd5aSQ4QEI",
        "outputId": "5f16abf0-37ad-4589-ec14-9945f26ed874"
      },
      "source": [
        "plt.plot(trained_model.history[\"loss\"])"
      ],
      "execution_count": 154,
      "outputs": [
        {
          "output_type": "execute_result",
          "data": {
            "text/plain": [
              "[<matplotlib.lines.Line2D at 0x7f7e72104510>]"
            ]
          },
          "metadata": {
            "tags": []
          },
          "execution_count": 154
        },
        {
          "output_type": "display_data",
          "data": {
            "image/png": "[encoded data removed]",
            "text/plain": [
              "<Figure size 432x288 with 1 Axes>"
            ]
          },
          "metadata": {
            "tags": [],
            "needs_background": "light"
          }
        }
      ]
    },
    {
      "cell_type": "code",
      "metadata": {
        "id": "QMMiArN84WNe"
      },
      "source": [
        "Y_pred = model.predict(X_test)"
      ],
      "execution_count": 155,
      "outputs": []
    },
    {
      "cell_type": "code",
      "metadata": {
        "id": "Da9AGl7Z4Z5m"
      },
      "source": [
        "Y_pred = np.where(Y_pred >= 0.5,1,0)"
      ],
      "execution_count": 156,
      "outputs": []
    },
    {
      "cell_type": "code",
      "metadata": {
        "colab": {
          "base_uri": "https://localhost:8080/",
          "height": 0
        },
        "id": "zFG4viOr4duc",
        "outputId": "23315e27-e572-484e-9a4f-33090ebbf9e4"
      },
      "source": [
        "print(classification_report(Y_test,Y_pred))\n",
        "under_acc = accuracy_score(Y_test,Y_pred)\n",
        "under_rec = recall_score(Y_test,Y_pred)\n",
        "under_p = precision_score(Y_test,Y_pred)\n",
        "under_f1 = f1_score(Y_test,Y_pred)\n",
        "print('Recall ->',under_rec)\n",
        "print('Precision ->',under_rec)\n",
        "print('F1 Score ->',under_f1)\n",
        "print('Accuracy ->',under_acc)"
      ],
      "execution_count": 157,
      "outputs": [
        {
          "output_type": "stream",
          "text": [
            "              precision    recall  f1-score   support\n",
            "\n",
            "           0       0.91      0.70      0.79      1585\n",
            "           1       0.47      0.79      0.59       528\n",
            "\n",
            "    accuracy                           0.72      2113\n",
            "   macro avg       0.69      0.75      0.69      2113\n",
            "weighted avg       0.80      0.72      0.74      2113\n",
            "\n",
            "Recall -> 0.7935606060606061\n",
            "Precision -> 0.7935606060606061\n",
            "F1 Score -> 0.5876577840112202\n",
            "Accuracy -> 0.7217226691907241\n"
          ],
          "name": "stdout"
        }
      ]
    },
    {
      "cell_type": "markdown",
      "metadata": {
        "id": "-2-TySv450jz"
      },
      "source": [
        "3. Over Sampling the minority"
      ]
    },
    {
      "cell_type": "code",
      "metadata": {
        "id": "L6Qc20By4hSl"
      },
      "source": [
        "oversample = resample(churn,replace=True,n_samples=len(no_churn),random_state=10)"
      ],
      "execution_count": 158,
      "outputs": []
    },
    {
      "cell_type": "code",
      "metadata": {
        "id": "RE5LLZkM6ENg"
      },
      "source": [
        "# Returning to new training set\n",
        "oversample_train = pd.concat([no_churn, oversample])"
      ],
      "execution_count": 159,
      "outputs": []
    },
    {
      "cell_type": "code",
      "metadata": {
        "colab": {
          "base_uri": "https://localhost:8080/",
          "height": 0
        },
        "id": "7pai8UrS6F8Y",
        "outputId": "6e08319d-ec04-48a1-c060-f6fd3d5f96cc"
      },
      "source": [
        "oversample_train.Churn.value_counts()\n"
      ],
      "execution_count": 160,
      "outputs": [
        {
          "output_type": "execute_result",
          "data": {
            "text/plain": [
              "1    3589\n",
              "0    3589\n",
              "Name: Churn, dtype: int64"
            ]
          },
          "metadata": {
            "tags": []
          },
          "execution_count": 160
        }
      ]
    },
    {
      "cell_type": "code",
      "metadata": {
        "id": "BqdR2sxT6O5D"
      },
      "source": [
        "# Separate oversampled data into X and y sets\n",
        "oversample_x_train = oversample_train.drop('Churn', axis=1)\n",
        "oversample_y_train = oversample_train.Churn"
      ],
      "execution_count": 161,
      "outputs": []
    },
    {
      "cell_type": "code",
      "metadata": {
        "id": "-XJE5oOq7InV"
      },
      "source": [
        "model = Sequential()\n",
        "model.add(Dense(8, activation=\"relu\", input_dim=20))\n",
        "model.add(Dense(8, activation=\"relu\"))\n",
        "model.add(Dense(8, activation=\"relu\"))\n",
        "model.add(Dense(1, activation=\"sigmoid\"))"
      ],
      "execution_count": 162,
      "outputs": []
    },
    {
      "cell_type": "code",
      "metadata": {
        "id": "Os3KuweX7NPH"
      },
      "source": [
        "model.compile(optimizer=\"adam\", loss=\"binary_crossentropy\")"
      ],
      "execution_count": 163,
      "outputs": []
    },
    {
      "cell_type": "code",
      "metadata": {
        "colab": {
          "base_uri": "https://localhost:8080/",
          "height": 0
        },
        "id": "zzdKrL9m7Q_a",
        "outputId": "80a3f047-6a86-4485-d7f3-e4d7185b443f"
      },
      "source": [
        "trained_model = model.fit(oversample_x_train, oversample_y_train, epochs=150,batch_size=20)"
      ],
      "execution_count": 164,
      "outputs": [
        {
          "output_type": "stream",
          "text": [
            "Epoch 1/150\n",
            "359/359 [==============================] - 1s 1ms/step - loss: 0.6592\n",
            "Epoch 2/150\n",
            "359/359 [==============================] - 0s 1ms/step - loss: 0.5659\n",
            "Epoch 3/150\n",
            "359/359 [==============================] - 0s 1ms/step - loss: 0.5154\n",
            "Epoch 4/150\n",
            "359/359 [==============================] - 0s 1ms/step - loss: 0.5035\n",
            "Epoch 5/150\n",
            "359/359 [==============================] - 0s 1ms/step - loss: 0.4969\n",
            "Epoch 6/150\n",
            "359/359 [==============================] - 0s 1ms/step - loss: 0.4927\n",
            "Epoch 7/150\n",
            "359/359 [==============================] - 0s 1ms/step - loss: 0.4888\n",
            "Epoch 8/150\n",
            "359/359 [==============================] - 0s 1ms/step - loss: 0.4860\n",
            "Epoch 9/150\n",
            "359/359 [==============================] - 0s 1ms/step - loss: 0.4836\n",
            "Epoch 10/150\n",
            "359/359 [==============================] - 0s 1ms/step - loss: 0.4824\n",
            "Epoch 11/150\n",
            "359/359 [==============================] - 0s 1ms/step - loss: 0.4807\n",
            "Epoch 12/150\n",
            "359/359 [==============================] - 0s 1ms/step - loss: 0.4791\n",
            "Epoch 13/150\n",
            "359/359 [==============================] - 0s 1ms/step - loss: 0.4779\n",
            "Epoch 14/150\n",
            "359/359 [==============================] - 0s 1ms/step - loss: 0.4768\n",
            "Epoch 15/150\n",
            "359/359 [==============================] - 0s 1ms/step - loss: 0.4759\n",
            "Epoch 16/150\n",
            "359/359 [==============================] - 0s 1ms/step - loss: 0.4740\n",
            "Epoch 17/150\n",
            "359/359 [==============================] - 0s 1ms/step - loss: 0.4734\n",
            "Epoch 18/150\n",
            "359/359 [==============================] - 0s 1ms/step - loss: 0.4721\n",
            "Epoch 19/150\n",
            "359/359 [==============================] - 0s 1ms/step - loss: 0.4705\n",
            "Epoch 20/150\n",
            "359/359 [==============================] - 0s 1ms/step - loss: 0.4692\n",
            "Epoch 21/150\n",
            "359/359 [==============================] - 0s 1ms/step - loss: 0.4674\n",
            "Epoch 22/150\n",
            "359/359 [==============================] - 0s 1ms/step - loss: 0.4667\n",
            "Epoch 23/150\n",
            "359/359 [==============================] - 0s 1ms/step - loss: 0.4659\n",
            "Epoch 24/150\n",
            "359/359 [==============================] - 0s 1ms/step - loss: 0.4643\n",
            "Epoch 25/150\n",
            "359/359 [==============================] - 0s 1ms/step - loss: 0.4635\n",
            "Epoch 26/150\n",
            "359/359 [==============================] - 0s 1ms/step - loss: 0.4618\n",
            "Epoch 27/150\n",
            "359/359 [==============================] - 0s 1ms/step - loss: 0.4615\n",
            "Epoch 28/150\n",
            "359/359 [==============================] - 0s 1ms/step - loss: 0.4606\n",
            "Epoch 29/150\n",
            "359/359 [==============================] - 0s 1ms/step - loss: 0.4599\n",
            "Epoch 30/150\n",
            "359/359 [==============================] - 0s 1ms/step - loss: 0.4591\n",
            "Epoch 31/150\n",
            "359/359 [==============================] - 0s 1ms/step - loss: 0.4580\n",
            "Epoch 32/150\n",
            "359/359 [==============================] - 0s 1ms/step - loss: 0.4576\n",
            "Epoch 33/150\n",
            "359/359 [==============================] - 0s 1ms/step - loss: 0.4557\n",
            "Epoch 34/150\n",
            "359/359 [==============================] - 0s 1ms/step - loss: 0.4555\n",
            "Epoch 35/150\n",
            "359/359 [==============================] - 0s 1ms/step - loss: 0.4549\n",
            "Epoch 36/150\n",
            "359/359 [==============================] - 0s 1ms/step - loss: 0.4537\n",
            "Epoch 37/150\n",
            "359/359 [==============================] - 0s 1ms/step - loss: 0.4527\n",
            "Epoch 38/150\n",
            "359/359 [==============================] - 0s 1ms/step - loss: 0.4523\n",
            "Epoch 39/150\n",
            "359/359 [==============================] - 0s 1ms/step - loss: 0.4508\n",
            "Epoch 40/150\n",
            "359/359 [==============================] - 0s 1ms/step - loss: 0.4507\n",
            "Epoch 41/150\n",
            "359/359 [==============================] - 0s 1ms/step - loss: 0.4505\n",
            "Epoch 42/150\n",
            "359/359 [==============================] - 0s 1ms/step - loss: 0.4498\n",
            "Epoch 43/150\n",
            "359/359 [==============================] - 0s 1ms/step - loss: 0.4492\n",
            "Epoch 44/150\n",
            "359/359 [==============================] - 0s 1ms/step - loss: 0.4484\n",
            "Epoch 45/150\n",
            "359/359 [==============================] - 0s 1ms/step - loss: 0.4483\n",
            "Epoch 46/150\n",
            "359/359 [==============================] - 0s 1ms/step - loss: 0.4478\n",
            "Epoch 47/150\n",
            "359/359 [==============================] - 0s 1ms/step - loss: 0.4476\n",
            "Epoch 48/150\n",
            "359/359 [==============================] - 0s 1ms/step - loss: 0.4468\n",
            "Epoch 49/150\n",
            "359/359 [==============================] - 0s 1ms/step - loss: 0.4463\n",
            "Epoch 50/150\n",
            "359/359 [==============================] - 0s 1ms/step - loss: 0.4453\n",
            "Epoch 51/150\n",
            "359/359 [==============================] - 0s 1ms/step - loss: 0.4451\n",
            "Epoch 52/150\n",
            "359/359 [==============================] - 0s 1ms/step - loss: 0.4449\n",
            "Epoch 53/150\n",
            "359/359 [==============================] - 0s 1ms/step - loss: 0.4446\n",
            "Epoch 54/150\n",
            "359/359 [==============================] - 0s 1ms/step - loss: 0.4437\n",
            "Epoch 55/150\n",
            "359/359 [==============================] - 0s 1ms/step - loss: 0.4429\n",
            "Epoch 56/150\n",
            "359/359 [==============================] - 0s 1ms/step - loss: 0.4426\n",
            "Epoch 57/150\n",
            "359/359 [==============================] - 0s 1ms/step - loss: 0.4424\n",
            "Epoch 58/150\n",
            "359/359 [==============================] - 0s 1ms/step - loss: 0.4422\n",
            "Epoch 59/150\n",
            "359/359 [==============================] - 0s 1ms/step - loss: 0.4407\n",
            "Epoch 60/150\n",
            "359/359 [==============================] - 0s 1ms/step - loss: 0.4410\n",
            "Epoch 61/150\n",
            "359/359 [==============================] - 0s 1ms/step - loss: 0.4403\n",
            "Epoch 62/150\n",
            "359/359 [==============================] - 0s 1ms/step - loss: 0.4393\n",
            "Epoch 63/150\n",
            "359/359 [==============================] - 0s 1ms/step - loss: 0.4391\n",
            "Epoch 64/150\n",
            "359/359 [==============================] - 0s 1ms/step - loss: 0.4388\n",
            "Epoch 65/150\n",
            "359/359 [==============================] - 0s 1ms/step - loss: 0.4379\n",
            "Epoch 66/150\n",
            "359/359 [==============================] - 0s 1ms/step - loss: 0.4383\n",
            "Epoch 67/150\n",
            "359/359 [==============================] - 0s 1ms/step - loss: 0.4374\n",
            "Epoch 68/150\n",
            "359/359 [==============================] - 0s 1ms/step - loss: 0.4376\n",
            "Epoch 69/150\n",
            "359/359 [==============================] - 0s 1ms/step - loss: 0.4362\n",
            "Epoch 70/150\n",
            "359/359 [==============================] - 0s 1ms/step - loss: 0.4369\n",
            "Epoch 71/150\n",
            "359/359 [==============================] - 0s 1ms/step - loss: 0.4365\n",
            "Epoch 72/150\n",
            "359/359 [==============================] - 0s 1ms/step - loss: 0.4358\n",
            "Epoch 73/150\n",
            "359/359 [==============================] - 0s 1ms/step - loss: 0.4361\n",
            "Epoch 74/150\n",
            "359/359 [==============================] - 0s 1ms/step - loss: 0.4350\n",
            "Epoch 75/150\n",
            "359/359 [==============================] - 0s 1ms/step - loss: 0.4356\n",
            "Epoch 76/150\n",
            "359/359 [==============================] - 0s 1ms/step - loss: 0.4348\n",
            "Epoch 77/150\n",
            "359/359 [==============================] - 0s 1ms/step - loss: 0.4340\n",
            "Epoch 78/150\n",
            "359/359 [==============================] - 0s 1ms/step - loss: 0.4351\n",
            "Epoch 79/150\n",
            "359/359 [==============================] - 0s 1ms/step - loss: 0.4344\n",
            "Epoch 80/150\n",
            "359/359 [==============================] - 0s 1ms/step - loss: 0.4338\n",
            "Epoch 81/150\n",
            "359/359 [==============================] - 0s 1ms/step - loss: 0.4339\n",
            "Epoch 82/150\n",
            "359/359 [==============================] - 0s 1ms/step - loss: 0.4332\n",
            "Epoch 83/150\n",
            "359/359 [==============================] - 0s 1ms/step - loss: 0.4332\n",
            "Epoch 84/150\n",
            "359/359 [==============================] - 0s 1ms/step - loss: 0.4323\n",
            "Epoch 85/150\n",
            "359/359 [==============================] - 0s 1ms/step - loss: 0.4322\n",
            "Epoch 86/150\n",
            "359/359 [==============================] - 0s 1ms/step - loss: 0.4320\n",
            "Epoch 87/150\n",
            "359/359 [==============================] - 0s 1ms/step - loss: 0.4315\n",
            "Epoch 88/150\n",
            "359/359 [==============================] - 0s 1ms/step - loss: 0.4317\n",
            "Epoch 89/150\n",
            "359/359 [==============================] - 0s 1ms/step - loss: 0.4313\n",
            "Epoch 90/150\n",
            "359/359 [==============================] - 0s 1ms/step - loss: 0.4306\n",
            "Epoch 91/150\n",
            "359/359 [==============================] - 0s 1ms/step - loss: 0.4309\n",
            "Epoch 92/150\n",
            "359/359 [==============================] - 0s 1ms/step - loss: 0.4300\n",
            "Epoch 93/150\n",
            "359/359 [==============================] - 0s 1ms/step - loss: 0.4288\n",
            "Epoch 94/150\n",
            "359/359 [==============================] - 0s 1ms/step - loss: 0.4298\n",
            "Epoch 95/150\n",
            "359/359 [==============================] - 0s 1ms/step - loss: 0.4290\n",
            "Epoch 96/150\n",
            "359/359 [==============================] - 0s 1ms/step - loss: 0.4297\n",
            "Epoch 97/150\n",
            "359/359 [==============================] - 0s 1ms/step - loss: 0.4296\n",
            "Epoch 98/150\n",
            "359/359 [==============================] - 0s 1ms/step - loss: 0.4282\n",
            "Epoch 99/150\n",
            "359/359 [==============================] - 0s 1ms/step - loss: 0.4287\n",
            "Epoch 100/150\n",
            "359/359 [==============================] - 0s 1ms/step - loss: 0.4278\n",
            "Epoch 101/150\n",
            "359/359 [==============================] - 0s 1ms/step - loss: 0.4269\n",
            "Epoch 102/150\n",
            "359/359 [==============================] - 0s 1ms/step - loss: 0.4283\n",
            "Epoch 103/150\n",
            "359/359 [==============================] - 0s 1ms/step - loss: 0.4268\n",
            "Epoch 104/150\n",
            "359/359 [==============================] - 0s 1ms/step - loss: 0.4267\n",
            "Epoch 105/150\n",
            "359/359 [==============================] - 0s 1ms/step - loss: 0.4263\n",
            "Epoch 106/150\n",
            "359/359 [==============================] - 0s 1ms/step - loss: 0.4265\n",
            "Epoch 107/150\n",
            "359/359 [==============================] - 0s 1ms/step - loss: 0.4260\n",
            "Epoch 108/150\n",
            "359/359 [==============================] - 0s 1ms/step - loss: 0.4262\n",
            "Epoch 109/150\n",
            "359/359 [==============================] - 0s 1ms/step - loss: 0.4241\n",
            "Epoch 110/150\n",
            "359/359 [==============================] - 0s 1ms/step - loss: 0.4244\n",
            "Epoch 111/150\n",
            "359/359 [==============================] - 0s 1ms/step - loss: 0.4239\n",
            "Epoch 112/150\n",
            "359/359 [==============================] - 0s 1ms/step - loss: 0.4226\n",
            "Epoch 113/150\n",
            "359/359 [==============================] - 0s 1ms/step - loss: 0.4225\n",
            "Epoch 114/150\n",
            "359/359 [==============================] - 0s 1ms/step - loss: 0.4223\n",
            "Epoch 115/150\n",
            "359/359 [==============================] - 0s 1ms/step - loss: 0.4229\n",
            "Epoch 116/150\n",
            "359/359 [==============================] - 0s 1ms/step - loss: 0.4230\n",
            "Epoch 117/150\n",
            "359/359 [==============================] - 0s 1ms/step - loss: 0.4221\n",
            "Epoch 118/150\n",
            "359/359 [==============================] - 0s 1ms/step - loss: 0.4215\n",
            "Epoch 119/150\n",
            "359/359 [==============================] - 0s 1ms/step - loss: 0.4212\n",
            "Epoch 120/150\n",
            "359/359 [==============================] - 0s 1ms/step - loss: 0.4204\n",
            "Epoch 121/150\n",
            "359/359 [==============================] - 0s 1ms/step - loss: 0.4207\n",
            "Epoch 122/150\n",
            "359/359 [==============================] - 0s 1ms/step - loss: 0.4217\n",
            "Epoch 123/150\n",
            "359/359 [==============================] - 0s 1ms/step - loss: 0.4197\n",
            "Epoch 124/150\n",
            "359/359 [==============================] - 0s 1ms/step - loss: 0.4190\n",
            "Epoch 125/150\n",
            "359/359 [==============================] - 0s 1ms/step - loss: 0.4185\n",
            "Epoch 126/150\n",
            "359/359 [==============================] - 0s 1ms/step - loss: 0.4201\n",
            "Epoch 127/150\n",
            "359/359 [==============================] - 0s 1ms/step - loss: 0.4183\n",
            "Epoch 128/150\n",
            "359/359 [==============================] - 0s 1ms/step - loss: 0.4183\n",
            "Epoch 129/150\n",
            "359/359 [==============================] - 0s 1ms/step - loss: 0.4180\n",
            "Epoch 130/150\n",
            "359/359 [==============================] - 0s 1ms/step - loss: 0.4188\n",
            "Epoch 131/150\n",
            "359/359 [==============================] - 0s 1ms/step - loss: 0.4179\n",
            "Epoch 132/150\n",
            "359/359 [==============================] - 0s 1ms/step - loss: 0.4179\n",
            "Epoch 133/150\n",
            "359/359 [==============================] - 0s 1ms/step - loss: 0.4166\n",
            "Epoch 134/150\n",
            "359/359 [==============================] - 0s 1ms/step - loss: 0.4166\n",
            "Epoch 135/150\n",
            "359/359 [==============================] - 0s 1ms/step - loss: 0.4166\n",
            "Epoch 136/150\n",
            "359/359 [==============================] - 0s 1ms/step - loss: 0.4170\n",
            "Epoch 137/150\n",
            "359/359 [==============================] - 0s 1ms/step - loss: 0.4165\n",
            "Epoch 138/150\n",
            "359/359 [==============================] - 0s 1ms/step - loss: 0.4150\n",
            "Epoch 139/150\n",
            "359/359 [==============================] - 0s 1ms/step - loss: 0.4156\n",
            "Epoch 140/150\n",
            "359/359 [==============================] - 0s 1ms/step - loss: 0.4152\n",
            "Epoch 141/150\n",
            "359/359 [==============================] - 0s 1ms/step - loss: 0.4155\n",
            "Epoch 142/150\n",
            "359/359 [==============================] - 0s 1ms/step - loss: 0.4153\n",
            "Epoch 143/150\n",
            "359/359 [==============================] - 0s 1ms/step - loss: 0.4145\n",
            "Epoch 144/150\n",
            "359/359 [==============================] - 0s 1ms/step - loss: 0.4151\n",
            "Epoch 145/150\n",
            "359/359 [==============================] - 0s 1ms/step - loss: 0.4153\n",
            "Epoch 146/150\n",
            "359/359 [==============================] - 0s 1ms/step - loss: 0.4147\n",
            "Epoch 147/150\n",
            "359/359 [==============================] - 0s 1ms/step - loss: 0.4144\n",
            "Epoch 148/150\n",
            "359/359 [==============================] - 0s 1ms/step - loss: 0.4138\n",
            "Epoch 149/150\n",
            "359/359 [==============================] - 0s 1ms/step - loss: 0.4143\n",
            "Epoch 150/150\n",
            "359/359 [==============================] - 0s 1ms/step - loss: 0.4135\n"
          ],
          "name": "stdout"
        }
      ]
    },
    {
      "cell_type": "code",
      "metadata": {
        "colab": {
          "base_uri": "https://localhost:8080/",
          "height": 281
        },
        "id": "nXgPPsSo7W6x",
        "outputId": "2df05373-ec50-4021-db0c-a9315e080457"
      },
      "source": [
        "plt.plot(trained_model.history[\"loss\"])"
      ],
      "execution_count": 165,
      "outputs": [
        {
          "output_type": "execute_result",
          "data": {
            "text/plain": [
              "[<matplotlib.lines.Line2D at 0x7f7e70f53d90>]"
            ]
          },
          "metadata": {
            "tags": []
          },
          "execution_count": 165
        },
        {
          "output_type": "display_data",
          "data": {
            "image/png": "[encoded data removed]",
            "text/plain": [
              "<Figure size 432x288 with 1 Axes>"
            ]
          },
          "metadata": {
            "tags": [],
            "needs_background": "light"
          }
        }
      ]
    },
    {
      "cell_type": "code",
      "metadata": {
        "id": "I0wb9Jpr7aLz"
      },
      "source": [
        "Y_pred = model.predict(X_test)\n",
        "Y_pred = np.where(Y_pred >= 0.5,1,0)"
      ],
      "execution_count": 166,
      "outputs": []
    },
    {
      "cell_type": "code",
      "metadata": {
        "colab": {
          "base_uri": "https://localhost:8080/",
          "height": 0
        },
        "id": "BhjgT9WM7rvD",
        "outputId": "3b6d99fd-f8e9-4f99-e217-ab5f969f65be"
      },
      "source": [
        "print(classification_report(Y_test,Y_pred))\n",
        "over_acc = accuracy_score(Y_test,Y_pred)\n",
        "over_rec = recall_score(Y_test,Y_pred)\n",
        "over_p = precision_score(Y_test,Y_pred)\n",
        "over_f1 = f1_score(Y_test,Y_pred)\n",
        "print('Recall ->',over_rec)\n",
        "print('Precision ->',over_rec)\n",
        "print('F1 Score ->',over_f1)\n",
        "print('Accuracy ->',over_acc)"
      ],
      "execution_count": 167,
      "outputs": [
        {
          "output_type": "stream",
          "text": [
            "              precision    recall  f1-score   support\n",
            "\n",
            "           0       0.91      0.74      0.81      1585\n",
            "           1       0.50      0.77      0.60       528\n",
            "\n",
            "    accuracy                           0.75      2113\n",
            "   macro avg       0.70      0.75      0.71      2113\n",
            "weighted avg       0.80      0.75      0.76      2113\n",
            "\n",
            "Recall -> 0.7689393939393939\n",
            "Precision -> 0.7689393939393939\n",
            "F1 Score -> 0.6028210838901261\n",
            "Accuracy -> 0.7468054898248935\n"
          ],
          "name": "stdout"
        }
      ]
    },
    {
      "cell_type": "markdown",
      "metadata": {
        "id": "CZEkbEep718C"
      },
      "source": [
        "4. SMOTE (synthetic minority oversampling technique)"
      ]
    },
    {
      "cell_type": "code",
      "metadata": {
        "id": "X5m3rqOb7sdb"
      },
      "source": [
        "# Import the SMOTE package\n",
        "from imblearn.over_sampling import SMOTE"
      ],
      "execution_count": 168,
      "outputs": []
    },
    {
      "cell_type": "code",
      "metadata": {
        "id": "3XqbzBIY8WVI"
      },
      "source": [
        "# Synthesize minority class datapoints using SMOTE\n",
        "sm = SMOTE(random_state=42)\n",
        "smote_x_train, smote_y_train = sm.fit_resample(X_train, Y_train)"
      ],
      "execution_count": 169,
      "outputs": []
    },
    {
      "cell_type": "code",
      "metadata": {
        "id": "_cgVWQwu8aqY"
      },
      "source": [
        "# Separate into training and test sets\n",
        "smote_x_train = pd.DataFrame(smote_x_train, columns = X_train.columns)\n",
        "smote_y_train = pd.DataFrame(smote_y_train, columns = ['Churn'])"
      ],
      "execution_count": 170,
      "outputs": []
    },
    {
      "cell_type": "code",
      "metadata": {
        "id": "AlhIVKmL8ycT"
      },
      "source": [
        "model = Sequential()\n",
        "model.add(Dense(8, activation=\"relu\", input_dim=20))\n",
        "model.add(Dense(8, activation=\"relu\"))\n",
        "model.add(Dense(8, activation=\"relu\"))\n",
        "model.add(Dense(1, activation=\"sigmoid\"))"
      ],
      "execution_count": 171,
      "outputs": []
    },
    {
      "cell_type": "code",
      "metadata": {
        "id": "Az4yFH4n9FzS"
      },
      "source": [
        "model.compile(optimizer=\"adam\", loss=\"binary_crossentropy\")"
      ],
      "execution_count": 172,
      "outputs": []
    },
    {
      "cell_type": "code",
      "metadata": {
        "colab": {
          "base_uri": "https://localhost:8080/",
          "height": 0
        },
        "id": "jwF-YIRM9I1R",
        "outputId": "a110c94b-f9c2-4b93-8707-4522527e1f13"
      },
      "source": [
        "trained_model = model.fit(smote_x_train, smote_y_train, epochs=150,batch_size=20)"
      ],
      "execution_count": 173,
      "outputs": [
        {
          "output_type": "stream",
          "text": [
            "Epoch 1/150\n",
            "359/359 [==============================] - 1s 1ms/step - loss: 0.6166\n",
            "Epoch 2/150\n",
            "359/359 [==============================] - 0s 1ms/step - loss: 0.4921\n",
            "Epoch 3/150\n",
            "359/359 [==============================] - 0s 1ms/step - loss: 0.4782\n",
            "Epoch 4/150\n",
            "359/359 [==============================] - 0s 1ms/step - loss: 0.4712\n",
            "Epoch 5/150\n",
            "359/359 [==============================] - 0s 1ms/step - loss: 0.4666\n",
            "Epoch 6/150\n",
            "359/359 [==============================] - 0s 1ms/step - loss: 0.4626\n",
            "Epoch 7/150\n",
            "359/359 [==============================] - 0s 1ms/step - loss: 0.4603\n",
            "Epoch 8/150\n",
            "359/359 [==============================] - 0s 1ms/step - loss: 0.4574\n",
            "Epoch 9/150\n",
            "359/359 [==============================] - 0s 1ms/step - loss: 0.4565\n",
            "Epoch 10/150\n",
            "359/359 [==============================] - 0s 1ms/step - loss: 0.4556\n",
            "Epoch 11/150\n",
            "359/359 [==============================] - 0s 1ms/step - loss: 0.4540\n",
            "Epoch 12/150\n",
            "359/359 [==============================] - 0s 1ms/step - loss: 0.4530\n",
            "Epoch 13/150\n",
            "359/359 [==============================] - 0s 1ms/step - loss: 0.4521\n",
            "Epoch 14/150\n",
            "359/359 [==============================] - 0s 1ms/step - loss: 0.4510\n",
            "Epoch 15/150\n",
            "359/359 [==============================] - 0s 1ms/step - loss: 0.4501\n",
            "Epoch 16/150\n",
            "359/359 [==============================] - 0s 1ms/step - loss: 0.4488\n",
            "Epoch 17/150\n",
            "359/359 [==============================] - 0s 1ms/step - loss: 0.4483\n",
            "Epoch 18/150\n",
            "359/359 [==============================] - 0s 1ms/step - loss: 0.4473\n",
            "Epoch 19/150\n",
            "359/359 [==============================] - 0s 1ms/step - loss: 0.4467\n",
            "Epoch 20/150\n",
            "359/359 [==============================] - 0s 1ms/step - loss: 0.4453\n",
            "Epoch 21/150\n",
            "359/359 [==============================] - 0s 1ms/step - loss: 0.4448\n",
            "Epoch 22/150\n",
            "359/359 [==============================] - 0s 1ms/step - loss: 0.4439\n",
            "Epoch 23/150\n",
            "359/359 [==============================] - 0s 1ms/step - loss: 0.4428\n",
            "Epoch 24/150\n",
            "359/359 [==============================] - 0s 1ms/step - loss: 0.4425\n",
            "Epoch 25/150\n",
            "359/359 [==============================] - 0s 1ms/step - loss: 0.4407\n",
            "Epoch 26/150\n",
            "359/359 [==============================] - 0s 1ms/step - loss: 0.4401\n",
            "Epoch 27/150\n",
            "359/359 [==============================] - 0s 1ms/step - loss: 0.4400\n",
            "Epoch 28/150\n",
            "359/359 [==============================] - 0s 1ms/step - loss: 0.4389\n",
            "Epoch 29/150\n",
            "359/359 [==============================] - 0s 1ms/step - loss: 0.4383\n",
            "Epoch 30/150\n",
            "359/359 [==============================] - 0s 1ms/step - loss: 0.4378\n",
            "Epoch 31/150\n",
            "359/359 [==============================] - 0s 1ms/step - loss: 0.4360\n",
            "Epoch 32/150\n",
            "359/359 [==============================] - 0s 1ms/step - loss: 0.4361\n",
            "Epoch 33/150\n",
            "359/359 [==============================] - 0s 1ms/step - loss: 0.4358\n",
            "Epoch 34/150\n",
            "359/359 [==============================] - 0s 1ms/step - loss: 0.4345\n",
            "Epoch 35/150\n",
            "359/359 [==============================] - 0s 1ms/step - loss: 0.4348\n",
            "Epoch 36/150\n",
            "359/359 [==============================] - 0s 1ms/step - loss: 0.4338\n",
            "Epoch 37/150\n",
            "359/359 [==============================] - 0s 1ms/step - loss: 0.4333\n",
            "Epoch 38/150\n",
            "359/359 [==============================] - 0s 1ms/step - loss: 0.4323\n",
            "Epoch 39/150\n",
            "359/359 [==============================] - 0s 1ms/step - loss: 0.4325\n",
            "Epoch 40/150\n",
            "359/359 [==============================] - 0s 1ms/step - loss: 0.4325\n",
            "Epoch 41/150\n",
            "359/359 [==============================] - 0s 1ms/step - loss: 0.4311\n",
            "Epoch 42/150\n",
            "359/359 [==============================] - 0s 1ms/step - loss: 0.4297\n",
            "Epoch 43/150\n",
            "359/359 [==============================] - 0s 1ms/step - loss: 0.4308\n",
            "Epoch 44/150\n",
            "359/359 [==============================] - 0s 1ms/step - loss: 0.4302\n",
            "Epoch 45/150\n",
            "359/359 [==============================] - 0s 1ms/step - loss: 0.4302\n",
            "Epoch 46/150\n",
            "359/359 [==============================] - 0s 1ms/step - loss: 0.4286\n",
            "Epoch 47/150\n",
            "359/359 [==============================] - 0s 1ms/step - loss: 0.4285\n",
            "Epoch 48/150\n",
            "359/359 [==============================] - 0s 1ms/step - loss: 0.4277\n",
            "Epoch 49/150\n",
            "359/359 [==============================] - 0s 1ms/step - loss: 0.4276\n",
            "Epoch 50/150\n",
            "359/359 [==============================] - 0s 1ms/step - loss: 0.4269\n",
            "Epoch 51/150\n",
            "359/359 [==============================] - 0s 1ms/step - loss: 0.4261\n",
            "Epoch 52/150\n",
            "359/359 [==============================] - 0s 1ms/step - loss: 0.4276\n",
            "Epoch 53/150\n",
            "359/359 [==============================] - 0s 1ms/step - loss: 0.4256\n",
            "Epoch 54/150\n",
            "359/359 [==============================] - 0s 1ms/step - loss: 0.4256\n",
            "Epoch 55/150\n",
            "359/359 [==============================] - 0s 1ms/step - loss: 0.4259\n",
            "Epoch 56/150\n",
            "359/359 [==============================] - 0s 1ms/step - loss: 0.4258\n",
            "Epoch 57/150\n",
            "359/359 [==============================] - 0s 1ms/step - loss: 0.4245\n",
            "Epoch 58/150\n",
            "359/359 [==============================] - 0s 1ms/step - loss: 0.4256\n",
            "Epoch 59/150\n",
            "359/359 [==============================] - 0s 1ms/step - loss: 0.4245\n",
            "Epoch 60/150\n",
            "359/359 [==============================] - 0s 1ms/step - loss: 0.4240\n",
            "Epoch 61/150\n",
            "359/359 [==============================] - 0s 1ms/step - loss: 0.4231\n",
            "Epoch 62/150\n",
            "359/359 [==============================] - 0s 1ms/step - loss: 0.4236\n",
            "Epoch 63/150\n",
            "359/359 [==============================] - 0s 1ms/step - loss: 0.4229\n",
            "Epoch 64/150\n",
            "359/359 [==============================] - 0s 1ms/step - loss: 0.4232\n",
            "Epoch 65/150\n",
            "359/359 [==============================] - 0s 1ms/step - loss: 0.4230\n",
            "Epoch 66/150\n",
            "359/359 [==============================] - 0s 1ms/step - loss: 0.4222\n",
            "Epoch 67/150\n",
            "359/359 [==============================] - 0s 1ms/step - loss: 0.4219\n",
            "Epoch 68/150\n",
            "359/359 [==============================] - 0s 1ms/step - loss: 0.4217\n",
            "Epoch 69/150\n",
            "359/359 [==============================] - 0s 1ms/step - loss: 0.4210\n",
            "Epoch 70/150\n",
            "359/359 [==============================] - 0s 1ms/step - loss: 0.4211\n",
            "Epoch 71/150\n",
            "359/359 [==============================] - 0s 1ms/step - loss: 0.4211\n",
            "Epoch 72/150\n",
            "359/359 [==============================] - 0s 1ms/step - loss: 0.4202\n",
            "Epoch 73/150\n",
            "359/359 [==============================] - 0s 1ms/step - loss: 0.4195\n",
            "Epoch 74/150\n",
            "359/359 [==============================] - 0s 1ms/step - loss: 0.4204\n",
            "Epoch 75/150\n",
            "359/359 [==============================] - 0s 1ms/step - loss: 0.4200\n",
            "Epoch 76/150\n",
            "359/359 [==============================] - 0s 1ms/step - loss: 0.4196\n",
            "Epoch 77/150\n",
            "359/359 [==============================] - 0s 1ms/step - loss: 0.4188\n",
            "Epoch 78/150\n",
            "359/359 [==============================] - 0s 1ms/step - loss: 0.4191\n",
            "Epoch 79/150\n",
            "359/359 [==============================] - 0s 1ms/step - loss: 0.4190\n",
            "Epoch 80/150\n",
            "359/359 [==============================] - 0s 1ms/step - loss: 0.4182\n",
            "Epoch 81/150\n",
            "359/359 [==============================] - 0s 1ms/step - loss: 0.4194\n",
            "Epoch 82/150\n",
            "359/359 [==============================] - 0s 1ms/step - loss: 0.4184\n",
            "Epoch 83/150\n",
            "359/359 [==============================] - 0s 1ms/step - loss: 0.4180\n",
            "Epoch 84/150\n",
            "359/359 [==============================] - 0s 1ms/step - loss: 0.4193\n",
            "Epoch 85/150\n",
            "359/359 [==============================] - 0s 1ms/step - loss: 0.4169\n",
            "Epoch 86/150\n",
            "359/359 [==============================] - 0s 1ms/step - loss: 0.4170\n",
            "Epoch 87/150\n",
            "359/359 [==============================] - 0s 1ms/step - loss: 0.4174\n",
            "Epoch 88/150\n",
            "359/359 [==============================] - 0s 1ms/step - loss: 0.4165\n",
            "Epoch 89/150\n",
            "359/359 [==============================] - 0s 1ms/step - loss: 0.4176\n",
            "Epoch 90/150\n",
            "359/359 [==============================] - 0s 1ms/step - loss: 0.4176\n",
            "Epoch 91/150\n",
            "359/359 [==============================] - 0s 1ms/step - loss: 0.4169\n",
            "Epoch 92/150\n",
            "359/359 [==============================] - 0s 1ms/step - loss: 0.4170\n",
            "Epoch 93/150\n",
            "359/359 [==============================] - 0s 1ms/step - loss: 0.4170\n",
            "Epoch 94/150\n",
            "359/359 [==============================] - 0s 1ms/step - loss: 0.4171\n",
            "Epoch 95/150\n",
            "359/359 [==============================] - 0s 1ms/step - loss: 0.4163\n",
            "Epoch 96/150\n",
            "359/359 [==============================] - 0s 1ms/step - loss: 0.4165\n",
            "Epoch 97/150\n",
            "359/359 [==============================] - 0s 1ms/step - loss: 0.4160\n",
            "Epoch 98/150\n",
            "359/359 [==============================] - 0s 1ms/step - loss: 0.4165\n",
            "Epoch 99/150\n",
            "359/359 [==============================] - 0s 1ms/step - loss: 0.4161\n",
            "Epoch 100/150\n",
            "359/359 [==============================] - 0s 1ms/step - loss: 0.4153\n",
            "Epoch 101/150\n",
            "359/359 [==============================] - 0s 1ms/step - loss: 0.4168\n",
            "Epoch 102/150\n",
            "359/359 [==============================] - 0s 1ms/step - loss: 0.4157\n",
            "Epoch 103/150\n",
            "359/359 [==============================] - 0s 1ms/step - loss: 0.4153\n",
            "Epoch 104/150\n",
            "359/359 [==============================] - 0s 1ms/step - loss: 0.4159\n",
            "Epoch 105/150\n",
            "359/359 [==============================] - 0s 1ms/step - loss: 0.4156\n",
            "Epoch 106/150\n",
            "359/359 [==============================] - 0s 1ms/step - loss: 0.4156\n",
            "Epoch 107/150\n",
            "359/359 [==============================] - 0s 1ms/step - loss: 0.4146\n",
            "Epoch 108/150\n",
            "359/359 [==============================] - 0s 1ms/step - loss: 0.4153\n",
            "Epoch 109/150\n",
            "359/359 [==============================] - 0s 1ms/step - loss: 0.4150\n",
            "Epoch 110/150\n",
            "359/359 [==============================] - 0s 1ms/step - loss: 0.4154\n",
            "Epoch 111/150\n",
            "359/359 [==============================] - 0s 1ms/step - loss: 0.4153\n",
            "Epoch 112/150\n",
            "359/359 [==============================] - 0s 1ms/step - loss: 0.4146\n",
            "Epoch 113/150\n",
            "359/359 [==============================] - 0s 1ms/step - loss: 0.4151\n",
            "Epoch 114/150\n",
            "359/359 [==============================] - 0s 1ms/step - loss: 0.4148\n",
            "Epoch 115/150\n",
            "359/359 [==============================] - 0s 1ms/step - loss: 0.4145\n",
            "Epoch 116/150\n",
            "359/359 [==============================] - 0s 1ms/step - loss: 0.4141\n",
            "Epoch 117/150\n",
            "359/359 [==============================] - 0s 1ms/step - loss: 0.4147\n",
            "Epoch 118/150\n",
            "359/359 [==============================] - 0s 1ms/step - loss: 0.4145\n",
            "Epoch 119/150\n",
            "359/359 [==============================] - 0s 1ms/step - loss: 0.4144\n",
            "Epoch 120/150\n",
            "359/359 [==============================] - 0s 1ms/step - loss: 0.4141\n",
            "Epoch 121/150\n",
            "359/359 [==============================] - 0s 1ms/step - loss: 0.4148\n",
            "Epoch 122/150\n",
            "359/359 [==============================] - 0s 1ms/step - loss: 0.4147\n",
            "Epoch 123/150\n",
            "359/359 [==============================] - 0s 1ms/step - loss: 0.4138\n",
            "Epoch 124/150\n",
            "359/359 [==============================] - 0s 1ms/step - loss: 0.4137\n",
            "Epoch 125/150\n",
            "359/359 [==============================] - 0s 1ms/step - loss: 0.4132\n",
            "Epoch 126/150\n",
            "359/359 [==============================] - 0s 1ms/step - loss: 0.4141\n",
            "Epoch 127/150\n",
            "359/359 [==============================] - 0s 1ms/step - loss: 0.4145\n",
            "Epoch 128/150\n",
            "359/359 [==============================] - 0s 1ms/step - loss: 0.4133\n",
            "Epoch 129/150\n",
            "359/359 [==============================] - 0s 1ms/step - loss: 0.4140\n",
            "Epoch 130/150\n",
            "359/359 [==============================] - 0s 1ms/step - loss: 0.4136\n",
            "Epoch 131/150\n",
            "359/359 [==============================] - 0s 1ms/step - loss: 0.4137\n",
            "Epoch 132/150\n",
            "359/359 [==============================] - 0s 1ms/step - loss: 0.4142\n",
            "Epoch 133/150\n",
            "359/359 [==============================] - 0s 1ms/step - loss: 0.4144\n",
            "Epoch 134/150\n",
            "359/359 [==============================] - 0s 1ms/step - loss: 0.4138\n",
            "Epoch 135/150\n",
            "359/359 [==============================] - 0s 1ms/step - loss: 0.4142\n",
            "Epoch 136/150\n",
            "359/359 [==============================] - 0s 1ms/step - loss: 0.4138\n",
            "Epoch 137/150\n",
            "359/359 [==============================] - 0s 1ms/step - loss: 0.4131\n",
            "Epoch 138/150\n",
            "359/359 [==============================] - 0s 1ms/step - loss: 0.4127\n",
            "Epoch 139/150\n",
            "359/359 [==============================] - 0s 1ms/step - loss: 0.4133\n",
            "Epoch 140/150\n",
            "359/359 [==============================] - 0s 1ms/step - loss: 0.4135\n",
            "Epoch 141/150\n",
            "359/359 [==============================] - 0s 1ms/step - loss: 0.4129\n",
            "Epoch 142/150\n",
            "359/359 [==============================] - 0s 1ms/step - loss: 0.4130\n",
            "Epoch 143/150\n",
            "359/359 [==============================] - 0s 1ms/step - loss: 0.4133\n",
            "Epoch 144/150\n",
            "359/359 [==============================] - 0s 1ms/step - loss: 0.4137\n",
            "Epoch 145/150\n",
            "359/359 [==============================] - 0s 1ms/step - loss: 0.4130\n",
            "Epoch 146/150\n",
            "359/359 [==============================] - 0s 1ms/step - loss: 0.4123\n",
            "Epoch 147/150\n",
            "359/359 [==============================] - 0s 1ms/step - loss: 0.4132\n",
            "Epoch 148/150\n",
            "359/359 [==============================] - 0s 1ms/step - loss: 0.4123\n",
            "Epoch 149/150\n",
            "359/359 [==============================] - 0s 1ms/step - loss: 0.4124\n",
            "Epoch 150/150\n",
            "359/359 [==============================] - 0s 1ms/step - loss: 0.4135\n"
          ],
          "name": "stdout"
        }
      ]
    },
    {
      "cell_type": "code",
      "metadata": {
        "colab": {
          "base_uri": "https://localhost:8080/",
          "height": 285
        },
        "id": "UphOrv1Y9Ntq",
        "outputId": "bf9887cb-0f12-4997-bb08-a5912f1e3d8d"
      },
      "source": [
        "plt.plot(trained_model.history[\"loss\"])"
      ],
      "execution_count": 174,
      "outputs": [
        {
          "output_type": "execute_result",
          "data": {
            "text/plain": [
              "[<matplotlib.lines.Line2D at 0x7f7e6e04bb90>]"
            ]
          },
          "metadata": {
            "tags": []
          },
          "execution_count": 174
        },
        {
          "output_type": "display_data",
          "data": {
            "image/png": "[encoded data removed]",
            "text/plain": [
              "<Figure size 432x288 with 1 Axes>"
            ]
          },
          "metadata": {
            "tags": [],
            "needs_background": "light"
          }
        }
      ]
    },
    {
      "cell_type": "code",
      "metadata": {
        "id": "4rT2Dv_I9S3v"
      },
      "source": [
        "Y_pred = model.predict(X_test)\n",
        "Y_pred = np.where(Y_pred >= 0.5,1,0)"
      ],
      "execution_count": 175,
      "outputs": []
    },
    {
      "cell_type": "code",
      "metadata": {
        "colab": {
          "base_uri": "https://localhost:8080/",
          "height": 0
        },
        "id": "MQELF6HL9VNJ",
        "outputId": "70b72c53-f1d4-478e-9f80-656b43285075"
      },
      "source": [
        "print(classification_report(Y_test,Y_pred))\n",
        "smote_acc = accuracy_score(Y_test,Y_pred)\n",
        "smote_rec = recall_score(Y_test,Y_pred)\n",
        "smote_p = precision_score(Y_test,Y_pred)\n",
        "smote_f1 = f1_score(Y_test,Y_pred)\n",
        "print('Recall ->',smote_rec)\n",
        "print('Precision ->',smote_rec)\n",
        "print('F1 Score ->',smote_f1)\n",
        "print('Accuracy ->',smote_acc)"
      ],
      "execution_count": 176,
      "outputs": [
        {
          "output_type": "stream",
          "text": [
            "              precision    recall  f1-score   support\n",
            "\n",
            "           0       0.90      0.71      0.80      1585\n",
            "           1       0.47      0.77      0.59       528\n",
            "\n",
            "    accuracy                           0.73      2113\n",
            "   macro avg       0.69      0.74      0.69      2113\n",
            "weighted avg       0.80      0.73      0.75      2113\n",
            "\n",
            "Recall -> 0.7746212121212122\n",
            "Precision -> 0.7746212121212122\n",
            "F1 Score -> 0.5880661394680086\n",
            "Accuracy -> 0.7288215806909607\n"
          ],
          "name": "stdout"
        }
      ]
    },
    {
      "cell_type": "code",
      "metadata": {
        "colab": {
          "base_uri": "https://localhost:8080/",
          "height": 0
        },
        "id": "UEt2RxVh9jLZ",
        "outputId": "0f753acd-4473-42ad-89bc-2a3b4075f36b"
      },
      "source": [
        "smote_y_train.value_counts()"
      ],
      "execution_count": 177,
      "outputs": [
        {
          "output_type": "execute_result",
          "data": {
            "text/plain": [
              "Churn\n",
              "1        3589\n",
              "0        3589\n",
              "dtype: int64"
            ]
          },
          "metadata": {
            "tags": []
          },
          "execution_count": 177
        }
      ]
    },
    {
      "cell_type": "markdown",
      "metadata": {
        "id": "xqvAacMsZ7QB"
      },
      "source": [
        "5. ADASYN: Adaptive Synthetic Sampling Approach"
      ]
    },
    {
      "cell_type": "code",
      "metadata": {
        "id": "5VK_uINi9uRp"
      },
      "source": [
        "from imblearn.over_sampling import ADASYN\n",
        "\n",
        "# Synthesize minority class datapoints using SMOTE\n",
        "ada = ADASYN(random_state=42)\n",
        "ada_x_train, ada_y_train = ada.fit_resample(X_train, Y_train)"
      ],
      "execution_count": 178,
      "outputs": []
    },
    {
      "cell_type": "code",
      "metadata": {
        "id": "1xlIWXWKbdsB"
      },
      "source": [
        "# Separate into training and test sets\n",
        "ada_x_train = pd.DataFrame(ada_x_train, columns = X_train.columns)\n",
        "ada_y_train = pd.DataFrame(ada_y_train, columns = ['Churn'])"
      ],
      "execution_count": 179,
      "outputs": []
    },
    {
      "cell_type": "code",
      "metadata": {
        "colab": {
          "base_uri": "https://localhost:8080/",
          "height": 0
        },
        "id": "3QDzANLNaQUq",
        "outputId": "f7247271-e356-4ff4-eac8-c1489a0537a1"
      },
      "source": [
        "ada_y_train.value_counts()"
      ],
      "execution_count": 180,
      "outputs": [
        {
          "output_type": "execute_result",
          "data": {
            "text/plain": [
              "Churn\n",
              "1        3640\n",
              "0        3589\n",
              "dtype: int64"
            ]
          },
          "metadata": {
            "tags": []
          },
          "execution_count": 180
        }
      ]
    },
    {
      "cell_type": "code",
      "metadata": {
        "id": "h7GCludFbG4s"
      },
      "source": [
        "model = Sequential()\n",
        "model.add(Dense(8, activation=\"relu\", input_dim=20))\n",
        "model.add(Dense(8, activation=\"relu\"))\n",
        "model.add(Dense(8, activation=\"relu\"))\n",
        "model.add(Dense(1, activation=\"sigmoid\"))"
      ],
      "execution_count": 181,
      "outputs": []
    },
    {
      "cell_type": "code",
      "metadata": {
        "id": "8Z5BkvUlbpW9"
      },
      "source": [
        "model.compile(optimizer=\"adam\", loss=\"binary_crossentropy\")"
      ],
      "execution_count": 182,
      "outputs": []
    },
    {
      "cell_type": "code",
      "metadata": {
        "colab": {
          "base_uri": "https://localhost:8080/",
          "height": 0
        },
        "id": "5_IyrzxMbtxt",
        "outputId": "fcf3a049-8ca7-4ad3-8ee5-3e87183829dd"
      },
      "source": [
        "trained_model = model.fit(ada_x_train, ada_y_train, epochs=150,batch_size=20)"
      ],
      "execution_count": 183,
      "outputs": [
        {
          "output_type": "stream",
          "text": [
            "Epoch 1/150\n",
            "362/362 [==============================] - 1s 1ms/step - loss: 0.6772\n",
            "Epoch 2/150\n",
            "362/362 [==============================] - 0s 1ms/step - loss: 0.5734\n",
            "Epoch 3/150\n",
            "362/362 [==============================] - 0s 1ms/step - loss: 0.5213\n",
            "Epoch 4/150\n",
            "362/362 [==============================] - 0s 1ms/step - loss: 0.5114\n",
            "Epoch 5/150\n",
            "362/362 [==============================] - 0s 1ms/step - loss: 0.5069\n",
            "Epoch 6/150\n",
            "362/362 [==============================] - 0s 1ms/step - loss: 0.5032\n",
            "Epoch 7/150\n",
            "362/362 [==============================] - 0s 1ms/step - loss: 0.5004\n",
            "Epoch 8/150\n",
            "362/362 [==============================] - 0s 1ms/step - loss: 0.4981\n",
            "Epoch 9/150\n",
            "362/362 [==============================] - 0s 1ms/step - loss: 0.4965\n",
            "Epoch 10/150\n",
            "362/362 [==============================] - 0s 1ms/step - loss: 0.4946\n",
            "Epoch 11/150\n",
            "362/362 [==============================] - 0s 1ms/step - loss: 0.4928\n",
            "Epoch 12/150\n",
            "362/362 [==============================] - 0s 1ms/step - loss: 0.4908\n",
            "Epoch 13/150\n",
            "362/362 [==============================] - 0s 1ms/step - loss: 0.4893\n",
            "Epoch 14/150\n",
            "362/362 [==============================] - 0s 1ms/step - loss: 0.4882\n",
            "Epoch 15/150\n",
            "362/362 [==============================] - 0s 1ms/step - loss: 0.4866\n",
            "Epoch 16/150\n",
            "362/362 [==============================] - 0s 1ms/step - loss: 0.4857\n",
            "Epoch 17/150\n",
            "362/362 [==============================] - 0s 1ms/step - loss: 0.4843\n",
            "Epoch 18/150\n",
            "362/362 [==============================] - 0s 1ms/step - loss: 0.4834\n",
            "Epoch 19/150\n",
            "362/362 [==============================] - 0s 1ms/step - loss: 0.4819\n",
            "Epoch 20/150\n",
            "362/362 [==============================] - 0s 1ms/step - loss: 0.4807\n",
            "Epoch 21/150\n",
            "362/362 [==============================] - 0s 1ms/step - loss: 0.4813\n",
            "Epoch 22/150\n",
            "362/362 [==============================] - 0s 1ms/step - loss: 0.4798\n",
            "Epoch 23/150\n",
            "362/362 [==============================] - 0s 1ms/step - loss: 0.4790\n",
            "Epoch 24/150\n",
            "362/362 [==============================] - 0s 1ms/step - loss: 0.4783\n",
            "Epoch 25/150\n",
            "362/362 [==============================] - 0s 1ms/step - loss: 0.4778\n",
            "Epoch 26/150\n",
            "362/362 [==============================] - 0s 1ms/step - loss: 0.4773\n",
            "Epoch 27/150\n",
            "362/362 [==============================] - 0s 1ms/step - loss: 0.4765\n",
            "Epoch 28/150\n",
            "362/362 [==============================] - 0s 1ms/step - loss: 0.4758\n",
            "Epoch 29/150\n",
            "362/362 [==============================] - 0s 1ms/step - loss: 0.4751\n",
            "Epoch 30/150\n",
            "362/362 [==============================] - 0s 1ms/step - loss: 0.4746\n",
            "Epoch 31/150\n",
            "362/362 [==============================] - 0s 1ms/step - loss: 0.4745\n",
            "Epoch 32/150\n",
            "362/362 [==============================] - 0s 1ms/step - loss: 0.4734\n",
            "Epoch 33/150\n",
            "362/362 [==============================] - 0s 1ms/step - loss: 0.4736\n",
            "Epoch 34/150\n",
            "362/362 [==============================] - 0s 1ms/step - loss: 0.4724\n",
            "Epoch 35/150\n",
            "362/362 [==============================] - 0s 1ms/step - loss: 0.4734\n",
            "Epoch 36/150\n",
            "362/362 [==============================] - 0s 1ms/step - loss: 0.4715\n",
            "Epoch 37/150\n",
            "362/362 [==============================] - 0s 1ms/step - loss: 0.4717\n",
            "Epoch 38/150\n",
            "362/362 [==============================] - 0s 1ms/step - loss: 0.4705\n",
            "Epoch 39/150\n",
            "362/362 [==============================] - 0s 1ms/step - loss: 0.4709\n",
            "Epoch 40/150\n",
            "362/362 [==============================] - 0s 1ms/step - loss: 0.4699\n",
            "Epoch 41/150\n",
            "362/362 [==============================] - 0s 1ms/step - loss: 0.4697\n",
            "Epoch 42/150\n",
            "362/362 [==============================] - 0s 1ms/step - loss: 0.4698\n",
            "Epoch 43/150\n",
            "362/362 [==============================] - 0s 1ms/step - loss: 0.4689\n",
            "Epoch 44/150\n",
            "362/362 [==============================] - 0s 1ms/step - loss: 0.4685\n",
            "Epoch 45/150\n",
            "362/362 [==============================] - 0s 1ms/step - loss: 0.4685\n",
            "Epoch 46/150\n",
            "362/362 [==============================] - 0s 1ms/step - loss: 0.4685\n",
            "Epoch 47/150\n",
            "362/362 [==============================] - 0s 1ms/step - loss: 0.4678\n",
            "Epoch 48/150\n",
            "362/362 [==============================] - 0s 1ms/step - loss: 0.4672\n",
            "Epoch 49/150\n",
            "362/362 [==============================] - 0s 1ms/step - loss: 0.4671\n",
            "Epoch 50/150\n",
            "362/362 [==============================] - 0s 1ms/step - loss: 0.4661\n",
            "Epoch 51/150\n",
            "362/362 [==============================] - 0s 1ms/step - loss: 0.4667\n",
            "Epoch 52/150\n",
            "362/362 [==============================] - 0s 1ms/step - loss: 0.4656\n",
            "Epoch 53/150\n",
            "362/362 [==============================] - 0s 1ms/step - loss: 0.4654\n",
            "Epoch 54/150\n",
            "362/362 [==============================] - 0s 1ms/step - loss: 0.4646\n",
            "Epoch 55/150\n",
            "362/362 [==============================] - 0s 1ms/step - loss: 0.4643\n",
            "Epoch 56/150\n",
            "362/362 [==============================] - 0s 1ms/step - loss: 0.4644\n",
            "Epoch 57/150\n",
            "362/362 [==============================] - 0s 1ms/step - loss: 0.4635\n",
            "Epoch 58/150\n",
            "362/362 [==============================] - 0s 1ms/step - loss: 0.4630\n",
            "Epoch 59/150\n",
            "362/362 [==============================] - 0s 1ms/step - loss: 0.4634\n",
            "Epoch 60/150\n",
            "362/362 [==============================] - 0s 1ms/step - loss: 0.4623\n",
            "Epoch 61/150\n",
            "362/362 [==============================] - 0s 1ms/step - loss: 0.4623\n",
            "Epoch 62/150\n",
            "362/362 [==============================] - 0s 1ms/step - loss: 0.4624\n",
            "Epoch 63/150\n",
            "362/362 [==============================] - 0s 1ms/step - loss: 0.4617\n",
            "Epoch 64/150\n",
            "362/362 [==============================] - 0s 1ms/step - loss: 0.4609\n",
            "Epoch 65/150\n",
            "362/362 [==============================] - 0s 1ms/step - loss: 0.4604\n",
            "Epoch 66/150\n",
            "362/362 [==============================] - 0s 1ms/step - loss: 0.4601\n",
            "Epoch 67/150\n",
            "362/362 [==============================] - 0s 1ms/step - loss: 0.4594\n",
            "Epoch 68/150\n",
            "362/362 [==============================] - 0s 1ms/step - loss: 0.4601\n",
            "Epoch 69/150\n",
            "362/362 [==============================] - 0s 1ms/step - loss: 0.4599\n",
            "Epoch 70/150\n",
            "362/362 [==============================] - 0s 1ms/step - loss: 0.4589\n",
            "Epoch 71/150\n",
            "362/362 [==============================] - 0s 1ms/step - loss: 0.4585\n",
            "Epoch 72/150\n",
            "362/362 [==============================] - 0s 1ms/step - loss: 0.4583\n",
            "Epoch 73/150\n",
            "362/362 [==============================] - 0s 1ms/step - loss: 0.4585\n",
            "Epoch 74/150\n",
            "362/362 [==============================] - 0s 1ms/step - loss: 0.4575\n",
            "Epoch 75/150\n",
            "362/362 [==============================] - 0s 1ms/step - loss: 0.4579\n",
            "Epoch 76/150\n",
            "362/362 [==============================] - 0s 1ms/step - loss: 0.4579\n",
            "Epoch 77/150\n",
            "362/362 [==============================] - 0s 1ms/step - loss: 0.4573\n",
            "Epoch 78/150\n",
            "362/362 [==============================] - 0s 1ms/step - loss: 0.4567\n",
            "Epoch 79/150\n",
            "362/362 [==============================] - 0s 1ms/step - loss: 0.4569\n",
            "Epoch 80/150\n",
            "362/362 [==============================] - 0s 1ms/step - loss: 0.4564\n",
            "Epoch 81/150\n",
            "362/362 [==============================] - 0s 1ms/step - loss: 0.4562\n",
            "Epoch 82/150\n",
            "362/362 [==============================] - 0s 1ms/step - loss: 0.4560\n",
            "Epoch 83/150\n",
            "362/362 [==============================] - 0s 1ms/step - loss: 0.4556\n",
            "Epoch 84/150\n",
            "362/362 [==============================] - 0s 1ms/step - loss: 0.4561\n",
            "Epoch 85/150\n",
            "362/362 [==============================] - 0s 1ms/step - loss: 0.4550\n",
            "Epoch 86/150\n",
            "362/362 [==============================] - 0s 1ms/step - loss: 0.4553\n",
            "Epoch 87/150\n",
            "362/362 [==============================] - 0s 1ms/step - loss: 0.4546\n",
            "Epoch 88/150\n",
            "362/362 [==============================] - 0s 1ms/step - loss: 0.4543\n",
            "Epoch 89/150\n",
            "362/362 [==============================] - 0s 1ms/step - loss: 0.4538\n",
            "Epoch 90/150\n",
            "362/362 [==============================] - 0s 1ms/step - loss: 0.4539\n",
            "Epoch 91/150\n",
            "362/362 [==============================] - 0s 1ms/step - loss: 0.4540\n",
            "Epoch 92/150\n",
            "362/362 [==============================] - 0s 1ms/step - loss: 0.4532\n",
            "Epoch 93/150\n",
            "362/362 [==============================] - 0s 1ms/step - loss: 0.4538\n",
            "Epoch 94/150\n",
            "362/362 [==============================] - 0s 1ms/step - loss: 0.4528\n",
            "Epoch 95/150\n",
            "362/362 [==============================] - 0s 1ms/step - loss: 0.4529\n",
            "Epoch 96/150\n",
            "362/362 [==============================] - 0s 1ms/step - loss: 0.4521\n",
            "Epoch 97/150\n",
            "362/362 [==============================] - 0s 1ms/step - loss: 0.4526\n",
            "Epoch 98/150\n",
            "362/362 [==============================] - 0s 1ms/step - loss: 0.4510\n",
            "Epoch 99/150\n",
            "362/362 [==============================] - 0s 1ms/step - loss: 0.4522\n",
            "Epoch 100/150\n",
            "362/362 [==============================] - 0s 1ms/step - loss: 0.4516\n",
            "Epoch 101/150\n",
            "362/362 [==============================] - 0s 1ms/step - loss: 0.4503\n",
            "Epoch 102/150\n",
            "362/362 [==============================] - 0s 1ms/step - loss: 0.4501\n",
            "Epoch 103/150\n",
            "362/362 [==============================] - 0s 1ms/step - loss: 0.4510\n",
            "Epoch 104/150\n",
            "362/362 [==============================] - 0s 1ms/step - loss: 0.4496\n",
            "Epoch 105/150\n",
            "362/362 [==============================] - 0s 1ms/step - loss: 0.4497\n",
            "Epoch 106/150\n",
            "362/362 [==============================] - 0s 1ms/step - loss: 0.4492\n",
            "Epoch 107/150\n",
            "362/362 [==============================] - 0s 1ms/step - loss: 0.4496\n",
            "Epoch 108/150\n",
            "362/362 [==============================] - 0s 1ms/step - loss: 0.4490\n",
            "Epoch 109/150\n",
            "362/362 [==============================] - 0s 1ms/step - loss: 0.4484\n",
            "Epoch 110/150\n",
            "362/362 [==============================] - 0s 1ms/step - loss: 0.4484\n",
            "Epoch 111/150\n",
            "362/362 [==============================] - 0s 1ms/step - loss: 0.4474\n",
            "Epoch 112/150\n",
            "362/362 [==============================] - 0s 1ms/step - loss: 0.4478\n",
            "Epoch 113/150\n",
            "362/362 [==============================] - 0s 1ms/step - loss: 0.4469\n",
            "Epoch 114/150\n",
            "362/362 [==============================] - 0s 1ms/step - loss: 0.4462\n",
            "Epoch 115/150\n",
            "362/362 [==============================] - 0s 1ms/step - loss: 0.4461\n",
            "Epoch 116/150\n",
            "362/362 [==============================] - 0s 1ms/step - loss: 0.4460\n",
            "Epoch 117/150\n",
            "362/362 [==============================] - 0s 1ms/step - loss: 0.4460\n",
            "Epoch 118/150\n",
            "362/362 [==============================] - 0s 1ms/step - loss: 0.4454\n",
            "Epoch 119/150\n",
            "362/362 [==============================] - 0s 1ms/step - loss: 0.4457\n",
            "Epoch 120/150\n",
            "362/362 [==============================] - 0s 1ms/step - loss: 0.4451\n",
            "Epoch 121/150\n",
            "362/362 [==============================] - 0s 1ms/step - loss: 0.4441\n",
            "Epoch 122/150\n",
            "362/362 [==============================] - 0s 1ms/step - loss: 0.4438\n",
            "Epoch 123/150\n",
            "362/362 [==============================] - 0s 1ms/step - loss: 0.4441\n",
            "Epoch 124/150\n",
            "362/362 [==============================] - 0s 1ms/step - loss: 0.4428\n",
            "Epoch 125/150\n",
            "362/362 [==============================] - 0s 1ms/step - loss: 0.4439\n",
            "Epoch 126/150\n",
            "362/362 [==============================] - 0s 1ms/step - loss: 0.4442\n",
            "Epoch 127/150\n",
            "362/362 [==============================] - 0s 1ms/step - loss: 0.4420\n",
            "Epoch 128/150\n",
            "362/362 [==============================] - 0s 1ms/step - loss: 0.4417\n",
            "Epoch 129/150\n",
            "362/362 [==============================] - 0s 1ms/step - loss: 0.4418\n",
            "Epoch 130/150\n",
            "362/362 [==============================] - 0s 1ms/step - loss: 0.4419\n",
            "Epoch 131/150\n",
            "362/362 [==============================] - 0s 1ms/step - loss: 0.4414\n",
            "Epoch 132/150\n",
            "362/362 [==============================] - 0s 1ms/step - loss: 0.4424\n",
            "Epoch 133/150\n",
            "362/362 [==============================] - 0s 1ms/step - loss: 0.4415\n",
            "Epoch 134/150\n",
            "362/362 [==============================] - 0s 1ms/step - loss: 0.4413\n",
            "Epoch 135/150\n",
            "362/362 [==============================] - 0s 1ms/step - loss: 0.4411\n",
            "Epoch 136/150\n",
            "362/362 [==============================] - 0s 1ms/step - loss: 0.4403\n",
            "Epoch 137/150\n",
            "362/362 [==============================] - 0s 1ms/step - loss: 0.4401\n",
            "Epoch 138/150\n",
            "362/362 [==============================] - 0s 1ms/step - loss: 0.4404\n",
            "Epoch 139/150\n",
            "362/362 [==============================] - 0s 1ms/step - loss: 0.4398\n",
            "Epoch 140/150\n",
            "362/362 [==============================] - 0s 1ms/step - loss: 0.4404\n",
            "Epoch 141/150\n",
            "362/362 [==============================] - 0s 1ms/step - loss: 0.4403\n",
            "Epoch 142/150\n",
            "362/362 [==============================] - 0s 1ms/step - loss: 0.4393\n",
            "Epoch 143/150\n",
            "362/362 [==============================] - 0s 1ms/step - loss: 0.4385\n",
            "Epoch 144/150\n",
            "362/362 [==============================] - 0s 1ms/step - loss: 0.4387\n",
            "Epoch 145/150\n",
            "362/362 [==============================] - 0s 1ms/step - loss: 0.4396\n",
            "Epoch 146/150\n",
            "362/362 [==============================] - 0s 1ms/step - loss: 0.4381\n",
            "Epoch 147/150\n",
            "362/362 [==============================] - 0s 1ms/step - loss: 0.4378\n",
            "Epoch 148/150\n",
            "362/362 [==============================] - 0s 1ms/step - loss: 0.4370\n",
            "Epoch 149/150\n",
            "362/362 [==============================] - 0s 1ms/step - loss: 0.4374\n",
            "Epoch 150/150\n",
            "362/362 [==============================] - 0s 1ms/step - loss: 0.4376\n"
          ],
          "name": "stdout"
        }
      ]
    },
    {
      "cell_type": "code",
      "metadata": {
        "colab": {
          "base_uri": "https://localhost:8080/",
          "height": 281
        },
        "id": "NXB5XGcPbyGD",
        "outputId": "dccb2e81-e954-463a-de82-95964d60bf55"
      },
      "source": [
        "plt.plot(trained_model.history[\"loss\"])"
      ],
      "execution_count": 184,
      "outputs": [
        {
          "output_type": "execute_result",
          "data": {
            "text/plain": [
              "[<matplotlib.lines.Line2D at 0x7f7e6ce4a210>]"
            ]
          },
          "metadata": {
            "tags": []
          },
          "execution_count": 184
        },
        {
          "output_type": "display_data",
          "data": {
            "image/png": "[encoded data removed]",
            "text/plain": [
              "<Figure size 432x288 with 1 Axes>"
            ]
          },
          "metadata": {
            "tags": [],
            "needs_background": "light"
          }
        }
      ]
    },
    {
      "cell_type": "code",
      "metadata": {
        "id": "yvpTwx7Wb9SU"
      },
      "source": [
        "Y_pred = model.predict(X_test)\n",
        "Y_pred = np.where(Y_pred >= 0.5,1,0)"
      ],
      "execution_count": 185,
      "outputs": []
    },
    {
      "cell_type": "code",
      "metadata": {
        "colab": {
          "base_uri": "https://localhost:8080/",
          "height": 0
        },
        "id": "dAFQj_0nb_RW",
        "outputId": "8c7586f7-9ebe-4e3b-a964-ec9db8b9ece1"
      },
      "source": [
        "print(classification_report(Y_test,Y_pred))\n",
        "ada_acc = accuracy_score(Y_test,Y_pred)\n",
        "ada_rec = recall_score(Y_test,Y_pred)\n",
        "ada_p = precision_score(Y_test,Y_pred)\n",
        "ada_f1 = f1_score(Y_test,Y_pred)\n",
        "print('Recall ->',ada_rec)\n",
        "print('Precision ->',ada_rec)\n",
        "print('F1 Score ->',ada_f1)\n",
        "print('Accuracy ->',ada_acc)"
      ],
      "execution_count": 186,
      "outputs": [
        {
          "output_type": "stream",
          "text": [
            "              precision    recall  f1-score   support\n",
            "\n",
            "           0       0.91      0.70      0.79      1585\n",
            "           1       0.47      0.79      0.59       528\n",
            "\n",
            "    accuracy                           0.72      2113\n",
            "   macro avg       0.69      0.75      0.69      2113\n",
            "weighted avg       0.80      0.72      0.74      2113\n",
            "\n",
            "Recall -> 0.7897727272727273\n",
            "Precision -> 0.7897727272727273\n",
            "F1 Score -> 0.5889830508474576\n",
            "Accuracy -> 0.7245622337908187\n"
          ],
          "name": "stdout"
        }
      ]
    },
    {
      "cell_type": "markdown",
      "metadata": {
        "id": "50qfvh4acdJG"
      },
      "source": [
        "6. Hybridization: SMOTE + Tomek Links\n"
      ]
    },
    {
      "cell_type": "code",
      "metadata": {
        "id": "9YgpvxjCcCKX"
      },
      "source": [
        "from imblearn.combine import SMOTETomek"
      ],
      "execution_count": 187,
      "outputs": []
    },
    {
      "cell_type": "code",
      "metadata": {
        "id": "CQQy9YeGc35H"
      },
      "source": [
        "# oversampling using SMOTE+TOMEK\n",
        "stom = SMOTETomek(random_state=42)\n",
        "stom_x_train, stom_y_train = stom.fit_resample(X_train, Y_train)"
      ],
      "execution_count": 188,
      "outputs": []
    },
    {
      "cell_type": "code",
      "metadata": {
        "id": "LCuM_glBdNI8"
      },
      "source": [
        "# Separate into training and test sets\n",
        "stom_x_train = pd.DataFrame(stom_x_train, columns = X_train.columns)\n",
        "stom_y_train = pd.DataFrame(stom_y_train, columns = ['Churn'])"
      ],
      "execution_count": 189,
      "outputs": []
    },
    {
      "cell_type": "code",
      "metadata": {
        "colab": {
          "base_uri": "https://localhost:8080/",
          "height": 0
        },
        "id": "SloqvZt6dUx4",
        "outputId": "4cc92981-8c71-4711-dde2-c2ff01052ea1"
      },
      "source": [
        "stom_y_train.value_counts()"
      ],
      "execution_count": 190,
      "outputs": [
        {
          "output_type": "execute_result",
          "data": {
            "text/plain": [
              "Churn\n",
              "1        3470\n",
              "0        3470\n",
              "dtype: int64"
            ]
          },
          "metadata": {
            "tags": []
          },
          "execution_count": 190
        }
      ]
    },
    {
      "cell_type": "code",
      "metadata": {
        "colab": {
          "base_uri": "https://localhost:8080/",
          "height": 0
        },
        "id": "Q_4AAkjedXdm",
        "outputId": "230da899-f0eb-495e-cc2a-f78253dd01c3"
      },
      "source": [
        "model = Sequential()\n",
        "model.add(Dense(8, activation=\"relu\", input_dim=20))\n",
        "model.add(Dense(8, activation=\"relu\"))\n",
        "model.add(Dense(8, activation=\"relu\"))\n",
        "model.add(Dense(1, activation=\"sigmoid\"))\n",
        "\n",
        "model.compile(optimizer=\"adam\", loss=\"binary_crossentropy\")\n",
        "\n",
        "trained_model = model.fit(stom_x_train, stom_y_train, epochs=150,batch_size=20)"
      ],
      "execution_count": 191,
      "outputs": [
        {
          "output_type": "stream",
          "text": [
            "Epoch 1/150\n",
            "347/347 [==============================] - 1s 1ms/step - loss: 0.5956\n",
            "Epoch 2/150\n",
            "347/347 [==============================] - 0s 1ms/step - loss: 0.4839\n",
            "Epoch 3/150\n",
            "347/347 [==============================] - 0s 1ms/step - loss: 0.4642\n",
            "Epoch 4/150\n",
            "347/347 [==============================] - 0s 1ms/step - loss: 0.4551\n",
            "Epoch 5/150\n",
            "347/347 [==============================] - 0s 1ms/step - loss: 0.4497\n",
            "Epoch 6/150\n",
            "347/347 [==============================] - 0s 1ms/step - loss: 0.4459\n",
            "Epoch 7/150\n",
            "347/347 [==============================] - 0s 1ms/step - loss: 0.4427\n",
            "Epoch 8/150\n",
            "347/347 [==============================] - 0s 1ms/step - loss: 0.4401\n",
            "Epoch 9/150\n",
            "347/347 [==============================] - 0s 1ms/step - loss: 0.4377\n",
            "Epoch 10/150\n",
            "347/347 [==============================] - 0s 1ms/step - loss: 0.4365\n",
            "Epoch 11/150\n",
            "347/347 [==============================] - 0s 1ms/step - loss: 0.4340\n",
            "Epoch 12/150\n",
            "347/347 [==============================] - 0s 1ms/step - loss: 0.4332\n",
            "Epoch 13/150\n",
            "347/347 [==============================] - 0s 1ms/step - loss: 0.4313\n",
            "Epoch 14/150\n",
            "347/347 [==============================] - 0s 1ms/step - loss: 0.4297\n",
            "Epoch 15/150\n",
            "347/347 [==============================] - 0s 1ms/step - loss: 0.4290\n",
            "Epoch 16/150\n",
            "347/347 [==============================] - 0s 1ms/step - loss: 0.4268\n",
            "Epoch 17/150\n",
            "347/347 [==============================] - 0s 1ms/step - loss: 0.4264\n",
            "Epoch 18/150\n",
            "347/347 [==============================] - 0s 1ms/step - loss: 0.4251\n",
            "Epoch 19/150\n",
            "347/347 [==============================] - 0s 1ms/step - loss: 0.4238\n",
            "Epoch 20/150\n",
            "347/347 [==============================] - 0s 1ms/step - loss: 0.4232\n",
            "Epoch 21/150\n",
            "347/347 [==============================] - 0s 1ms/step - loss: 0.4217\n",
            "Epoch 22/150\n",
            "347/347 [==============================] - 0s 1ms/step - loss: 0.4212\n",
            "Epoch 23/150\n",
            "347/347 [==============================] - 0s 1ms/step - loss: 0.4209\n",
            "Epoch 24/150\n",
            "347/347 [==============================] - 0s 1ms/step - loss: 0.4202\n",
            "Epoch 25/150\n",
            "347/347 [==============================] - 0s 1ms/step - loss: 0.4196\n",
            "Epoch 26/150\n",
            "347/347 [==============================] - 0s 1ms/step - loss: 0.4183\n",
            "Epoch 27/150\n",
            "347/347 [==============================] - 0s 1ms/step - loss: 0.4187\n",
            "Epoch 28/150\n",
            "347/347 [==============================] - 0s 1ms/step - loss: 0.4177\n",
            "Epoch 29/150\n",
            "347/347 [==============================] - 0s 1ms/step - loss: 0.4171\n",
            "Epoch 30/150\n",
            "347/347 [==============================] - 0s 1ms/step - loss: 0.4171\n",
            "Epoch 31/150\n",
            "347/347 [==============================] - 0s 1ms/step - loss: 0.4162\n",
            "Epoch 32/150\n",
            "347/347 [==============================] - 0s 1ms/step - loss: 0.4164\n",
            "Epoch 33/150\n",
            "347/347 [==============================] - 0s 1ms/step - loss: 0.4159\n",
            "Epoch 34/150\n",
            "347/347 [==============================] - 0s 1ms/step - loss: 0.4156\n",
            "Epoch 35/150\n",
            "347/347 [==============================] - 0s 1ms/step - loss: 0.4153\n",
            "Epoch 36/150\n",
            "347/347 [==============================] - 0s 1ms/step - loss: 0.4149\n",
            "Epoch 37/150\n",
            "347/347 [==============================] - 0s 1ms/step - loss: 0.4141\n",
            "Epoch 38/150\n",
            "347/347 [==============================] - 0s 1ms/step - loss: 0.4140\n",
            "Epoch 39/150\n",
            "347/347 [==============================] - 0s 1ms/step - loss: 0.4136\n",
            "Epoch 40/150\n",
            "347/347 [==============================] - 0s 1ms/step - loss: 0.4139\n",
            "Epoch 41/150\n",
            "347/347 [==============================] - 0s 1ms/step - loss: 0.4130\n",
            "Epoch 42/150\n",
            "347/347 [==============================] - 0s 1ms/step - loss: 0.4124\n",
            "Epoch 43/150\n",
            "347/347 [==============================] - 0s 1ms/step - loss: 0.4120\n",
            "Epoch 44/150\n",
            "347/347 [==============================] - 0s 1ms/step - loss: 0.4131\n",
            "Epoch 45/150\n",
            "347/347 [==============================] - 0s 1ms/step - loss: 0.4120\n",
            "Epoch 46/150\n",
            "347/347 [==============================] - 0s 1ms/step - loss: 0.4115\n",
            "Epoch 47/150\n",
            "347/347 [==============================] - 0s 1ms/step - loss: 0.4112\n",
            "Epoch 48/150\n",
            "347/347 [==============================] - 0s 1ms/step - loss: 0.4104\n",
            "Epoch 49/150\n",
            "347/347 [==============================] - 0s 1ms/step - loss: 0.4104\n",
            "Epoch 50/150\n",
            "347/347 [==============================] - 0s 1ms/step - loss: 0.4105\n",
            "Epoch 51/150\n",
            "347/347 [==============================] - 0s 1ms/step - loss: 0.4103\n",
            "Epoch 52/150\n",
            "347/347 [==============================] - 0s 1ms/step - loss: 0.4096\n",
            "Epoch 53/150\n",
            "347/347 [==============================] - 0s 1ms/step - loss: 0.4098\n",
            "Epoch 54/150\n",
            "347/347 [==============================] - 0s 1ms/step - loss: 0.4080\n",
            "Epoch 55/150\n",
            "347/347 [==============================] - 0s 1ms/step - loss: 0.4085\n",
            "Epoch 56/150\n",
            "347/347 [==============================] - 0s 1ms/step - loss: 0.4077\n",
            "Epoch 57/150\n",
            "347/347 [==============================] - 0s 1ms/step - loss: 0.4078\n",
            "Epoch 58/150\n",
            "347/347 [==============================] - 0s 1ms/step - loss: 0.4080\n",
            "Epoch 59/150\n",
            "347/347 [==============================] - 0s 1ms/step - loss: 0.4075\n",
            "Epoch 60/150\n",
            "347/347 [==============================] - 0s 1ms/step - loss: 0.4067\n",
            "Epoch 61/150\n",
            "347/347 [==============================] - 0s 1ms/step - loss: 0.4064\n",
            "Epoch 62/150\n",
            "347/347 [==============================] - 0s 1ms/step - loss: 0.4063\n",
            "Epoch 63/150\n",
            "347/347 [==============================] - 0s 1ms/step - loss: 0.4056\n",
            "Epoch 64/150\n",
            "347/347 [==============================] - 0s 1ms/step - loss: 0.4057\n",
            "Epoch 65/150\n",
            "347/347 [==============================] - 0s 1ms/step - loss: 0.4053\n",
            "Epoch 66/150\n",
            "347/347 [==============================] - 0s 1ms/step - loss: 0.4058\n",
            "Epoch 67/150\n",
            "347/347 [==============================] - 0s 1ms/step - loss: 0.4056\n",
            "Epoch 68/150\n",
            "347/347 [==============================] - 0s 1ms/step - loss: 0.4043\n",
            "Epoch 69/150\n",
            "347/347 [==============================] - 0s 1ms/step - loss: 0.4048\n",
            "Epoch 70/150\n",
            "347/347 [==============================] - 0s 1ms/step - loss: 0.4046\n",
            "Epoch 71/150\n",
            "347/347 [==============================] - 0s 1ms/step - loss: 0.4036\n",
            "Epoch 72/150\n",
            "347/347 [==============================] - 0s 1ms/step - loss: 0.4040\n",
            "Epoch 73/150\n",
            "347/347 [==============================] - 0s 1ms/step - loss: 0.4042\n",
            "Epoch 74/150\n",
            "347/347 [==============================] - 0s 1ms/step - loss: 0.4030\n",
            "Epoch 75/150\n",
            "347/347 [==============================] - 0s 1ms/step - loss: 0.4027\n",
            "Epoch 76/150\n",
            "347/347 [==============================] - 0s 1ms/step - loss: 0.4028\n",
            "Epoch 77/150\n",
            "347/347 [==============================] - 0s 1ms/step - loss: 0.4023\n",
            "Epoch 78/150\n",
            "347/347 [==============================] - 0s 1ms/step - loss: 0.4016\n",
            "Epoch 79/150\n",
            "347/347 [==============================] - 0s 1ms/step - loss: 0.4018\n",
            "Epoch 80/150\n",
            "347/347 [==============================] - 0s 1ms/step - loss: 0.4018\n",
            "Epoch 81/150\n",
            "347/347 [==============================] - 0s 1ms/step - loss: 0.4005\n",
            "Epoch 82/150\n",
            "347/347 [==============================] - 0s 1ms/step - loss: 0.4009\n",
            "Epoch 83/150\n",
            "347/347 [==============================] - 0s 1ms/step - loss: 0.3997\n",
            "Epoch 84/150\n",
            "347/347 [==============================] - 0s 1ms/step - loss: 0.3992\n",
            "Epoch 85/150\n",
            "347/347 [==============================] - 0s 1ms/step - loss: 0.4000\n",
            "Epoch 86/150\n",
            "347/347 [==============================] - 0s 1ms/step - loss: 0.3985\n",
            "Epoch 87/150\n",
            "347/347 [==============================] - 0s 1ms/step - loss: 0.3991\n",
            "Epoch 88/150\n",
            "347/347 [==============================] - 0s 1ms/step - loss: 0.3993\n",
            "Epoch 89/150\n",
            "347/347 [==============================] - 0s 1ms/step - loss: 0.3985\n",
            "Epoch 90/150\n",
            "347/347 [==============================] - 0s 1ms/step - loss: 0.3981\n",
            "Epoch 91/150\n",
            "347/347 [==============================] - 0s 1ms/step - loss: 0.3980\n",
            "Epoch 92/150\n",
            "347/347 [==============================] - 0s 1ms/step - loss: 0.3978\n",
            "Epoch 93/150\n",
            "347/347 [==============================] - 0s 1ms/step - loss: 0.3972\n",
            "Epoch 94/150\n",
            "347/347 [==============================] - 0s 1ms/step - loss: 0.3970\n",
            "Epoch 95/150\n",
            "347/347 [==============================] - 0s 1ms/step - loss: 0.3973\n",
            "Epoch 96/150\n",
            "347/347 [==============================] - 0s 1ms/step - loss: 0.3968\n",
            "Epoch 97/150\n",
            "347/347 [==============================] - 0s 1ms/step - loss: 0.3966\n",
            "Epoch 98/150\n",
            "347/347 [==============================] - 0s 1ms/step - loss: 0.3966\n",
            "Epoch 99/150\n",
            "347/347 [==============================] - 0s 1ms/step - loss: 0.3965\n",
            "Epoch 100/150\n",
            "347/347 [==============================] - 0s 1ms/step - loss: 0.3963\n",
            "Epoch 101/150\n",
            "347/347 [==============================] - 0s 1ms/step - loss: 0.3961\n",
            "Epoch 102/150\n",
            "347/347 [==============================] - 0s 1ms/step - loss: 0.3956\n",
            "Epoch 103/150\n",
            "347/347 [==============================] - 0s 1ms/step - loss: 0.3958\n",
            "Epoch 104/150\n",
            "347/347 [==============================] - 0s 1ms/step - loss: 0.3946\n",
            "Epoch 105/150\n",
            "347/347 [==============================] - 0s 1ms/step - loss: 0.3950\n",
            "Epoch 106/150\n",
            "347/347 [==============================] - 0s 1ms/step - loss: 0.3948\n",
            "Epoch 107/150\n",
            "347/347 [==============================] - 0s 1ms/step - loss: 0.3949\n",
            "Epoch 108/150\n",
            "347/347 [==============================] - 0s 1ms/step - loss: 0.3943\n",
            "Epoch 109/150\n",
            "347/347 [==============================] - 0s 1ms/step - loss: 0.3943\n",
            "Epoch 110/150\n",
            "347/347 [==============================] - 0s 1ms/step - loss: 0.3944\n",
            "Epoch 111/150\n",
            "347/347 [==============================] - 0s 1ms/step - loss: 0.3941\n",
            "Epoch 112/150\n",
            "347/347 [==============================] - 0s 1ms/step - loss: 0.3929\n",
            "Epoch 113/150\n",
            "347/347 [==============================] - 0s 1ms/step - loss: 0.3946\n",
            "Epoch 114/150\n",
            "347/347 [==============================] - 0s 1ms/step - loss: 0.3935\n",
            "Epoch 115/150\n",
            "347/347 [==============================] - 0s 1ms/step - loss: 0.3927\n",
            "Epoch 116/150\n",
            "347/347 [==============================] - 0s 1ms/step - loss: 0.3930\n",
            "Epoch 117/150\n",
            "347/347 [==============================] - 0s 1ms/step - loss: 0.3930\n",
            "Epoch 118/150\n",
            "347/347 [==============================] - 0s 1ms/step - loss: 0.3922\n",
            "Epoch 119/150\n",
            "347/347 [==============================] - 0s 1ms/step - loss: 0.3922\n",
            "Epoch 120/150\n",
            "347/347 [==============================] - 0s 1ms/step - loss: 0.3926\n",
            "Epoch 121/150\n",
            "347/347 [==============================] - 0s 1ms/step - loss: 0.3928\n",
            "Epoch 122/150\n",
            "347/347 [==============================] - 0s 1ms/step - loss: 0.3917\n",
            "Epoch 123/150\n",
            "347/347 [==============================] - 0s 1ms/step - loss: 0.3911\n",
            "Epoch 124/150\n",
            "347/347 [==============================] - 0s 1ms/step - loss: 0.3923\n",
            "Epoch 125/150\n",
            "347/347 [==============================] - 0s 1ms/step - loss: 0.3918\n",
            "Epoch 126/150\n",
            "347/347 [==============================] - 0s 1ms/step - loss: 0.3912\n",
            "Epoch 127/150\n",
            "347/347 [==============================] - 0s 1ms/step - loss: 0.3915\n",
            "Epoch 128/150\n",
            "347/347 [==============================] - 0s 1ms/step - loss: 0.3911\n",
            "Epoch 129/150\n",
            "347/347 [==============================] - 0s 1ms/step - loss: 0.3913\n",
            "Epoch 130/150\n",
            "347/347 [==============================] - 0s 1ms/step - loss: 0.3908\n",
            "Epoch 131/150\n",
            "347/347 [==============================] - 0s 1ms/step - loss: 0.3911\n",
            "Epoch 132/150\n",
            "347/347 [==============================] - 0s 1ms/step - loss: 0.3907\n",
            "Epoch 133/150\n",
            "347/347 [==============================] - 0s 1ms/step - loss: 0.3904\n",
            "Epoch 134/150\n",
            "347/347 [==============================] - 0s 1ms/step - loss: 0.3906\n",
            "Epoch 135/150\n",
            "347/347 [==============================] - 0s 1ms/step - loss: 0.3896\n",
            "Epoch 136/150\n",
            "347/347 [==============================] - 0s 1ms/step - loss: 0.3897\n",
            "Epoch 137/150\n",
            "347/347 [==============================] - 0s 1ms/step - loss: 0.3901\n",
            "Epoch 138/150\n",
            "347/347 [==============================] - 0s 1ms/step - loss: 0.3897\n",
            "Epoch 139/150\n",
            "347/347 [==============================] - 0s 1ms/step - loss: 0.3907\n",
            "Epoch 140/150\n",
            "347/347 [==============================] - 0s 1ms/step - loss: 0.3898\n",
            "Epoch 141/150\n",
            "347/347 [==============================] - 0s 1ms/step - loss: 0.3899\n",
            "Epoch 142/150\n",
            "347/347 [==============================] - 0s 1ms/step - loss: 0.3886\n",
            "Epoch 143/150\n",
            "347/347 [==============================] - 0s 1ms/step - loss: 0.3895\n",
            "Epoch 144/150\n",
            "347/347 [==============================] - 0s 1ms/step - loss: 0.3892\n",
            "Epoch 145/150\n",
            "347/347 [==============================] - 0s 1ms/step - loss: 0.3898\n",
            "Epoch 146/150\n",
            "347/347 [==============================] - 0s 1ms/step - loss: 0.3889\n",
            "Epoch 147/150\n",
            "347/347 [==============================] - 0s 1ms/step - loss: 0.3895\n",
            "Epoch 148/150\n",
            "347/347 [==============================] - 0s 1ms/step - loss: 0.3895\n",
            "Epoch 149/150\n",
            "347/347 [==============================] - 0s 1ms/step - loss: 0.3887\n",
            "Epoch 150/150\n",
            "347/347 [==============================] - 0s 1ms/step - loss: 0.3880\n"
          ],
          "name": "stdout"
        }
      ]
    },
    {
      "cell_type": "code",
      "metadata": {
        "colab": {
          "base_uri": "https://localhost:8080/",
          "height": 281
        },
        "id": "KB2ly3pzdkJt",
        "outputId": "a3dbc473-d159-4146-8522-872bb276825c"
      },
      "source": [
        "plt.plot(trained_model.history[\"loss\"])"
      ],
      "execution_count": 192,
      "outputs": [
        {
          "output_type": "execute_result",
          "data": {
            "text/plain": [
              "[<matplotlib.lines.Line2D at 0x7f7e69158910>]"
            ]
          },
          "metadata": {
            "tags": []
          },
          "execution_count": 192
        },
        {
          "output_type": "display_data",
          "data": {
            "image/png": "[encoded data removed]",
            "text/plain": [
              "<Figure size 432x288 with 1 Axes>"
            ]
          },
          "metadata": {
            "tags": [],
            "needs_background": "light"
          }
        }
      ]
    },
    {
      "cell_type": "code",
      "metadata": {
        "colab": {
          "base_uri": "https://localhost:8080/",
          "height": 0
        },
        "id": "iOX-Y2T4dov4",
        "outputId": "0bf6cf68-df5b-41d7-abff-c7bfc9be93d5"
      },
      "source": [
        "Y_pred = model.predict(X_test)\n",
        "Y_pred = np.where(Y_pred >= 0.5,1,0)\n",
        "\n",
        "\n",
        "print(classification_report(Y_test,Y_pred))\n",
        "smtom_acc = accuracy_score(Y_test,Y_pred)\n",
        "smtom_rec = recall_score(Y_test,Y_pred)\n",
        "smtom_p = precision_score(Y_test,Y_pred)\n",
        "smtom_f1 = f1_score(Y_test,Y_pred)\n",
        "print('Recall ->',smtom_rec)\n",
        "print('Precision ->',smtom_rec)\n",
        "print('F1 Score ->',smtom_f1)\n",
        "print('Accuracy ->',smtom_acc)"
      ],
      "execution_count": 193,
      "outputs": [
        {
          "output_type": "stream",
          "text": [
            "              precision    recall  f1-score   support\n",
            "\n",
            "           0       0.90      0.77      0.83      1585\n",
            "           1       0.52      0.74      0.61       528\n",
            "\n",
            "    accuracy                           0.76      2113\n",
            "   macro avg       0.71      0.75      0.72      2113\n",
            "weighted avg       0.80      0.76      0.77      2113\n",
            "\n",
            "Recall -> 0.740530303030303\n",
            "Precision -> 0.740530303030303\n",
            "F1 Score -> 0.6076146076146076\n",
            "Accuracy -> 0.7610033128253668\n"
          ],
          "name": "stdout"
        }
      ]
    },
    {
      "cell_type": "markdown",
      "metadata": {
        "id": "yS6Z0DNhd5x6"
      },
      "source": [
        "7. Hybridization: SMOTE + ENN\n"
      ]
    },
    {
      "cell_type": "code",
      "metadata": {
        "id": "RcRJxL9FdxXK"
      },
      "source": [
        "from imblearn.combine import SMOTEENN"
      ],
      "execution_count": 194,
      "outputs": []
    },
    {
      "cell_type": "code",
      "metadata": {
        "id": "7gvyCSQ6eTdG"
      },
      "source": [
        "# oversampling using SMOTE+ENN\n",
        "senn = SMOTEENN(random_state=42)\n",
        "senn_x_train, senn_y_train = senn.fit_resample(X_train, Y_train)"
      ],
      "execution_count": 195,
      "outputs": []
    },
    {
      "cell_type": "code",
      "metadata": {
        "id": "Ec0gX_ZWeiAM"
      },
      "source": [
        "# Separate into training and test sets\n",
        "senn_x_train = pd.DataFrame(senn_x_train, columns = X_train.columns)\n",
        "senn_y_train = pd.DataFrame(senn_y_train, columns = ['Churn'])"
      ],
      "execution_count": 196,
      "outputs": []
    },
    {
      "cell_type": "code",
      "metadata": {
        "colab": {
          "base_uri": "https://localhost:8080/",
          "height": 0
        },
        "id": "i1wjqPxZesmv",
        "outputId": "9b813519-376f-4e00-cf3d-51e0f8f55c30"
      },
      "source": [
        "senn_y_train.value_counts()"
      ],
      "execution_count": 197,
      "outputs": [
        {
          "output_type": "execute_result",
          "data": {
            "text/plain": [
              "Churn\n",
              "1        2621\n",
              "0        1834\n",
              "dtype: int64"
            ]
          },
          "metadata": {
            "tags": []
          },
          "execution_count": 197
        }
      ]
    },
    {
      "cell_type": "code",
      "metadata": {
        "colab": {
          "base_uri": "https://localhost:8080/",
          "height": 0
        },
        "id": "pyBU_iLcej-I",
        "outputId": "c8b3234d-dc2c-43fd-84fe-20c377012a30"
      },
      "source": [
        "model = Sequential()\n",
        "model.add(Dense(8, activation=\"relu\", input_dim=20))\n",
        "model.add(Dense(8, activation=\"relu\"))\n",
        "model.add(Dense(8, activation=\"relu\"))\n",
        "model.add(Dense(1, activation=\"sigmoid\"))\n",
        "\n",
        "model.compile(optimizer=\"adam\", loss=\"binary_crossentropy\")\n",
        "\n",
        "trained_model = model.fit(senn_x_train, senn_y_train, epochs=150,batch_size=20)"
      ],
      "execution_count": 198,
      "outputs": [
        {
          "output_type": "stream",
          "text": [
            "Epoch 1/150\n",
            "223/223 [==============================] - 1s 1ms/step - loss: 0.4640\n",
            "Epoch 2/150\n",
            "223/223 [==============================] - 0s 1ms/step - loss: 0.2671\n",
            "Epoch 3/150\n",
            "223/223 [==============================] - 0s 1ms/step - loss: 0.2369\n",
            "Epoch 4/150\n",
            "223/223 [==============================] - 0s 1ms/step - loss: 0.2268\n",
            "Epoch 5/150\n",
            "223/223 [==============================] - 0s 1ms/step - loss: 0.2201\n",
            "Epoch 6/150\n",
            "223/223 [==============================] - 0s 1ms/step - loss: 0.2152\n",
            "Epoch 7/150\n",
            "223/223 [==============================] - 0s 1ms/step - loss: 0.2096\n",
            "Epoch 8/150\n",
            "223/223 [==============================] - 0s 1ms/step - loss: 0.2054\n",
            "Epoch 9/150\n",
            "223/223 [==============================] - 0s 1ms/step - loss: 0.2022\n",
            "Epoch 10/150\n",
            "223/223 [==============================] - 0s 1ms/step - loss: 0.1999\n",
            "Epoch 11/150\n",
            "223/223 [==============================] - 0s 1ms/step - loss: 0.1965\n",
            "Epoch 12/150\n",
            "223/223 [==============================] - 0s 1ms/step - loss: 0.1956\n",
            "Epoch 13/150\n",
            "223/223 [==============================] - 0s 1ms/step - loss: 0.1924\n",
            "Epoch 14/150\n",
            "223/223 [==============================] - 0s 1ms/step - loss: 0.1906\n",
            "Epoch 15/150\n",
            "223/223 [==============================] - 0s 1ms/step - loss: 0.1892\n",
            "Epoch 16/150\n",
            "223/223 [==============================] - 0s 1ms/step - loss: 0.1864\n",
            "Epoch 17/150\n",
            "223/223 [==============================] - 0s 1ms/step - loss: 0.1856\n",
            "Epoch 18/150\n",
            "223/223 [==============================] - 0s 1ms/step - loss: 0.1838\n",
            "Epoch 19/150\n",
            "223/223 [==============================] - 0s 1ms/step - loss: 0.1821\n",
            "Epoch 20/150\n",
            "223/223 [==============================] - 0s 1ms/step - loss: 0.1801\n",
            "Epoch 21/150\n",
            "223/223 [==============================] - 0s 1ms/step - loss: 0.1788\n",
            "Epoch 22/150\n",
            "223/223 [==============================] - 0s 1ms/step - loss: 0.1768\n",
            "Epoch 23/150\n",
            "223/223 [==============================] - 0s 1ms/step - loss: 0.1759\n",
            "Epoch 24/150\n",
            "223/223 [==============================] - 0s 1ms/step - loss: 0.1741\n",
            "Epoch 25/150\n",
            "223/223 [==============================] - 0s 1ms/step - loss: 0.1734\n",
            "Epoch 26/150\n",
            "223/223 [==============================] - 0s 1ms/step - loss: 0.1718\n",
            "Epoch 27/150\n",
            "223/223 [==============================] - 0s 1ms/step - loss: 0.1709\n",
            "Epoch 28/150\n",
            "223/223 [==============================] - 0s 1ms/step - loss: 0.1699\n",
            "Epoch 29/150\n",
            "223/223 [==============================] - 0s 1ms/step - loss: 0.1690\n",
            "Epoch 30/150\n",
            "223/223 [==============================] - 0s 1ms/step - loss: 0.1681\n",
            "Epoch 31/150\n",
            "223/223 [==============================] - 0s 1ms/step - loss: 0.1677\n",
            "Epoch 32/150\n",
            "223/223 [==============================] - 0s 1ms/step - loss: 0.1662\n",
            "Epoch 33/150\n",
            "223/223 [==============================] - 0s 1ms/step - loss: 0.1652\n",
            "Epoch 34/150\n",
            "223/223 [==============================] - 0s 1ms/step - loss: 0.1666\n",
            "Epoch 35/150\n",
            "223/223 [==============================] - 0s 1ms/step - loss: 0.1646\n",
            "Epoch 36/150\n",
            "223/223 [==============================] - 0s 1ms/step - loss: 0.1633\n",
            "Epoch 37/150\n",
            "223/223 [==============================] - 0s 1ms/step - loss: 0.1628\n",
            "Epoch 38/150\n",
            "223/223 [==============================] - 0s 1ms/step - loss: 0.1613\n",
            "Epoch 39/150\n",
            "223/223 [==============================] - 0s 1ms/step - loss: 0.1610\n",
            "Epoch 40/150\n",
            "223/223 [==============================] - 0s 1ms/step - loss: 0.1608\n",
            "Epoch 41/150\n",
            "223/223 [==============================] - 0s 1ms/step - loss: 0.1596\n",
            "Epoch 42/150\n",
            "223/223 [==============================] - 0s 1ms/step - loss: 0.1599\n",
            "Epoch 43/150\n",
            "223/223 [==============================] - 0s 1ms/step - loss: 0.1587\n",
            "Epoch 44/150\n",
            "223/223 [==============================] - 0s 1ms/step - loss: 0.1588\n",
            "Epoch 45/150\n",
            "223/223 [==============================] - 0s 1ms/step - loss: 0.1579\n",
            "Epoch 46/150\n",
            "223/223 [==============================] - 0s 1ms/step - loss: 0.1573\n",
            "Epoch 47/150\n",
            "223/223 [==============================] - 0s 1ms/step - loss: 0.1565\n",
            "Epoch 48/150\n",
            "223/223 [==============================] - 0s 1ms/step - loss: 0.1562\n",
            "Epoch 49/150\n",
            "223/223 [==============================] - 0s 1ms/step - loss: 0.1552\n",
            "Epoch 50/150\n",
            "223/223 [==============================] - 0s 1ms/step - loss: 0.1553\n",
            "Epoch 51/150\n",
            "223/223 [==============================] - 0s 1ms/step - loss: 0.1535\n",
            "Epoch 52/150\n",
            "223/223 [==============================] - 0s 1ms/step - loss: 0.1531\n",
            "Epoch 53/150\n",
            "223/223 [==============================] - 0s 1ms/step - loss: 0.1526\n",
            "Epoch 54/150\n",
            "223/223 [==============================] - 0s 1ms/step - loss: 0.1528\n",
            "Epoch 55/150\n",
            "223/223 [==============================] - 0s 1ms/step - loss: 0.1523\n",
            "Epoch 56/150\n",
            "223/223 [==============================] - 0s 1ms/step - loss: 0.1513\n",
            "Epoch 57/150\n",
            "223/223 [==============================] - 0s 1ms/step - loss: 0.1509\n",
            "Epoch 58/150\n",
            "223/223 [==============================] - 0s 1ms/step - loss: 0.1516\n",
            "Epoch 59/150\n",
            "223/223 [==============================] - 0s 1ms/step - loss: 0.1500\n",
            "Epoch 60/150\n",
            "223/223 [==============================] - 0s 1ms/step - loss: 0.1508\n",
            "Epoch 61/150\n",
            "223/223 [==============================] - 0s 1ms/step - loss: 0.1499\n",
            "Epoch 62/150\n",
            "223/223 [==============================] - 0s 1ms/step - loss: 0.1499\n",
            "Epoch 63/150\n",
            "223/223 [==============================] - 0s 1ms/step - loss: 0.1485\n",
            "Epoch 64/150\n",
            "223/223 [==============================] - 0s 1ms/step - loss: 0.1483\n",
            "Epoch 65/150\n",
            "223/223 [==============================] - 0s 1ms/step - loss: 0.1479\n",
            "Epoch 66/150\n",
            "223/223 [==============================] - 0s 1ms/step - loss: 0.1483\n",
            "Epoch 67/150\n",
            "223/223 [==============================] - 0s 1ms/step - loss: 0.1474\n",
            "Epoch 68/150\n",
            "223/223 [==============================] - 0s 1ms/step - loss: 0.1471\n",
            "Epoch 69/150\n",
            "223/223 [==============================] - 0s 1ms/step - loss: 0.1463\n",
            "Epoch 70/150\n",
            "223/223 [==============================] - 0s 1ms/step - loss: 0.1473\n",
            "Epoch 71/150\n",
            "223/223 [==============================] - 0s 1ms/step - loss: 0.1463\n",
            "Epoch 72/150\n",
            "223/223 [==============================] - 0s 1ms/step - loss: 0.1451\n",
            "Epoch 73/150\n",
            "223/223 [==============================] - 0s 1ms/step - loss: 0.1457\n",
            "Epoch 74/150\n",
            "223/223 [==============================] - 0s 1ms/step - loss: 0.1450\n",
            "Epoch 75/150\n",
            "223/223 [==============================] - 0s 1ms/step - loss: 0.1449\n",
            "Epoch 76/150\n",
            "223/223 [==============================] - 0s 1ms/step - loss: 0.1443\n",
            "Epoch 77/150\n",
            "223/223 [==============================] - 0s 1ms/step - loss: 0.1448\n",
            "Epoch 78/150\n",
            "223/223 [==============================] - 0s 1ms/step - loss: 0.1434\n",
            "Epoch 79/150\n",
            "223/223 [==============================] - 0s 1ms/step - loss: 0.1431\n",
            "Epoch 80/150\n",
            "223/223 [==============================] - 0s 1ms/step - loss: 0.1429\n",
            "Epoch 81/150\n",
            "223/223 [==============================] - 0s 1ms/step - loss: 0.1432\n",
            "Epoch 82/150\n",
            "223/223 [==============================] - 0s 1ms/step - loss: 0.1423\n",
            "Epoch 83/150\n",
            "223/223 [==============================] - 0s 1ms/step - loss: 0.1422\n",
            "Epoch 84/150\n",
            "223/223 [==============================] - 0s 1ms/step - loss: 0.1429\n",
            "Epoch 85/150\n",
            "223/223 [==============================] - 0s 1ms/step - loss: 0.1418\n",
            "Epoch 86/150\n",
            "223/223 [==============================] - 0s 1ms/step - loss: 0.1424\n",
            "Epoch 87/150\n",
            "223/223 [==============================] - 0s 1ms/step - loss: 0.1415\n",
            "Epoch 88/150\n",
            "223/223 [==============================] - 0s 1ms/step - loss: 0.1415\n",
            "Epoch 89/150\n",
            "223/223 [==============================] - 0s 1ms/step - loss: 0.1406\n",
            "Epoch 90/150\n",
            "223/223 [==============================] - 0s 1ms/step - loss: 0.1405\n",
            "Epoch 91/150\n",
            "223/223 [==============================] - 0s 1ms/step - loss: 0.1398\n",
            "Epoch 92/150\n",
            "223/223 [==============================] - 0s 1ms/step - loss: 0.1395\n",
            "Epoch 93/150\n",
            "223/223 [==============================] - 0s 1ms/step - loss: 0.1400\n",
            "Epoch 94/150\n",
            "223/223 [==============================] - 0s 1ms/step - loss: 0.1399\n",
            "Epoch 95/150\n",
            "223/223 [==============================] - 0s 1ms/step - loss: 0.1397\n",
            "Epoch 96/150\n",
            "223/223 [==============================] - 0s 1ms/step - loss: 0.1390\n",
            "Epoch 97/150\n",
            "223/223 [==============================] - 0s 1ms/step - loss: 0.1384\n",
            "Epoch 98/150\n",
            "223/223 [==============================] - 0s 1ms/step - loss: 0.1375\n",
            "Epoch 99/150\n",
            "223/223 [==============================] - 0s 1ms/step - loss: 0.1372\n",
            "Epoch 100/150\n",
            "223/223 [==============================] - 0s 1ms/step - loss: 0.1370\n",
            "Epoch 101/150\n",
            "223/223 [==============================] - 0s 1ms/step - loss: 0.1371\n",
            "Epoch 102/150\n",
            "223/223 [==============================] - 0s 1ms/step - loss: 0.1365\n",
            "Epoch 103/150\n",
            "223/223 [==============================] - 0s 1ms/step - loss: 0.1381\n",
            "Epoch 104/150\n",
            "223/223 [==============================] - 0s 1ms/step - loss: 0.1361\n",
            "Epoch 105/150\n",
            "223/223 [==============================] - 0s 1ms/step - loss: 0.1359\n",
            "Epoch 106/150\n",
            "223/223 [==============================] - 0s 1ms/step - loss: 0.1364\n",
            "Epoch 107/150\n",
            "223/223 [==============================] - 0s 1ms/step - loss: 0.1357\n",
            "Epoch 108/150\n",
            "223/223 [==============================] - 0s 1ms/step - loss: 0.1361\n",
            "Epoch 109/150\n",
            "223/223 [==============================] - 0s 1ms/step - loss: 0.1344\n",
            "Epoch 110/150\n",
            "223/223 [==============================] - 0s 1ms/step - loss: 0.1344\n",
            "Epoch 111/150\n",
            "223/223 [==============================] - 0s 1ms/step - loss: 0.1348\n",
            "Epoch 112/150\n",
            "223/223 [==============================] - 0s 1ms/step - loss: 0.1342\n",
            "Epoch 113/150\n",
            "223/223 [==============================] - 0s 1ms/step - loss: 0.1337\n",
            "Epoch 114/150\n",
            "223/223 [==============================] - 0s 1ms/step - loss: 0.1342\n",
            "Epoch 115/150\n",
            "223/223 [==============================] - 0s 1ms/step - loss: 0.1341\n",
            "Epoch 116/150\n",
            "223/223 [==============================] - 0s 1ms/step - loss: 0.1339\n",
            "Epoch 117/150\n",
            "223/223 [==============================] - 0s 1ms/step - loss: 0.1329\n",
            "Epoch 118/150\n",
            "223/223 [==============================] - 0s 1ms/step - loss: 0.1337\n",
            "Epoch 119/150\n",
            "223/223 [==============================] - 0s 1ms/step - loss: 0.1337\n",
            "Epoch 120/150\n",
            "223/223 [==============================] - 0s 1ms/step - loss: 0.1333\n",
            "Epoch 121/150\n",
            "223/223 [==============================] - 0s 1ms/step - loss: 0.1325\n",
            "Epoch 122/150\n",
            "223/223 [==============================] - 0s 1ms/step - loss: 0.1320\n",
            "Epoch 123/150\n",
            "223/223 [==============================] - 0s 1ms/step - loss: 0.1310\n",
            "Epoch 124/150\n",
            "223/223 [==============================] - 0s 1ms/step - loss: 0.1319\n",
            "Epoch 125/150\n",
            "223/223 [==============================] - 0s 1ms/step - loss: 0.1312\n",
            "Epoch 126/150\n",
            "223/223 [==============================] - 0s 1ms/step - loss: 0.1317\n",
            "Epoch 127/150\n",
            "223/223 [==============================] - 0s 1ms/step - loss: 0.1307\n",
            "Epoch 128/150\n",
            "223/223 [==============================] - 0s 1ms/step - loss: 0.1305\n",
            "Epoch 129/150\n",
            "223/223 [==============================] - 0s 1ms/step - loss: 0.1297\n",
            "Epoch 130/150\n",
            "223/223 [==============================] - 0s 1ms/step - loss: 0.1304\n",
            "Epoch 131/150\n",
            "223/223 [==============================] - 0s 1ms/step - loss: 0.1309\n",
            "Epoch 132/150\n",
            "223/223 [==============================] - 0s 1ms/step - loss: 0.1296\n",
            "Epoch 133/150\n",
            "223/223 [==============================] - 0s 1ms/step - loss: 0.1305\n",
            "Epoch 134/150\n",
            "223/223 [==============================] - 0s 1ms/step - loss: 0.1304\n",
            "Epoch 135/150\n",
            "223/223 [==============================] - 0s 1ms/step - loss: 0.1292\n",
            "Epoch 136/150\n",
            "223/223 [==============================] - 0s 1ms/step - loss: 0.1296\n",
            "Epoch 137/150\n",
            "223/223 [==============================] - 0s 1ms/step - loss: 0.1281\n",
            "Epoch 138/150\n",
            "223/223 [==============================] - 0s 1ms/step - loss: 0.1286\n",
            "Epoch 139/150\n",
            "223/223 [==============================] - 0s 1ms/step - loss: 0.1283\n",
            "Epoch 140/150\n",
            "223/223 [==============================] - 0s 1ms/step - loss: 0.1287\n",
            "Epoch 141/150\n",
            "223/223 [==============================] - 0s 1ms/step - loss: 0.1278\n",
            "Epoch 142/150\n",
            "223/223 [==============================] - 0s 1ms/step - loss: 0.1277\n",
            "Epoch 143/150\n",
            "223/223 [==============================] - 0s 1ms/step - loss: 0.1277\n",
            "Epoch 144/150\n",
            "223/223 [==============================] - 0s 1ms/step - loss: 0.1290\n",
            "Epoch 145/150\n",
            "223/223 [==============================] - 0s 1ms/step - loss: 0.1280\n",
            "Epoch 146/150\n",
            "223/223 [==============================] - 0s 1ms/step - loss: 0.1265\n",
            "Epoch 147/150\n",
            "223/223 [==============================] - 0s 1ms/step - loss: 0.1276\n",
            "Epoch 148/150\n",
            "223/223 [==============================] - 0s 1ms/step - loss: 0.1282\n",
            "Epoch 149/150\n",
            "223/223 [==============================] - 0s 1ms/step - loss: 0.1272\n",
            "Epoch 150/150\n",
            "223/223 [==============================] - 0s 1ms/step - loss: 0.1267\n"
          ],
          "name": "stdout"
        }
      ]
    },
    {
      "cell_type": "code",
      "metadata": {
        "colab": {
          "base_uri": "https://localhost:8080/",
          "height": 281
        },
        "id": "4kburhFmez5J",
        "outputId": "787103d0-4bce-4b0c-9e4a-29ace91b2b18"
      },
      "source": [
        "plt.plot(trained_model.history[\"loss\"])"
      ],
      "execution_count": 199,
      "outputs": [
        {
          "output_type": "execute_result",
          "data": {
            "text/plain": [
              "[<matplotlib.lines.Line2D at 0x7f7e732f8650>]"
            ]
          },
          "metadata": {
            "tags": []
          },
          "execution_count": 199
        },
        {
          "output_type": "display_data",
          "data": {
            "image/png": "[encoded data removed]",
            "text/plain": [
              "<Figure size 432x288 with 1 Axes>"
            ]
          },
          "metadata": {
            "tags": [],
            "needs_background": "light"
          }
        }
      ]
    },
    {
      "cell_type": "code",
      "metadata": {
        "colab": {
          "base_uri": "https://localhost:8080/",
          "height": 0
        },
        "id": "fa_LHTuye3bI",
        "outputId": "79262d7c-4efa-4d76-8660-89b9a7767ea1"
      },
      "source": [
        "Y_pred = model.predict(X_test)\n",
        "Y_pred = np.where(Y_pred >= 0.5,1,0)\n",
        "\n",
        "\n",
        "print(classification_report(Y_test,Y_pred))\n",
        "smenn_acc = accuracy_score(Y_test,Y_pred)\n",
        "smenn_rec = recall_score(Y_test,Y_pred)\n",
        "smenn_p = precision_score(Y_test,Y_pred)\n",
        "smenn_f1 = f1_score(Y_test,Y_pred)\n",
        "print('Recall ->',smenn_rec)\n",
        "print('Precision ->',smenn_rec)\n",
        "print('F1 Score ->',smenn_f1)\n",
        "print('Accuracy ->',smenn_acc)"
      ],
      "execution_count": 200,
      "outputs": [
        {
          "output_type": "stream",
          "text": [
            "              precision    recall  f1-score   support\n",
            "\n",
            "           0       0.93      0.66      0.77      1585\n",
            "           1       0.46      0.85      0.59       528\n",
            "\n",
            "    accuracy                           0.71      2113\n",
            "   macro avg       0.69      0.76      0.68      2113\n",
            "weighted avg       0.81      0.71      0.73      2113\n",
            "\n",
            "Recall -> 0.8541666666666666\n",
            "Precision -> 0.8541666666666666\n",
            "F1 Score -> 0.5938117182356814\n",
            "Accuracy -> 0.7079981069569332\n"
          ],
          "name": "stdout"
        }
      ]
    },
    {
      "cell_type": "code",
      "metadata": {
        "id": "4VmQKMJ7e5yy"
      },
      "source": [
        "performance = pd.DataFrame([[actual_acc,under_acc,over_acc,smote_acc,ada_acc,smtom_acc,smenn_acc],\n",
        "              [actual_rec,under_rec,over_rec,smote_rec,ada_rec,smtom_rec,smenn_rec],\n",
        "              [actual_p,under_p,over_p,smote_p,ada_p,smtom_p,smenn_p],\n",
        "              [actual_f1,under_f1,over_f1,smote_f1,ada_f1,smtom_f1,smenn_f1]]).T\n",
        "\n",
        "performance.columns=['Accuracy','Recall','Precision','F1 Score']\n",
        "performance.index=['Actual','Under_Sampling','Over_Sampling','SMOTE','ADASYN','SMOTE+TOMEK','SMOTE+ENN']"
      ],
      "execution_count": 201,
      "outputs": []
    },
    {
      "cell_type": "code",
      "metadata": {
        "colab": {
          "base_uri": "https://localhost:8080/",
          "height": 264
        },
        "id": "npAAoH7LiS1T",
        "outputId": "552cf4e7-bc95-49f6-e82a-d2c09cf9ca77"
      },
      "source": [
        "performance"
      ],
      "execution_count": 202,
      "outputs": [
        {
          "output_type": "execute_result",
          "data": {
            "text/html": [
              "<div>\n",
              "<style scoped>\n",
              "    .dataframe tbody tr th:only-of-type {\n",
              "        vertical-align: middle;\n",
              "    }\n",
              "\n",
              "    .dataframe tbody tr th {\n",
              "        vertical-align: top;\n",
              "    }\n",
              "\n",
              "    .dataframe thead th {\n",
              "        text-align: right;\n",
              "    }\n",
              "</style>\n",
              "<table border=\"1\" class=\"dataframe\">\n",
              "  <thead>\n",
              "    <tr style=\"text-align: right;\">\n",
              "      <th></th>\n",
              "      <th>Accuracy</th>\n",
              "      <th>Recall</th>\n",
              "      <th>Precision</th>\n",
              "      <th>F1 Score</th>\n",
              "    </tr>\n",
              "  </thead>\n",
              "  <tbody>\n",
              "    <tr>\n",
              "      <th>Actual</th>\n",
              "      <td>0.795551</td>\n",
              "      <td>0.607955</td>\n",
              "      <td>0.587912</td>\n",
              "      <td>0.597765</td>\n",
              "    </tr>\n",
              "    <tr>\n",
              "      <th>Under_Sampling</th>\n",
              "      <td>0.721723</td>\n",
              "      <td>0.793561</td>\n",
              "      <td>0.466592</td>\n",
              "      <td>0.587658</td>\n",
              "    </tr>\n",
              "    <tr>\n",
              "      <th>Over_Sampling</th>\n",
              "      <td>0.746805</td>\n",
              "      <td>0.768939</td>\n",
              "      <td>0.495726</td>\n",
              "      <td>0.602821</td>\n",
              "    </tr>\n",
              "    <tr>\n",
              "      <th>SMOTE</th>\n",
              "      <td>0.728822</td>\n",
              "      <td>0.774621</td>\n",
              "      <td>0.473928</td>\n",
              "      <td>0.588066</td>\n",
              "    </tr>\n",
              "    <tr>\n",
              "      <th>ADASYN</th>\n",
              "      <td>0.724562</td>\n",
              "      <td>0.789773</td>\n",
              "      <td>0.469595</td>\n",
              "      <td>0.588983</td>\n",
              "    </tr>\n",
              "    <tr>\n",
              "      <th>SMOTE+TOMEK</th>\n",
              "      <td>0.761003</td>\n",
              "      <td>0.740530</td>\n",
              "      <td>0.515152</td>\n",
              "      <td>0.607615</td>\n",
              "    </tr>\n",
              "    <tr>\n",
              "      <th>SMOTE+ENN</th>\n",
              "      <td>0.707998</td>\n",
              "      <td>0.854167</td>\n",
              "      <td>0.455096</td>\n",
              "      <td>0.593812</td>\n",
              "    </tr>\n",
              "  </tbody>\n",
              "</table>\n",
              "</div>"
            ],
            "text/plain": [
              "                Accuracy    Recall  Precision  F1 Score\n",
              "Actual          0.795551  0.607955   0.587912  0.597765\n",
              "Under_Sampling  0.721723  0.793561   0.466592  0.587658\n",
              "Over_Sampling   0.746805  0.768939   0.495726  0.602821\n",
              "SMOTE           0.728822  0.774621   0.473928  0.588066\n",
              "ADASYN          0.724562  0.789773   0.469595  0.588983\n",
              "SMOTE+TOMEK     0.761003  0.740530   0.515152  0.607615\n",
              "SMOTE+ENN       0.707998  0.854167   0.455096  0.593812"
            ]
          },
          "metadata": {
            "tags": []
          },
          "execution_count": 202
        }
      ]
    },
    {
      "cell_type": "code",
      "metadata": {
        "colab": {
          "base_uri": "https://localhost:8080/",
          "height": 716
        },
        "id": "jIaK1qqhlpAw",
        "outputId": "9c7c78bc-b24e-42d1-893e-726bb3277bd9"
      },
      "source": [
        "plt.figure(figsize=(20,12))\n",
        "plt.subplot(2,2,1)\n",
        "sns.barplot(x=performance.Accuracy.values,y=performance.Accuracy.index)\n",
        "plt.title('Accuracy')\n",
        "\n",
        "plt.subplot(2,2,2)\n",
        "sns.barplot(x=performance.Recall.values,y=performance.Recall.index)\n",
        "plt.title('Recall')\n",
        "\n",
        "plt.subplot(2,2,3)\n",
        "sns.barplot(x=performance.Precision.values,y=performance.Precision.index)\n",
        "plt.title('Precision')\n",
        "\n",
        "plt.subplot(2,2,4)\n",
        "sns.barplot(x=performance['F1 Score'].values,y=performance['F1 Score'].index)\n",
        "plt.title('F1 Score')\n",
        "\n",
        "plt.show()"
      ],
      "execution_count": 203,
      "outputs": [
        {
          "output_type": "display_data",
          "data": {
            "image/png": "[encoded data removed]",
            "text/plain": [
              "<Figure size 1440x864 with 4 Axes>"
            ]
          },
          "metadata": {
            "tags": [],
            "needs_background": "light"
          }
        }
      ]
    },
    {
      "cell_type": "code",
      "metadata": {
        "id": "lq8v76V9l_Ui"
      },
      "source": [
        ""
      ],
      "execution_count": 203,
      "outputs": []
    },
    {
      "cell_type": "code",
      "metadata": {
        "id": "btjcWLImmA4s"
      },
      "source": [
        ""
      ],
      "execution_count": 203,
      "outputs": []
    }
  ]
}